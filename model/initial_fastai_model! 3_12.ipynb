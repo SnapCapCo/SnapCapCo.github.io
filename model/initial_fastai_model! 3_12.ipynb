{
 "cells": [
  {
   "cell_type": "markdown",
   "metadata": {
    "colab_type": "text",
    "id": "LaJx1Px1xVdG"
   },
   "source": [
    "#Face Classification by Emotion\n"
   ]
  },
  {
   "cell_type": "markdown",
   "metadata": {
    "colab_type": "text",
    "id": "1i8Ssks8xVdJ"
   },
   "source": [
    "Adapted from fastai lesson 0 notebook"
   ]
  },
  {
   "cell_type": "markdown",
   "metadata": {
    "colab_type": "text",
    "id": "GMRm-iKq-SOD"
   },
   "source": []
  },
  {
   "cell_type": "code",
   "execution_count": 1,
   "metadata": {
    "colab": {},
    "colab_type": "code",
    "id": "2V4UF6gsxVdK"
   },
   "outputs": [],
   "source": [
    "%reload_ext autoreload\n",
    "%autoreload 2\n",
    "%matplotlib inline"
   ]
  },
  {
   "cell_type": "markdown",
   "metadata": {
    "colab_type": "text",
    "id": "quLnimcfGj2w"
   },
   "source": [
    "possible fix for ImageCleaner bug -- install conda? currently conda is not recognized command\n"
   ]
  },
  {
   "cell_type": "code",
   "execution_count": 2,
   "metadata": {
    "colab": {
     "base_uri": "https://localhost:8080/",
     "height": 51
    },
    "colab_type": "code",
    "id": "NegYp7Re2Wii",
    "outputId": "9deb8a87-4f19-4635-935e-822c3f52931e"
   },
   "outputs": [],
   "source": [
    "\n",
    "# conda update conda\n",
    "# conda install -c fastai fastai"
   ]
  },
  {
   "cell_type": "markdown",
   "metadata": {
    "colab_type": "text",
    "id": "kSiGeOYdxVdQ"
   },
   "source": [
    "We import all the necessary packages. We are going to work with the [fastai V1 library](http://www.fast.ai/2018/10/02/fastai-ai/) which sits on top of [Pytorch 1.0](https://hackernoon.com/pytorch-1-0-468332ba5163). The fastai library provides many useful functions that enable us to quickly and easily build neural networks and train our models."
   ]
  },
  {
   "cell_type": "code",
   "execution_count": 3,
   "metadata": {
    "colab": {},
    "colab_type": "code",
    "id": "EOWllhvpxVdR"
   },
   "outputs": [],
   "source": [
    "from fastai.vision import *\n",
    "from fastai.metrics import error_rate"
   ]
  },
  {
   "cell_type": "code",
   "execution_count": 4,
   "metadata": {
    "colab": {
     "base_uri": "https://localhost:8080/",
     "height": 34
    },
    "colab_type": "code",
    "id": "ZIvgnkzI-DBH",
    "outputId": "b77bfd4e-a270-4301-f60c-8860da8e7d66"
   },
   "outputs": [
    {
     "name": "stdout",
     "output_type": "stream",
     "text": [
      "00_notebook_tutorial.ipynb        lesson3-planet.ipynb\r\n",
      "Class5Activity.ipynb              lesson4-collab.ipynb\r\n",
      "\u001b[0m\u001b[01;36mdata\u001b[0m@                             lesson4-tabular.ipynb\r\n",
      "faces 1.0!.ipynb                  lesson5-sgd-mnist.ipynb\r\n",
      "\u001b[01;34mimages\u001b[0m/                           lesson6-pets-more.ipynb\r\n",
      "initial_fastai_model! 3_12.ipynb  lesson6-rossmann.ipynb\r\n",
      "initial_fastai_model!.ipynb       lesson7-human-numbers.ipynb\r\n",
      "lesson1-pets.ipynb                lesson7-resnet-mnist.ipynb\r\n",
      "lesson2-download.ipynb            lesson7-superres-gan.ipynb\r\n",
      "lesson2-sgd.ipynb                 lesson7-superres-imagenet.ipynb\r\n",
      "lesson3-camvid-tiramisu.ipynb     lesson7-superres.ipynb\r\n",
      "lesson3-camvid.ipynb              lesson7-wgan.ipynb\r\n",
      "lesson3-head-pose.ipynb           rossman_data_clean.ipynb\r\n",
      "lesson3-imdb.ipynb\r\n"
     ]
    }
   ],
   "source": [
    "ls"
   ]
  },
  {
   "cell_type": "code",
   "execution_count": null,
   "metadata": {
    "colab": {},
    "colab_type": "code",
    "id": "mQgVf0b40rTE"
   },
   "outputs": [],
   "source": [
    "# mkdir data"
   ]
  },
  {
   "cell_type": "markdown",
   "metadata": {
    "colab_type": "text",
    "id": "O_rQ6sghxVdT"
   },
   "source": [
    "If you're using a computer with an unusually small GPU, you may get an out of memory error when running this notebook. If this happens, click Kernel->Restart, uncomment the 2nd line below to use a smaller *batch size* (you'll learn all about what this means during the course), and try again."
   ]
  },
  {
   "cell_type": "code",
   "execution_count": 5,
   "metadata": {
    "colab": {},
    "colab_type": "code",
    "id": "hTVAQvGMxVdU"
   },
   "outputs": [],
   "source": [
    "bs = 64\n",
    "#bs = 16   # uncomment this line if you run out of memory even after clicking Kernel->Restart"
   ]
  },
  {
   "cell_type": "markdown",
   "metadata": {
    "colab_type": "text",
    "id": "QrGllU77xVdW"
   },
   "source": [
    "## Looking at the data"
   ]
  },
  {
   "cell_type": "markdown",
   "metadata": {
    "colab_type": "text",
    "id": "z31jq5sSxVdX"
   },
   "source": [
    "We are using a dataset from the 10k US Adult Faces Database, supplemented by google search results.\n",
    "Citation:\n",
    "Bainbridge, W.A., Isola, P., & Oliva, A. (2013). The intrinsic memorability of face images. Journal of Experimental Psychology: General. Journal of Experimental Psychology: General, 142(4), 1323-1334."
   ]
  },
  {
   "cell_type": "code",
   "execution_count": 5,
   "metadata": {
    "colab": {
     "base_uri": "https://localhost:8080/",
     "height": 34
    },
    "colab_type": "code",
    "id": "aufaSjKo6baV",
    "outputId": "c73c36bf-3642-4a4c-ac1f-4fe26c309f21"
   },
   "outputs": [
    {
     "name": "stdout",
     "output_type": "stream",
     "text": [
      "00_notebook_tutorial.ipynb\r\n",
      "06_Gratitude_Up_Your_Happiness_Factor_488182127_lzf.jpg\r\n",
      "1-smile-smile.jpg\r\n",
      "1456450483903032.jpg\r\n",
      "14629458465_6eae5690a3_z1.jpg\r\n",
      "3-2-happy-person-png-clipart-thumb.png\r\n",
      "3DA81428-2189-43E2-85334C723D882F28_source.jpg\r\n",
      "427394C200000578-4707164-Happy_people_are_healthier_Some_65_percent_of_relevant_studies_f-m-21_1500384450707.jpg\r\n",
      "42948-happy-young-woman-eyes-closed1.jpg\r\n",
      "56a7e43b58c32378008b55c8-750.jpg\r\n",
      "5b9e7d542100003100c5f33e.jpeg\r\n",
      "635729578575874189854766385_a20759d7836367c3_happy.xxxlarge.jpg\r\n",
      "648_perks-of-happiness.jpg\r\n",
      "7565083.jpg\r\n",
      "7786106.jpg\r\n",
      "8813468-happy-girl-wallpaper.jpg\r\n",
      "A-grateful-person-is-a-happy-person.jpg\r\n",
      "Are-you-happy-with-who-you-are.jpg\r\n",
      "Are-you-truly-happy.jpg\r\n",
      "Brief-TooHappy-CrazySmile-small.jpg\r\n",
      "Class5Activity (Most Recent).ipynb\r\n",
      "Geniuenly-Happy-People.jpg\r\n",
      "Happiness.jpg\r\n",
      "Happy-Baby-Names.jpg\r\n",
      "Happy-Boy.jpg\r\n",
      "Happy-Man.jpg\r\n",
      "Happy-People.jpg\r\n",
      "Happy-Person-PNG-File.png\r\n",
      "Happy-Person-PNG-Picture.png\r\n",
      "Happy-Person-at-Work.jpg\r\n",
      "Happy-Person.jpg\r\n",
      "Happy.jpg\r\n",
      "Hapy-woman-in-the-rain.jpg\r\n",
      "Here-Are-7-Habits-All-Happy-People-Have.png\r\n",
      "Kriyananda-pranam-300x334.jpg\r\n",
      "SOHP.com-Happy-Girl-in-Fall-Leaves.jpg\r\n",
      "Senior-Couple-Sitting-On-Outdoor-Seat-Together.jpg\r\n",
      "_81787782_thinkstockphotos-122407402.jpg\r\n",
      "a-happy-person-stress-free.jpg\r\n",
      "art_of_laughter2.jpg\r\n",
      "awesome-ways-to-be-a-happier-person.jpg\r\n",
      "boy-992080_960_720.jpg\r\n",
      "cartoon-happy-person-eps-vector_csp15557547.jpg\r\n",
      "data\r\n",
      "dd470f5b-634e-11e7-a52c-fd9cf0895f64.png\r\n",
      "dv2051009.jpg\r\n",
      "emma-kenny.jpg\r\n",
      "getty_143919450_970647970450097_58844.jpg\r\n",
      "getty_535201043_200013341818843182376_164151.jpg\r\n",
      "happiness-300px1.jpg\r\n",
      "happiness.jpg\r\n",
      "happiness0.jpg\r\n",
      "happiness1.jpg\r\n",
      "happy-baby-3-390x285.jpg\r\n",
      "happy-black-man.png\r\n",
      "happy-girl-field.jpg\r\n",
      "happy-man-1.jpeg\r\n",
      "happy-person-11545688384vamjrocgzq.png\r\n",
      "happy-person-11545688386mm7x5mgl2z.png\r\n",
      "happy-person-11545691810fan11zca4m.png\r\n",
      "happy-person-11545691823dhewjhqnec.png\r\n",
      "happy-person-picture-5a21f421c0cae2.9055000115121746257897.jpg\r\n",
      "happy-person.jpg\r\n",
      "happy-person.png\r\n",
      "happy-person0.jpg\r\n",
      "happy-person0.png\r\n",
      "happy-person1.jpg\r\n",
      "happy-person2.jpg\r\n",
      "happy-woman-4943.jpg\r\n",
      "happy-woman-isolated.jpg\r\n",
      "happy-woman-smiling-eyes-closed.jpg\r\n",
      "happy-woman-sunshine.jpg\r\n",
      "happy.jpeg\r\n",
      "happy.jpg\r\n",
      "happy0.jpg\r\n",
      "happy_person_png_641733.png\r\n",
      "hirsohn_anderson_rainsford_c3 (1).ipynb\r\n",
      "how-i-became-happy-person.jpg\r\n",
      "how-to-be-happy.jpg\r\n",
      "iStock-918377480-400x400.jpg\r\n",
      "image.jpg\r\n",
      "images\r\n",
      "initial_fastai_model!.ipynb\r\n",
      "intro_650x433.jpg\r\n",
      "laugh1_24055.jpg\r\n",
      "leaping-woman-p.jpeg\r\n",
      "lesson1-pets.ipynb\r\n",
      "lesson2-download.ipynb\r\n",
      "lesson2-sgd.ipynb\r\n",
      "lesson3-camvid-tiramisu.ipynb\r\n",
      "lesson3-camvid.ipynb\r\n",
      "lesson3-head-pose.ipynb\r\n",
      "lesson3-imdb.ipynb\r\n",
      "lesson3-planet.ipynb\r\n",
      "lesson4-collab.ipynb\r\n",
      "lesson4-tabular.ipynb\r\n",
      "lesson5-sgd-mnist.ipynb\r\n",
      "lesson6-pets-more.ipynb\r\n",
      "lesson6-rossmann.ipynb\r\n",
      "lesson7-human-numbers.ipynb\r\n",
      "lesson7-resnet-mnist.ipynb\r\n",
      "lesson7-superres-gan.ipynb\r\n",
      "lesson7-superres-imagenet.ipynb\r\n",
      "lesson7-superres.ipynb\r\n",
      "lesson7-wgan.ipynb\r\n",
      "modi-policy-story_647_111616042241_051617061637.jpg\r\n",
      "o-BIG-SMILE-570.jpg\r\n",
      "o-HAPPY-facebook.jpg\r\n",
      "o17BxS-happy-person-picture.png\r\n",
      "oldlady425-425x239.jpg\r\n",
      "pexels-photo-1282169.jpeg\r\n",
      "physed-happiness-facebookJumbo.jpg\r\n",
      "positive-people.jpg\r\n",
      "riskshappypeopletakeh_1384254283_1100x513.jpg\r\n",
      "rossman_data_clean.ipynb\r\n",
      "shutterstock_139764052.jpg\r\n",
      "shutterstock_387122728.jpg\r\n",
      "smiling-makes-you-happy-1.jpg\r\n",
      "successful-deal-happy-person-powerful-manager-713736.jpg\r\n",
      "sunglasses-summer-model-happy.jpg\r\n",
      "take-back-life.jpg\r\n",
      "troy-stoneking.jpg\r\n",
      "what-makes-people-happy1.jpg\r\n",
      "xfmd5dd1635424813229150675.jpg\r\n"
     ]
    }
   ],
   "source": [
    "!ls"
   ]
  },
  {
   "cell_type": "code",
   "execution_count": 12,
   "metadata": {
    "colab": {},
    "colab_type": "code",
    "id": "pJoYwKrU8sRb"
   },
   "outputs": [
    {
     "name": "stdout",
     "output_type": "stream",
     "text": [
      "Archive:  data/FaceImages/fear.zip\n",
      "   creating: data/FaceImages/fear/fear/\n",
      "  inflating: data/FaceImages/fear/fear/Google_1_Ruth Hendry_17_oval copy.jpg  \n",
      "   creating: data/FaceImages/fear/__MACOSX/\n",
      "   creating: data/FaceImages/fear/__MACOSX/fear/\n",
      "  inflating: data/FaceImages/fear/__MACOSX/fear/._Google_1_Ruth Hendry_17_oval copy.jpg  \n",
      "  inflating: data/FaceImages/fear/fear/gem-lauris-rk-606993-unsplash copy.jpg  \n",
      "  inflating: data/FaceImages/fear/__MACOSX/fear/._gem-lauris-rk-606993-unsplash copy.jpg  \n",
      "  inflating: data/FaceImages/fear/fear/Google_1_Martin Whittington_1_oval copy.jpg  \n",
      "  inflating: data/FaceImages/fear/__MACOSX/fear/._Google_1_Martin Whittington_1_oval copy.jpg  \n",
      "  inflating: data/FaceImages/fear/fear/Google_1_Dale Winstead_7_oval copy.jpg  \n",
      "  inflating: data/FaceImages/fear/__MACOSX/fear/._Google_1_Dale Winstead_7_oval copy.jpg  \n",
      "  inflating: data/FaceImages/fear/fear/Google_1_Norman Sears_9_oval.jpg  \n",
      "  inflating: data/FaceImages/fear/__MACOSX/fear/._Google_1_Norman Sears_9_oval.jpg  \n",
      "  inflating: data/FaceImages/fear/fear/Google_1_John Stiltner_3_oval copy.jpg  \n",
      "  inflating: data/FaceImages/fear/__MACOSX/fear/._Google_1_John Stiltner_3_oval copy.jpg  \n",
      "  inflating: data/FaceImages/fear/fear/Google_1_Robert Rohr_5_oval copy.jpg  \n",
      "  inflating: data/FaceImages/fear/__MACOSX/fear/._Google_1_Robert Rohr_5_oval copy.jpg  \n",
      "  inflating: data/FaceImages/fear/fear/Google_1_Jonathan Koehn_15_oval copy.jpg  \n",
      "  inflating: data/FaceImages/fear/__MACOSX/fear/._Google_1_Jonathan Koehn_15_oval copy.jpg  \n",
      "  inflating: data/FaceImages/fear/fear/Google_1_Annie Viola_6_oval copy.jpg  \n",
      "  inflating: data/FaceImages/fear/__MACOSX/fear/._Google_1_Annie Viola_6_oval copy.jpg  \n",
      "  inflating: data/FaceImages/fear/fear/Fear_Of_Looking_Stupid_042418-800x450.jpg  \n",
      "  inflating: data/FaceImages/fear/__MACOSX/fear/._Fear_Of_Looking_Stupid_042418-800x450.jpg  \n",
      "  inflating: data/FaceImages/fear/fear/Google_1_Martin Whittington_1_oval.jpg  \n",
      "  inflating: data/FaceImages/fear/__MACOSX/fear/._Google_1_Martin Whittington_1_oval.jpg  \n",
      "  inflating: data/FaceImages/fear/fear/overcome-fear-of-aging.jpg  \n",
      "  inflating: data/FaceImages/fear/__MACOSX/fear/._overcome-fear-of-aging.jpg  \n",
      "  inflating: data/FaceImages/fear/fear/Google_1_Marvin Hodson_3_oval copy.jpg  \n",
      "  inflating: data/FaceImages/fear/__MACOSX/fear/._Google_1_Marvin Hodson_3_oval copy.jpg  \n",
      "  inflating: data/FaceImages/fear/fear/Google_1_Shelly Brophy_7_oval copy.jpg  \n",
      "  inflating: data/FaceImages/fear/__MACOSX/fear/._Google_1_Shelly Brophy_7_oval copy.jpg  \n",
      "  inflating: data/FaceImages/fear/fear/Google_1_Robert Rohr_5_oval.jpg  \n",
      "  inflating: data/FaceImages/fear/__MACOSX/fear/._Google_1_Robert Rohr_5_oval.jpg  \n",
      "  inflating: data/FaceImages/fear/fear/Google_1_Albert Waring_3_oval.jpg  \n",
      "  inflating: data/FaceImages/fear/__MACOSX/fear/._Google_1_Albert Waring_3_oval.jpg  \n",
      "  inflating: data/FaceImages/fear/fear/a4188959594_10 copy.jpg  \n",
      "  inflating: data/FaceImages/fear/__MACOSX/fear/._a4188959594_10 copy.jpg  \n",
      "  inflating: data/FaceImages/fear/fear/Google_1_Joshua Mckeown_5_oval copy.jpg  \n",
      "  inflating: data/FaceImages/fear/__MACOSX/fear/._Google_1_Joshua Mckeown_5_oval copy.jpg  \n",
      "  inflating: data/FaceImages/fear/fear/Google_1_Annie Hassell_9_oval copy.jpg  \n",
      "  inflating: data/FaceImages/fear/__MACOSX/fear/._Google_1_Annie Hassell_9_oval copy.jpg  \n",
      "  inflating: data/FaceImages/fear/fear/a4188959594_10.jpg  \n",
      "  inflating: data/FaceImages/fear/__MACOSX/fear/._a4188959594_10.jpg  \n",
      "  inflating: data/FaceImages/fear/fear/fear1 copy.jpg  \n",
      "  inflating: data/FaceImages/fear/__MACOSX/fear/._fear1 copy.jpg  \n",
      "  inflating: data/FaceImages/fear/fear/fear0 copy.jpg  \n",
      "  inflating: data/FaceImages/fear/__MACOSX/fear/._fear0 copy.jpg  \n",
      "  inflating: data/FaceImages/fear/fear/Google_1_Alicia Hollenbeck_152_oval copy.jpg  \n",
      "  inflating: data/FaceImages/fear/__MACOSX/fear/._Google_1_Alicia Hollenbeck_152_oval copy.jpg  \n",
      "  inflating: data/FaceImages/fear/fear/Google_1_Anthony Massengale_15_oval copy.jpg  \n",
      "  inflating: data/FaceImages/fear/__MACOSX/fear/._Google_1_Anthony Massengale_15_oval copy.jpg  \n",
      "  inflating: data/FaceImages/fear/fear/Google_1_Esther Skeens_13_oval copy.jpg  \n",
      "  inflating: data/FaceImages/fear/__MACOSX/fear/._Google_1_Esther Skeens_13_oval copy.jpg  \n",
      "  inflating: data/FaceImages/fear/fear/Google_1_Craig Odle_15_oval.jpg  \n",
      "  inflating: data/FaceImages/fear/__MACOSX/fear/._Google_1_Craig Odle_15_oval.jpg  \n",
      "  inflating: data/FaceImages/fear/fear/Google_1_Rachel Espinosa_7_oval (2).jpg  \n",
      "  inflating: data/FaceImages/fear/__MACOSX/fear/._Google_1_Rachel Espinosa_7_oval (2).jpg  \n",
      "  inflating: data/FaceImages/fear/fear/Google_1_Jimmy Welborn_9_oval copy.jpg  \n",
      "  inflating: data/FaceImages/fear/__MACOSX/fear/._Google_1_Jimmy Welborn_9_oval copy.jpg  \n",
      "  inflating: data/FaceImages/fear/fear/Alex-Honnold copy.jpg  \n",
      "  inflating: data/FaceImages/fear/__MACOSX/fear/._Alex-Honnold copy.jpg  \n",
      "  inflating: data/FaceImages/fear/fear/Google_1_Janice Western_19_oval copy.jpg  \n",
      "  inflating: data/FaceImages/fear/fear/Google_1_Michael Turcotte_15_oval copy.jpg  \n",
      "  inflating: data/FaceImages/fear/__MACOSX/fear/._Google_1_Michael Turcotte_15_oval copy.jpg  \n",
      "  inflating: data/FaceImages/fear/fear/Google_1_Jeffrey Kyser_11_oval.jpg  \n",
      "  inflating: data/FaceImages/fear/__MACOSX/fear/._Google_1_Jeffrey Kyser_11_oval.jpg  \n",
      "  inflating: data/FaceImages/fear/fear/Google_1_Clara Fuqua_13_oval.jpg  \n",
      "  inflating: data/FaceImages/fear/fear/Google_1_Mike Boatwright_7_oval copy.jpg  \n",
      "  inflating: data/FaceImages/fear/__MACOSX/fear/._Google_1_Mike Boatwright_7_oval copy.jpg  \n",
      "  inflating: data/FaceImages/fear/fear/dn17697-1_300 copy.jpg  \n",
      "  inflating: data/FaceImages/fear/__MACOSX/fear/._dn17697-1_300 copy.jpg  \n",
      "  inflating: data/FaceImages/fear/fear/181109-einstein-nazi-fears-01-1.jpg  \n",
      "  inflating: data/FaceImages/fear/__MACOSX/fear/._181109-einstein-nazi-fears-01-1.jpg  \n",
      "  inflating: data/FaceImages/fear/fear/Google_1_Sheri Pabon_13_oval.jpg  \n",
      "  inflating: data/FaceImages/fear/fear/Google_1_Johnny Bourg_17_oval.jpg  \n",
      "  inflating: data/FaceImages/fear/__MACOSX/fear/._Google_1_Johnny Bourg_17_oval.jpg  \n",
      "  inflating: data/FaceImages/fear/fear/Google_1_Marvin Liggett_15_oval copy.jpg  \n",
      "  inflating: data/FaceImages/fear/__MACOSX/fear/._Google_1_Marvin Liggett_15_oval copy.jpg  \n",
      "  inflating: data/FaceImages/fear/fear/Google_1_Kara Tsang_11_oval.jpg  \n",
      "  inflating: data/FaceImages/fear/__MACOSX/fear/._Google_1_Kara Tsang_11_oval.jpg  \n",
      "  inflating: data/FaceImages/fear/fear/Google_1_Annie Raymond_11_oval copy.jpg  \n",
      "  inflating: data/FaceImages/fear/__MACOSX/fear/._Google_1_Annie Raymond_11_oval copy.jpg  \n",
      "  inflating: data/FaceImages/fear/fear/Google_1_Katrina Barham_5_oval copy.jpg  \n",
      "  inflating: data/FaceImages/fear/fear/Google_1_Nathan Kiger_9_oval.jpg  \n",
      "  inflating: data/FaceImages/fear/__MACOSX/fear/._Google_1_Nathan Kiger_9_oval.jpg  \n",
      "  inflating: data/FaceImages/fear/fear/fear-remake-700x300.jpg  \n",
      "  inflating: data/FaceImages/fear/__MACOSX/fear/._fear-remake-700x300.jpg  \n",
      "  inflating: data/FaceImages/fear/fear/afraid_of_the_dark_image_via_shutterstock copy.jpg  \n",
      "  inflating: data/FaceImages/fear/__MACOSX/fear/._afraid_of_the_dark_image_via_shutterstock copy.jpg  \n",
      "  inflating: data/FaceImages/fear/fear/Google_1_Gary Moses_1_oval.jpg  \n",
      "  inflating: data/FaceImages/fear/__MACOSX/fear/._Google_1_Gary Moses_1_oval.jpg  \n",
      "  inflating: data/FaceImages/fear/fear/Google_1_Alicia Stallings_17_oval copy.jpg  \n",
      "  inflating: data/FaceImages/fear/__MACOSX/fear/._Google_1_Alicia Stallings_17_oval copy.jpg  \n",
      "  inflating: data/FaceImages/fear/fear/cc_iStock_78822855_LARGE-2_16x9 copy.jpg  \n",
      "  inflating: data/FaceImages/fear/__MACOSX/fear/._cc_iStock_78822855_LARGE-2_16x9 copy.jpg  \n",
      "  inflating: data/FaceImages/fear/fear/Google_1_Jonathan Delrosario_7_oval.jpg  \n",
      "  inflating: data/FaceImages/fear/__MACOSX/fear/._Google_1_Jonathan Delrosario_7_oval.jpg  \n",
      "  inflating: data/FaceImages/fear/fear/Google_1_Flora Jaques_19_oval copy.jpg  \n",
      "  inflating: data/FaceImages/fear/fear/Billy_Chasse_9_oval.jpg  \n",
      "  inflating: data/FaceImages/fear/__MACOSX/fear/._Billy_Chasse_9_oval.jpg  \n",
      "  inflating: data/FaceImages/fear/fear/Google_1_Douglas Quach_5_oval.jpg  \n",
      "  inflating: data/FaceImages/fear/__MACOSX/fear/._Google_1_Douglas Quach_5_oval.jpg  \n"
     ]
    },
    {
     "name": "stdout",
     "output_type": "stream",
     "text": [
      "  inflating: data/FaceImages/fear/fear/fear-the-walking-dead-trailer2.jpg  \n",
      "  inflating: data/FaceImages/fear/__MACOSX/fear/._fear-the-walking-dead-trailer2.jpg  \n",
      "  inflating: data/FaceImages/fear/fear/Google_1_Philip Criswell_7_oval copy.jpg  \n",
      "  inflating: data/FaceImages/fear/__MACOSX/fear/._Google_1_Philip Criswell_7_oval copy.jpg  \n",
      "  inflating: data/FaceImages/fear/fear/Google_1_Judy Josephson_14_oval.jpg  \n",
      "  inflating: data/FaceImages/fear/__MACOSX/fear/._Google_1_Judy Josephson_14_oval.jpg  \n",
      "  inflating: data/FaceImages/fear/fear/Google_1_Robert Bullins_7_oval.jpg  \n",
      "  inflating: data/FaceImages/fear/fear/774390d1-10a4-41c5-af6d-5935b4447e53.jpg  \n",
      "  inflating: data/FaceImages/fear/__MACOSX/fear/._774390d1-10a4-41c5-af6d-5935b4447e53.jpg  \n",
      "  inflating: data/FaceImages/fear/fear/https3A2F2Fblogs-images.forbes.com2Ferikkain2Ffiles2F20162F052FFear-The-Walking-Dead-Season-2-Alicia-1200x800.jpg  \n",
      "  inflating: data/FaceImages/fear/__MACOSX/fear/._https3A2F2Fblogs-images.forbes.com2Ferikkain2Ffiles2F20162F052FFear-The-Walking-Dead-Season-2-Alicia-1200x800.jpg  \n",
      "  inflating: data/FaceImages/fear/fear/cc_iStock_78822855_LARGE-2_16x9.jpg  \n",
      "  inflating: data/FaceImages/fear/__MACOSX/fear/._cc_iStock_78822855_LARGE-2_16x9.jpg  \n",
      "  inflating: data/FaceImages/fear/fear/Google_1_Jerry Leonardo_3_oval copy.jpg  \n",
      "  inflating: data/FaceImages/fear/__MACOSX/fear/._Google_1_Jerry Leonardo_3_oval copy.jpg  \n",
      "  inflating: data/FaceImages/fear/fear/Google_1_Marvin Jason_1_oval copy.jpg  \n",
      "  inflating: data/FaceImages/fear/__MACOSX/fear/._Google_1_Marvin Jason_1_oval copy.jpg  \n",
      "  inflating: data/FaceImages/fear/fear/FEAR_S4_PREPREM_LOOKATSEASON4B-800x450.jpg  \n",
      "  inflating: data/FaceImages/fear/__MACOSX/fear/._FEAR_S4_PREPREM_LOOKATSEASON4B-800x450.jpg  \n",
      "  inflating: data/FaceImages/fear/fear/Google_1_Harold Hopkins_15_oval.jpg  \n",
      "  inflating: data/FaceImages/fear/__MACOSX/fear/._Google_1_Harold Hopkins_15_oval.jpg  \n",
      "  inflating: data/FaceImages/fear/fear/Google_1_Harold Hopkins_15_oval copy.jpg  \n",
      "  inflating: data/FaceImages/fear/__MACOSX/fear/._Google_1_Harold Hopkins_15_oval copy.jpg  \n",
      "  inflating: data/FaceImages/fear/fear/.DS_Store  \n",
      "  inflating: data/FaceImages/fear/__MACOSX/fear/._.DS_Store  \n",
      "  inflating: data/FaceImages/fear/fear/fear2.jpg  \n",
      "  inflating: data/FaceImages/fear/__MACOSX/fear/._fear2.jpg  \n",
      "  inflating: data/FaceImages/fear/fear/Google_1_Mike Boatwright_7_oval.jpg  \n",
      "  inflating: data/FaceImages/fear/__MACOSX/fear/._Google_1_Mike Boatwright_7_oval.jpg  \n",
      "  inflating: data/FaceImages/fear/fear/Google_1_Martin Willey_13_oval.jpg  \n",
      "  inflating: data/FaceImages/fear/__MACOSX/fear/._Google_1_Martin Willey_13_oval.jpg  \n",
      "  inflating: data/FaceImages/fear/fear/Google_1_Bryan Stump_1_oval.jpg  \n",
      "  inflating: data/FaceImages/fear/__MACOSX/fear/._Google_1_Bryan Stump_1_oval.jpg  \n",
      "  inflating: data/FaceImages/fear/fear/Google_1_Marvin Hodson_3_oval.jpg  \n",
      "  inflating: data/FaceImages/fear/__MACOSX/fear/._Google_1_Marvin Hodson_3_oval.jpg  \n",
      "  inflating: data/FaceImages/fear/fear/overcoming-fear-melanoma-awareness copy.jpg  \n",
      "  inflating: data/FaceImages/fear/__MACOSX/fear/._overcoming-fear-melanoma-awareness copy.jpg  \n",
      "  inflating: data/FaceImages/fear/fear/fear3.jpg  \n",
      "  inflating: data/FaceImages/fear/__MACOSX/fear/._fear3.jpg  \n",
      "  inflating: data/FaceImages/fear/fear/istock-43660844-small copy.jpg  \n",
      "  inflating: data/FaceImages/fear/__MACOSX/fear/._istock-43660844-small copy.jpg  \n",
      "  inflating: data/FaceImages/fear/fear/Google_1_Shawn Charles_1_oval copy.jpg  \n",
      "  inflating: data/FaceImages/fear/fear/Google_1_Carlos Carrier_17_oval.jpg  \n",
      "  inflating: data/FaceImages/fear/__MACOSX/fear/._Google_1_Carlos Carrier_17_oval.jpg  \n",
      "  inflating: data/FaceImages/fear/fear/957e7531-2756-45a4-a995-657e3591455c-zaeh_bustle_apr2016-131.jpg  \n",
      "  inflating: data/FaceImages/fear/__MACOSX/fear/._957e7531-2756-45a4-a995-657e3591455c-zaeh_bustle_apr2016-131.jpg  \n",
      "  inflating: data/FaceImages/fear/fear/Google_1_William Ferris_1_oval copy.jpg  \n",
      "  inflating: data/FaceImages/fear/__MACOSX/fear/._Google_1_William Ferris_1_oval copy.jpg  \n",
      "  inflating: data/FaceImages/fear/fear/Google_1_Craig Wall_19_oval.jpg  \n",
      "  inflating: data/FaceImages/fear/__MACOSX/fear/._Google_1_Craig Wall_19_oval.jpg  \n",
      "  inflating: data/FaceImages/fear/fear/Google_1_Jonathan Koehn_15_oval.jpg  \n",
      "  inflating: data/FaceImages/fear/__MACOSX/fear/._Google_1_Jonathan Koehn_15_oval.jpg  \n",
      "  inflating: data/FaceImages/fear/fear/120319052055-scared-woman-portrait-story-top.jpg  \n",
      "  inflating: data/FaceImages/fear/__MACOSX/fear/._120319052055-scared-woman-portrait-story-top.jpg  \n",
      "  inflating: data/FaceImages/fear/fear/Google_1_Carlos Walters_15_oval.jpg  \n",
      "  inflating: data/FaceImages/fear/__MACOSX/fear/._Google_1_Carlos Walters_15_oval.jpg  \n",
      "  inflating: data/FaceImages/fear/fear/Google_1_Jesse Godwin_5_oval copy.jpg  \n",
      "  inflating: data/FaceImages/fear/__MACOSX/fear/._Google_1_Jesse Godwin_5_oval copy.jpg  \n",
      "  inflating: data/FaceImages/fear/fear/Google_1_Ruth Burk_9_oval copy.jpg  \n",
      "  inflating: data/FaceImages/fear/__MACOSX/fear/._Google_1_Ruth Burk_9_oval copy.jpg  \n",
      "  inflating: data/FaceImages/fear/fear/Google_1_Martin Willey_13_oval copy.jpg  \n",
      "  inflating: data/FaceImages/fear/__MACOSX/fear/._Google_1_Martin Willey_13_oval copy.jpg  \n",
      "  inflating: data/FaceImages/fear/fear/1.12350 copy.jpg  \n",
      "  inflating: data/FaceImages/fear/__MACOSX/fear/._1.12350 copy.jpg  \n",
      "  inflating: data/FaceImages/fear/fear/Google_1_Darlene Dowell_5_oval copy.jpg  \n",
      "  inflating: data/FaceImages/fear/__MACOSX/fear/._Google_1_Darlene Dowell_5_oval copy.jpg  \n",
      "  inflating: data/FaceImages/fear/fear/Google_1_Brandon Belt_17_oval.jpg  \n",
      "  inflating: data/FaceImages/fear/__MACOSX/fear/._Google_1_Brandon Belt_17_oval.jpg  \n",
      "  inflating: data/FaceImages/fear/fear/Google_1_Wilma Irvin_15_oval.jpg  \n",
      "  inflating: data/FaceImages/fear/fear/Google_1_Todd Murphy_5_oval.jpg  \n",
      "  inflating: data/FaceImages/fear/__MACOSX/fear/._Google_1_Todd Murphy_5_oval.jpg  \n",
      "  inflating: data/FaceImages/fear/fear/Google_1_Nathan Jump_11_oval.jpg  \n",
      "  inflating: data/FaceImages/fear/__MACOSX/fear/._Google_1_Nathan Jump_11_oval.jpg  \n",
      "  inflating: data/FaceImages/fear/fear/Google_1_Philip Criswell_7_oval.jpg  \n",
      "  inflating: data/FaceImages/fear/__MACOSX/fear/._Google_1_Philip Criswell_7_oval.jpg  \n",
      "  inflating: data/FaceImages/fear/fear/fear1.jpg  \n",
      "  inflating: data/FaceImages/fear/__MACOSX/fear/._fear1.jpg  \n",
      "  inflating: data/FaceImages/fear/fear/overcome-fear-of-aging copy.jpg  \n",
      "  inflating: data/FaceImages/fear/__MACOSX/fear/._overcome-fear-of-aging copy.jpg  \n",
      "  inflating: data/FaceImages/fear/fear/Google_1_Samuel Lindquist_5_oval copy.jpg  \n",
      "  inflating: data/FaceImages/fear/fear/fear01_banner.jpg  \n",
      "  inflating: data/FaceImages/fear/__MACOSX/fear/._fear01_banner.jpg  \n",
      "  inflating: data/FaceImages/fear/fear/fear0.jpg  \n",
      "  inflating: data/FaceImages/fear/__MACOSX/fear/._fear0.jpg  \n",
      "  inflating: data/FaceImages/fear/fear/Google_1_Eric Merrifield_9_oval.jpg  \n",
      "  inflating: data/FaceImages/fear/__MACOSX/fear/._Google_1_Eric Merrifield_9_oval.jpg  \n",
      "  inflating: data/FaceImages/fear/fear/Google_1_John Stiltner_3_oval.jpg  \n",
      "  inflating: data/FaceImages/fear/__MACOSX/fear/._Google_1_John Stiltner_3_oval.jpg  \n",
      "  inflating: data/FaceImages/fear/fear/Google_1_Gary Corona_11_oval.jpg  \n",
      "  inflating: data/FaceImages/fear/__MACOSX/fear/._Google_1_Gary Corona_11_oval.jpg  \n",
      "  inflating: data/FaceImages/fear/fear/fear-safety-leaving-abuse.jpg  \n",
      "  inflating: data/FaceImages/fear/__MACOSX/fear/._fear-safety-leaving-abuse.jpg  \n",
      "  inflating: data/FaceImages/fear/fear/afraid_of_the_dark_image_via_shutterstock.jpg  \n",
      "  inflating: data/FaceImages/fear/__MACOSX/fear/._afraid_of_the_dark_image_via_shutterstock.jpg  \n",
      "  inflating: data/FaceImages/fear/fear/Google_1_Michael Delgado_13_oval copy.jpg  \n",
      "  inflating: data/FaceImages/fear/__MACOSX/fear/._Google_1_Michael Delgado_13_oval copy.jpg  \n",
      "  inflating: data/FaceImages/fear/fear/fear-safety-leaving-abuse copy.jpg  \n",
      "  inflating: data/FaceImages/fear/__MACOSX/fear/._fear-safety-leaving-abuse copy.jpg  \n",
      "  inflating: data/FaceImages/fear/fear/Google_1_Eric Rader_1_oval.jpg  \n",
      "  inflating: data/FaceImages/fear/__MACOSX/fear/._Google_1_Eric Rader_1_oval.jpg  \n",
      "  inflating: data/FaceImages/fear/fear/maxresdefault0.jpg  \n",
      "  inflating: data/FaceImages/fear/__MACOSX/fear/._maxresdefault0.jpg  \n"
     ]
    },
    {
     "name": "stdout",
     "output_type": "stream",
     "text": [
      "  inflating: data/FaceImages/fear/fear/Anthony_Cavender_11_oval.jpg  \n",
      "  inflating: data/FaceImages/fear/__MACOSX/fear/._Anthony_Cavender_11_oval.jpg  \n",
      "  inflating: data/FaceImages/fear/fear/Google_1_Linda Morehouse_3_oval copy.jpg  \n",
      "  inflating: data/FaceImages/fear/__MACOSX/fear/._Google_1_Linda Morehouse_3_oval copy.jpg  \n",
      "  inflating: data/FaceImages/fear/fear/Google_1_Kara Tsang_11_oval copy.jpg  \n",
      "  inflating: data/FaceImages/fear/__MACOSX/fear/._Google_1_Kara Tsang_11_oval copy.jpg  \n",
      "  inflating: data/FaceImages/fear/fear/Google_1_Judith Stock_13_oval.jpg  \n",
      "  inflating: data/FaceImages/fear/fear/Google_1_Kristin Catalan_11_oval.jpg  \n",
      "  inflating: data/FaceImages/fear/__MACOSX/fear/._Google_1_Kristin Catalan_11_oval.jpg  \n",
      "  inflating: data/FaceImages/fear/fear/Google_1_Henry Marcum_5_oval.jpg  \n",
      "  inflating: data/FaceImages/fear/__MACOSX/fear/._Google_1_Henry Marcum_5_oval.jpg  \n",
      "  inflating: data/FaceImages/fear/fear/Google_1_Jessica Lacy_17_oval copy.jpg  \n",
      "  inflating: data/FaceImages/fear/__MACOSX/fear/._Google_1_Jessica Lacy_17_oval copy.jpg  \n",
      "  inflating: data/FaceImages/fear/fear/Google_1_Todd Murphy_5_oval copy.jpg  \n",
      "  inflating: data/FaceImages/fear/__MACOSX/fear/._Google_1_Todd Murphy_5_oval copy.jpg  \n",
      "  inflating: data/FaceImages/fear/fear/Google_1_Mike Boatwright_1_oval.jpg  \n",
      "  inflating: data/FaceImages/fear/__MACOSX/fear/._Google_1_Mike Boatwright_1_oval.jpg  \n",
      "  inflating: data/FaceImages/fear/fear/560475-mtvyoutubehed_0 copy.jpg  \n",
      "  inflating: data/FaceImages/fear/__MACOSX/fear/._560475-mtvyoutubehed_0 copy.jpg  \n",
      "  inflating: data/FaceImages/fear/fear/Google_1_Douglas Bouie_5_oval.jpg  \n",
      "  inflating: data/FaceImages/fear/__MACOSX/fear/._Google_1_Douglas Bouie_5_oval.jpg  \n",
      "  inflating: data/FaceImages/fear/fear/Google_1_Steve Canady_12_oval copy.jpg  \n",
      "  inflating: data/FaceImages/fear/__MACOSX/fear/._Google_1_Steve Canady_12_oval copy.jpg  \n",
      "  inflating: data/FaceImages/fear/fear/Bonnie_Ng_13_oval.jpg  \n",
      "  inflating: data/FaceImages/fear/__MACOSX/fear/._Bonnie_Ng_13_oval.jpg  \n",
      "  inflating: data/FaceImages/fear/fear/maxresdefault.jpg  \n",
      "  inflating: data/FaceImages/fear/__MACOSX/fear/._maxresdefault.jpg  \n",
      "  inflating: data/FaceImages/fear/fear/Google_1_Jimmy Welborn_9_oval.jpg  \n",
      "  inflating: data/FaceImages/fear/__MACOSX/fear/._Google_1_Jimmy Welborn_9_oval.jpg  \n",
      "  inflating: data/FaceImages/fear/fear/Google_1_Jessica Lacy_17_oval.jpg  \n",
      "  inflating: data/FaceImages/fear/__MACOSX/fear/._Google_1_Jessica Lacy_17_oval.jpg  \n",
      "  inflating: data/FaceImages/fear/fear/screen_shot_2016-08-09_at_2.26.12_pm-1366x734.jpg  \n",
      "  inflating: data/FaceImages/fear/__MACOSX/fear/._screen_shot_2016-08-09_at_2.26.12_pm-1366x734.jpg  \n",
      "  inflating: data/FaceImages/fear/fear/Google_1_Amelia Rupp_1_oval.jpg  \n",
      "  inflating: data/FaceImages/fear/__MACOSX/fear/._Google_1_Amelia Rupp_1_oval.jpg  \n",
      "  inflating: data/FaceImages/fear/fear/Google_1_Jerry Derose_9_oval.jpg  \n",
      "  inflating: data/FaceImages/fear/__MACOSX/fear/._Google_1_Jerry Derose_9_oval.jpg  \n",
      "  inflating: data/FaceImages/fear/fear/Google_1_Loretta Thatcher_1_oval.jpg  \n",
      "  inflating: data/FaceImages/fear/__MACOSX/fear/._Google_1_Loretta Thatcher_1_oval.jpg  \n",
      "  inflating: data/FaceImages/fear/fear/lovenotfearkids-w1700 copy.jpg  \n",
      "  inflating: data/FaceImages/fear/__MACOSX/fear/._lovenotfearkids-w1700 copy.jpg  \n",
      "  inflating: data/FaceImages/fear/fear/FEAR_S4_PREPREM_LOOKATSEASON4B-800x450 copy.jpg  \n",
      "  inflating: data/FaceImages/fear/__MACOSX/fear/._FEAR_S4_PREPREM_LOOKATSEASON4B-800x450 copy.jpg  \n",
      "  inflating: data/FaceImages/fear/fear/fear-being-alone.jpg  \n",
      "  inflating: data/FaceImages/fear/__MACOSX/fear/._fear-being-alone.jpg  \n",
      "  inflating: data/FaceImages/fear/fear/woman-gazing-past-shutter-350 copy.jpg  \n",
      "  inflating: data/FaceImages/fear/__MACOSX/fear/._woman-gazing-past-shutter-350 copy.jpg  \n",
      "  inflating: data/FaceImages/fear/fear/Google_1_Blanche Albaugh_5_oval.jpg  \n",
      "  inflating: data/FaceImages/fear/__MACOSX/fear/._Google_1_Blanche Albaugh_5_oval.jpg  \n",
      "  inflating: data/FaceImages/fear/fear/BabyFear1-998x703 copy.jpg  \n",
      "  inflating: data/FaceImages/fear/__MACOSX/fear/._BabyFear1-998x703 copy.jpg  \n",
      "  inflating: data/FaceImages/fear/fear/Google_1_Katrina Rathbone_1_oval.jpg  \n",
      "  inflating: data/FaceImages/fear/__MACOSX/fear/._Google_1_Katrina Rathbone_1_oval.jpg  \n",
      "  inflating: data/FaceImages/fear/fear/Google_1_Sonya Myles_5_oval.jpg  \n",
      "  inflating: data/FaceImages/fear/__MACOSX/fear/._Google_1_Sonya Myles_5_oval.jpg  \n",
      "  inflating: data/FaceImages/fear/fear/Brief-FearFaces-lowrez copy.jpg  \n",
      "  inflating: data/FaceImages/fear/__MACOSX/fear/._Brief-FearFaces-lowrez copy.jpg  \n",
      "  inflating: data/FaceImages/fear/fear/fear-of-music copy.jpg  \n",
      "  inflating: data/FaceImages/fear/__MACOSX/fear/._fear-of-music copy.jpg  \n",
      "  inflating: data/FaceImages/fear/fear/Google_1_Ernest Jefferies_17_oval copy.jpg  \n",
      "  inflating: data/FaceImages/fear/__MACOSX/fear/._Google_1_Ernest Jefferies_17_oval copy.jpg  \n",
      "  inflating: data/FaceImages/fear/fear/Google_1_Martin Szymanski_11_oval.jpg  \n",
      "  inflating: data/FaceImages/fear/__MACOSX/fear/._Google_1_Martin Szymanski_11_oval.jpg  \n",
      "  inflating: data/FaceImages/fear/fear/Google_1_Cora Ruppert_7_oval copy.jpg  \n",
      "  inflating: data/FaceImages/fear/__MACOSX/fear/._Google_1_Cora Ruppert_7_oval copy.jpg  \n",
      "  inflating: data/FaceImages/fear/fear/Google_1_Rachel Espinosa_7_oval (2) copy.jpg  \n",
      "  inflating: data/FaceImages/fear/__MACOSX/fear/._Google_1_Rachel Espinosa_7_oval (2) copy.jpg  \n",
      "  inflating: data/FaceImages/fear/fear/120319052055-scared-woman-portrait-story-top copy.jpg  \n",
      "  inflating: data/FaceImages/fear/__MACOSX/fear/._120319052055-scared-woman-portrait-story-top copy.jpg  \n",
      "  inflating: data/FaceImages/fear/fear/Google_1_Matthew Hickman_3_oval copy.jpg  \n",
      "  inflating: data/FaceImages/fear/__MACOSX/fear/._Google_1_Matthew Hickman_3_oval copy.jpg  \n",
      "  inflating: data/FaceImages/fear/fear/Google_1_Kathleen Guimond_3_oval copy.jpg  \n",
      "  inflating: data/FaceImages/fear/__MACOSX/fear/._Google_1_Kathleen Guimond_3_oval copy.jpg  \n",
      "  inflating: data/FaceImages/fear/fear/Google_1_Craig Wall_19_oval copy.jpg  \n",
      "  inflating: data/FaceImages/fear/__MACOSX/fear/._Google_1_Craig Wall_19_oval copy.jpg  \n",
      "  inflating: data/FaceImages/fear/fear/dn17697-1_300.jpg  \n",
      "  inflating: data/FaceImages/fear/__MACOSX/fear/._dn17697-1_300.jpg  \n",
      "  inflating: data/FaceImages/fear/fear/loneliness-fear.jpg  \n",
      "  inflating: data/FaceImages/fear/__MACOSX/fear/._loneliness-fear.jpg  \n",
      "  inflating: data/FaceImages/fear/fear/Google_1_Johnny Bourg_17_oval copy.jpg  \n",
      "  inflating: data/FaceImages/fear/__MACOSX/fear/._Google_1_Johnny Bourg_17_oval copy.jpg  \n",
      "  inflating: data/FaceImages/fear/fear/Google_1_Darlene Dowell_5_oval.jpg  \n",
      "  inflating: data/FaceImages/fear/__MACOSX/fear/._Google_1_Darlene Dowell_5_oval.jpg  \n",
      "  inflating: data/FaceImages/fear/fear/Google_1_Allen Buss_15_oval copy.jpg  \n",
      "  inflating: data/FaceImages/fear/__MACOSX/fear/._Google_1_Allen Buss_15_oval copy.jpg  \n",
      "  inflating: data/FaceImages/fear/fear/istock-43660844-small.jpg  \n",
      "  inflating: data/FaceImages/fear/__MACOSX/fear/._istock-43660844-small.jpg  \n",
      "  inflating: data/FaceImages/fear/fear/reduce-fear-and-anxiety-naturally copy.jpg  \n",
      "  inflating: data/FaceImages/fear/__MACOSX/fear/._reduce-fear-and-anxiety-naturally copy.jpg  \n",
      "  inflating: data/FaceImages/fear/fear/20100430-scared-woman-300x205 copy.jpg  \n",
      "  inflating: data/FaceImages/fear/__MACOSX/fear/._20100430-scared-woman-300x205 copy.jpg  \n",
      "  inflating: data/FaceImages/fear/fear/xfear-600.jpg.pagespeed.ic.h3ZYaCs_--.jpg  \n",
      "  inflating: data/FaceImages/fear/__MACOSX/fear/._xfear-600.jpg.pagespeed.ic.h3ZYaCs_--.jpg  \n",
      "  inflating: data/FaceImages/fear/fear/953969_087.jpg  \n",
      "  inflating: data/FaceImages/fear/__MACOSX/fear/._953969_087.jpg  \n",
      "  inflating: data/FaceImages/fear/fear/Google_1_Suzanne Haught_14_oval.jpg  \n",
      "  inflating: data/FaceImages/fear/__MACOSX/fear/._Google_1_Suzanne Haught_14_oval.jpg  \n",
      "  inflating: data/FaceImages/fear/fear/Google_1_Blanche Albaugh_5_oval copy.jpg  \n",
      "  inflating: data/FaceImages/fear/__MACOSX/fear/._Google_1_Blanche Albaugh_5_oval copy.jpg  \n",
      "  inflating: data/FaceImages/fear/fear/Google_1_Eric Merrifield_9_oval copy.jpg  \n",
      "  inflating: data/FaceImages/fear/__MACOSX/fear/._Google_1_Eric Merrifield_9_oval copy.jpg  \n"
     ]
    },
    {
     "name": "stdout",
     "output_type": "stream",
     "text": [
      "  inflating: data/FaceImages/fear/fear/Google_1_Hazel Chadwell_9_oval.jpg  \n",
      "  inflating: data/FaceImages/fear/__MACOSX/fear/._Google_1_Hazel Chadwell_9_oval.jpg  \n",
      "  inflating: data/FaceImages/fear/fear/Google_1_Heather Baca_5_oval.jpg  \n",
      "  inflating: data/FaceImages/fear/__MACOSX/fear/._Google_1_Heather Baca_5_oval.jpg  \n",
      "  inflating: data/FaceImages/fear/fear/entrepreneur_fear_of_failure-resized-600.jpgwidthu003d309u0026heightu003d205u0026nameu003dentrepreneur_fear_of_failure-resized-600.jpg  \n",
      "  inflating: data/FaceImages/fear/__MACOSX/fear/._entrepreneur_fear_of_failure-resized-600.jpgwidthu003d309u0026heightu003d205u0026nameu003dentrepreneur_fear_of_failure-resized-600.jpg  \n",
      "  inflating: data/FaceImages/fear/fear/Google_1_James Goodin_1_oval copy.jpg  \n",
      "  inflating: data/FaceImages/fear/__MACOSX/fear/._Google_1_James Goodin_1_oval copy.jpg  \n",
      "  inflating: data/FaceImages/fear/fear/Google_1_Charles Hagood_5_oval copy.jpg  \n",
      "  inflating: data/FaceImages/fear/__MACOSX/fear/._Google_1_Charles Hagood_5_oval copy.jpg  \n",
      "  inflating: data/FaceImages/fear/fear/Google_1_Albert Waring_3_oval copy.jpg  \n",
      "  inflating: data/FaceImages/fear/__MACOSX/fear/._Google_1_Albert Waring_3_oval copy.jpg  \n",
      "  inflating: data/FaceImages/fear/fear/howtoconfrontyourfearbasedthoughts copy.jpg  \n",
      "  inflating: data/FaceImages/fear/__MACOSX/fear/._howtoconfrontyourfearbasedthoughts copy.jpg  \n",
      "  inflating: data/FaceImages/fear/fear/Google_1_Felicia Cochran_9_oval.jpg  \n",
      "  inflating: data/FaceImages/fear/fear/Google_1_Bruce Forrester_1_oval.jpg  \n",
      "  inflating: data/FaceImages/fear/__MACOSX/fear/._Google_1_Bruce Forrester_1_oval.jpg  \n",
      "  inflating: data/FaceImages/fear/fear/screen-shot-2018-09-19-at-11-08-45-am.png  \n",
      "  inflating: data/FaceImages/fear/__MACOSX/fear/._screen-shot-2018-09-19-at-11-08-45-am.png  \n",
      "  inflating: data/FaceImages/fear/fear/957e7531-2756-45a4-a995-657e3591455c-zaeh_bustle_apr2016-131 copy.jpg  \n",
      "  inflating: data/FaceImages/fear/__MACOSX/fear/._957e7531-2756-45a4-a995-657e3591455c-zaeh_bustle_apr2016-131 copy.jpg  \n",
      "  inflating: data/FaceImages/fear/fear/Google_1_Clara Fuqua_13_oval copy.jpg  \n",
      "  inflating: data/FaceImages/fear/fear/Ernest_Mansell_1_oval copy.jpg  \n",
      "  inflating: data/FaceImages/fear/__MACOSX/fear/._Ernest_Mansell_1_oval copy.jpg  \n",
      "  inflating: data/FaceImages/fear/fear/Google_1_Nathan Kiger_9_oval copy.jpg  \n",
      "  inflating: data/FaceImages/fear/__MACOSX/fear/._Google_1_Nathan Kiger_9_oval copy.jpg  \n",
      "  inflating: data/FaceImages/fear/fear/Google_1_Leona Kirkman_3_oval.jpg  \n",
      "  inflating: data/FaceImages/fear/__MACOSX/fear/._Google_1_Leona Kirkman_3_oval.jpg  \n",
      "  inflating: data/FaceImages/fear/fear/Google_1_Karen Rosenberger_1_oval.jpg  \n",
      "  inflating: data/FaceImages/fear/__MACOSX/fear/._Google_1_Karen Rosenberger_1_oval.jpg  \n",
      "  inflating: data/FaceImages/fear/fear/file-20180524-51121-16msv1o copy.jpg  \n",
      "  inflating: data/FaceImages/fear/__MACOSX/fear/._file-20180524-51121-16msv1o copy.jpg  \n",
      "  inflating: data/FaceImages/fear/fear/Google_1_Craig Odle_15_oval copy.jpg  \n",
      "  inflating: data/FaceImages/fear/__MACOSX/fear/._Google_1_Craig Odle_15_oval copy.jpg  \n",
      "  inflating: data/FaceImages/fear/fear/Anthony_Hartsfield_11_oval copy.jpg  \n",
      "  inflating: data/FaceImages/fear/__MACOSX/fear/._Anthony_Hartsfield_11_oval copy.jpg  \n",
      "  inflating: data/FaceImages/fear/fear/Google_1_Kristin Hammons_1_oval.jpg  \n",
      "  inflating: data/FaceImages/fear/__MACOSX/fear/._Google_1_Kristin Hammons_1_oval.jpg  \n",
      "  inflating: data/FaceImages/fear/fear/Google_1_Karen Oxford_16_oval.jpg  \n",
      "  inflating: data/FaceImages/fear/__MACOSX/fear/._Google_1_Karen Oxford_16_oval.jpg  \n",
      "  inflating: data/FaceImages/fear/fear/Google_1_Anthony Pogue_3_oval copy.jpg  \n",
      "  inflating: data/FaceImages/fear/__MACOSX/fear/._Google_1_Anthony Pogue_3_oval copy.jpg  \n",
      "  inflating: data/FaceImages/fear/fear/gem-lauris-rk-606993-unsplash.jpg  \n",
      "  inflating: data/FaceImages/fear/__MACOSX/fear/._gem-lauris-rk-606993-unsplash.jpg  \n",
      "  inflating: data/FaceImages/fear/fear/FearI2 copy.png  \n",
      "  inflating: data/FaceImages/fear/__MACOSX/fear/._FearI2 copy.png  \n",
      "  inflating: data/FaceImages/fear/fear/Google_1_Jimmy Perrotta_5_oval copy.jpg  \n",
      "  inflating: data/FaceImages/fear/__MACOSX/fear/._Google_1_Jimmy Perrotta_5_oval copy.jpg  \n",
      "  inflating: data/FaceImages/fear/fear/steven-pressfield.jpg  \n",
      "  inflating: data/FaceImages/fear/__MACOSX/fear/._steven-pressfield.jpg  \n",
      "  inflating: data/FaceImages/fear/fear/Anthony_Cavender_11_oval copy.jpg  \n",
      "  inflating: data/FaceImages/fear/__MACOSX/fear/._Anthony_Cavender_11_oval copy.jpg  \n",
      "  inflating: data/FaceImages/fear/fear/Google_1_Elizabeth Condon_7_oval copy.jpg  \n",
      "  inflating: data/FaceImages/fear/__MACOSX/fear/._Google_1_Elizabeth Condon_7_oval copy.jpg  \n",
      "  inflating: data/FaceImages/fear/fear/Google_1_Melissa Sauer_5_oval copy.jpg  \n",
      "  inflating: data/FaceImages/fear/__MACOSX/fear/._Google_1_Melissa Sauer_5_oval copy.jpg  \n",
      "  inflating: data/FaceImages/fear/fear/Google_1_Joshua Mckeown_5_oval.jpg  \n",
      "  inflating: data/FaceImages/fear/__MACOSX/fear/._Google_1_Joshua Mckeown_5_oval.jpg  \n",
      "  inflating: data/FaceImages/fear/fear/Google_1_Kathleen Valerio_9_oval copy.jpg  \n",
      "  inflating: data/FaceImages/fear/__MACOSX/fear/._Google_1_Kathleen Valerio_9_oval copy.jpg  \n",
      "  inflating: data/FaceImages/fear/fear/Google_1_Leona Mather_5_oval.jpg  \n",
      "  inflating: data/FaceImages/fear/__MACOSX/fear/._Google_1_Leona Mather_5_oval.jpg  \n",
      "  inflating: data/FaceImages/fear/fear/Google_1_Leona Mather_5_oval copy.jpg  \n",
      "  inflating: data/FaceImages/fear/__MACOSX/fear/._Google_1_Leona Mather_5_oval copy.jpg  \n",
      "  inflating: data/FaceImages/fear/fear/blogimage copy.jpg  \n",
      "  inflating: data/FaceImages/fear/__MACOSX/fear/._blogimage copy.jpg  \n",
      "  inflating: data/FaceImages/fear/fear/Google_1_Mike Boatwright_17_oval.jpg  \n",
      "  inflating: data/FaceImages/fear/__MACOSX/fear/._Google_1_Mike Boatwright_17_oval.jpg  \n",
      "  inflating: data/FaceImages/fear/fear/Google_1_Albert Stites_9_oval.jpg  \n",
      "  inflating: data/FaceImages/fear/__MACOSX/fear/._Google_1_Albert Stites_9_oval.jpg  \n",
      "  inflating: data/FaceImages/fear/fear/fear-tile-different-fears.jpg  \n",
      "  inflating: data/FaceImages/fear/__MACOSX/fear/._fear-tile-different-fears.jpg  \n",
      "  inflating: data/FaceImages/fear/fear/Google_1_Jonathan Delrosario_7_oval copy.jpg  \n",
      "  inflating: data/FaceImages/fear/__MACOSX/fear/._Google_1_Jonathan Delrosario_7_oval copy.jpg  \n",
      "  inflating: data/FaceImages/fear/fear/MARINA_1.jpg  \n",
      "  inflating: data/FaceImages/fear/__MACOSX/fear/._MARINA_1.jpg  \n",
      "  inflating: data/FaceImages/fear/fear/howtoconfrontyourfearbasedthoughts.jpg  \n",
      "  inflating: data/FaceImages/fear/__MACOSX/fear/._howtoconfrontyourfearbasedthoughts.jpg  \n",
      "  inflating: data/FaceImages/fear/fear/Google_1_Kristen Weidner_3_oval.jpg  \n",
      "  inflating: data/FaceImages/fear/__MACOSX/fear/._Google_1_Kristen Weidner_3_oval.jpg  \n",
      "  inflating: data/FaceImages/fear/fear/Google_1_Jerry Oleary_11_oval copy.jpg  \n",
      "  inflating: data/FaceImages/fear/__MACOSX/fear/._Google_1_Jerry Oleary_11_oval copy.jpg  \n",
      "  inflating: data/FaceImages/fear/fear/phobia-boy-300x300 copy.jpg  \n",
      "  inflating: data/FaceImages/fear/__MACOSX/fear/._phobia-boy-300x300 copy.jpg  \n",
      "  inflating: data/FaceImages/fear/fear/774390d1-10a4-41c5-af6d-5935b4447e53 copy.jpg  \n",
      "  inflating: data/FaceImages/fear/__MACOSX/fear/._774390d1-10a4-41c5-af6d-5935b4447e53 copy.jpg  \n",
      "  inflating: data/FaceImages/fear/fear/fear-the-walking-dead-season-4-episode-4-frank-dillane-nick copy.jpg  \n",
      "  inflating: data/FaceImages/fear/__MACOSX/fear/._fear-the-walking-dead-season-4-episode-4-frank-dillane-nick copy.jpg  \n",
      "  inflating: data/FaceImages/fear/fear/Google_1_Paul Wills_11_oval.jpg  \n",
      "  inflating: data/FaceImages/fear/__MACOSX/fear/._Google_1_Paul Wills_11_oval.jpg  \n",
      "  inflating: data/FaceImages/fear/fear/Google_1_Julia Frantz_5_oval.jpg  \n",
      "  inflating: data/FaceImages/fear/__MACOSX/fear/._Google_1_Julia Frantz_5_oval.jpg  \n",
      "  inflating: data/FaceImages/fear/fear/Google_1_Jonathan Joubert_15_oval.jpg  \n",
      "  inflating: data/FaceImages/fear/__MACOSX/fear/._Google_1_Jonathan Joubert_15_oval.jpg  \n",
      "  inflating: data/FaceImages/fear/fear/Annie_Bivens_3_oval copy.jpg  \n",
      "  inflating: data/FaceImages/fear/__MACOSX/fear/._Annie_Bivens_3_oval copy.jpg  \n"
     ]
    },
    {
     "name": "stdout",
     "output_type": "stream",
     "text": [
      "  inflating: data/FaceImages/fear/fear/Google_1_Gary Moses_1_oval copy.jpg  \n",
      "  inflating: data/FaceImages/fear/__MACOSX/fear/._Google_1_Gary Moses_1_oval copy.jpg  \n",
      "  inflating: data/FaceImages/fear/fear/Google_1_Jason Audette_9_oval.jpg  \n",
      "  inflating: data/FaceImages/fear/fear/Google_1_Jill Leclerc_11_oval.jpg  \n",
      "  inflating: data/FaceImages/fear/__MACOSX/fear/._Google_1_Jill Leclerc_11_oval.jpg  \n",
      "  inflating: data/FaceImages/fear/fear/Google_1_Jeremy Napolitano_9_oval copy.jpg  \n",
      "  inflating: data/FaceImages/fear/__MACOSX/fear/._Google_1_Jeremy Napolitano_9_oval copy.jpg  \n",
      "  inflating: data/FaceImages/fear/fear/Google_1_Mike Boatwright_17_oval copy.jpg  \n",
      "  inflating: data/FaceImages/fear/__MACOSX/fear/._Google_1_Mike Boatwright_17_oval copy.jpg  \n",
      "  inflating: data/FaceImages/fear/fear/Google_1_Ronald Barham_1_oval copy 2.jpg  \n",
      "  inflating: data/FaceImages/fear/fear/Google_1_Jerry Derose_9_oval copy.jpg  \n",
      "  inflating: data/FaceImages/fear/__MACOSX/fear/._Google_1_Jerry Derose_9_oval copy.jpg  \n",
      "  inflating: data/FaceImages/fear/fear/86954286-portrait-of-bearded-guy-with-disgusted-expression-on-face copy.jpg  \n",
      "  inflating: data/FaceImages/fear/__MACOSX/fear/._86954286-portrait-of-bearded-guy-with-disgusted-expression-on-face copy.jpg  \n",
      "  inflating: data/FaceImages/fear/fear/15810_FEAR_S2_Promo_Reflections.jpg  \n",
      "  inflating: data/FaceImages/fear/__MACOSX/fear/._15810_FEAR_S2_Promo_Reflections.jpg  \n",
      "  inflating: data/FaceImages/fear/fear/Google_1_Jeffrey Kyser_11_oval copy.jpg  \n",
      "  inflating: data/FaceImages/fear/__MACOSX/fear/._Google_1_Jeffrey Kyser_11_oval copy.jpg  \n",
      "  inflating: data/FaceImages/fear/fear/dn27872-3_800.jpg  \n",
      "  inflating: data/FaceImages/fear/__MACOSX/fear/._dn27872-3_800.jpg  \n",
      "  inflating: data/FaceImages/fear/fear/overcoming-fear-melanoma-awareness.jpg  \n",
      "  inflating: data/FaceImages/fear/__MACOSX/fear/._overcoming-fear-melanoma-awareness.jpg  \n",
      "  inflating: data/FaceImages/fear/fear/Google_1_Sonya Myles_5_oval copy.jpg  \n",
      "  inflating: data/FaceImages/fear/__MACOSX/fear/._Google_1_Sonya Myles_5_oval copy.jpg  \n",
      "  inflating: data/FaceImages/fear/fear/Google_1_Robert Pyles_17_oval copy.jpg  \n",
      "  inflating: data/FaceImages/fear/__MACOSX/fear/._Google_1_Robert Pyles_17_oval copy.jpg  \n",
      "  inflating: data/FaceImages/fear/fear/Beverly_Nigro_9_oval.jpg  \n",
      "  inflating: data/FaceImages/fear/__MACOSX/fear/._Beverly_Nigro_9_oval.jpg  \n",
      "  inflating: data/FaceImages/fear/fear/76-og copy.jpg  \n",
      "  inflating: data/FaceImages/fear/__MACOSX/fear/._76-og copy.jpg  \n",
      "  inflating: data/FaceImages/fear/fear/Google_1_Joshua Regan_7_oval copy.jpg  \n",
      "  inflating: data/FaceImages/fear/__MACOSX/fear/._Google_1_Joshua Regan_7_oval copy.jpg  \n",
      "  inflating: data/FaceImages/fear/fear/Google_1_Wilma Irvin_15_oval copy.jpg  \n",
      "  inflating: data/FaceImages/fear/fear/Intuition.jpg  \n",
      "  inflating: data/FaceImages/fear/__MACOSX/fear/._Intuition.jpg  \n",
      "  inflating: data/FaceImages/fear/fear/Google_1_Karen Oxford_16_oval copy.jpg  \n",
      "  inflating: data/FaceImages/fear/__MACOSX/fear/._Google_1_Karen Oxford_16_oval copy.jpg  \n",
      "  inflating: data/FaceImages/fear/fear/953969_087 copy.jpg  \n",
      "  inflating: data/FaceImages/fear/__MACOSX/fear/._953969_087 copy.jpg  \n",
      "  inflating: data/FaceImages/fear/fear/Google_1_Ronald Barham_1_oval copy 3.jpg  \n",
      "  inflating: data/FaceImages/fear/__MACOSX/fear/._Google_1_Ronald Barham_1_oval copy 3.jpg  \n",
      "  inflating: data/FaceImages/fear/fear/Google_1_Michael Reddick_12_oval.jpg  \n",
      "  inflating: data/FaceImages/fear/__MACOSX/fear/._Google_1_Michael Reddick_12_oval.jpg  \n",
      "  inflating: data/FaceImages/fear/fear/lovenotfearkids-w1700.jpg  \n",
      "  inflating: data/FaceImages/fear/__MACOSX/fear/._lovenotfearkids-w1700.jpg  \n",
      "  inflating: data/FaceImages/fear/fear/Google_1_Robert Pyles_17_oval.jpg  \n",
      "  inflating: data/FaceImages/fear/__MACOSX/fear/._Google_1_Robert Pyles_17_oval.jpg  \n",
      "  inflating: data/FaceImages/fear/fear/Google_1_Harry Hickman_15_oval copy.jpg  \n",
      "  inflating: data/FaceImages/fear/__MACOSX/fear/._Google_1_Harry Hickman_15_oval copy.jpg  \n",
      "  inflating: data/FaceImages/fear/fear/blogimage.jpg  \n",
      "  inflating: data/FaceImages/fear/__MACOSX/fear/._blogimage.jpg  \n",
      "  inflating: data/FaceImages/fear/fear/Google_1_Dale Winstead_7_oval.jpg  \n",
      "  inflating: data/FaceImages/fear/__MACOSX/fear/._Google_1_Dale Winstead_7_oval.jpg  \n",
      "  inflating: data/FaceImages/fear/fear/dn27872-3_800 copy.jpg  \n",
      "  inflating: data/FaceImages/fear/__MACOSX/fear/._dn27872-3_800 copy.jpg  \n",
      "  inflating: data/FaceImages/fear/fear/Google_1_Hazel Chadwell_9_oval copy.jpg  \n",
      "  inflating: data/FaceImages/fear/__MACOSX/fear/._Google_1_Hazel Chadwell_9_oval copy.jpg  \n",
      "  inflating: data/FaceImages/fear/fear/small-baby-fear-mother-600x483.jpg  \n",
      "  inflating: data/FaceImages/fear/__MACOSX/fear/._small-baby-fear-mother-600x483.jpg  \n",
      "  inflating: data/FaceImages/fear/fear/Google_1_Jill Leclerc_11_oval copy.jpg  \n",
      "  inflating: data/FaceImages/fear/__MACOSX/fear/._Google_1_Jill Leclerc_11_oval copy.jpg  \n",
      "  inflating: data/FaceImages/fear/fear/Google_1_Ronald Barham_1_oval.jpg  \n",
      "  inflating: data/FaceImages/fear/__MACOSX/fear/._Google_1_Ronald Barham_1_oval.jpg  \n",
      "  inflating: data/FaceImages/fear/fear/Google_1_Jeremy Napolitano_9_oval.jpg  \n",
      "  inflating: data/FaceImages/fear/__MACOSX/fear/._Google_1_Jeremy Napolitano_9_oval.jpg  \n",
      "  inflating: data/FaceImages/fear/fear/Google_1_Robert Simpkins_3_oval copy.jpg  \n",
      "  inflating: data/FaceImages/fear/__MACOSX/fear/._Google_1_Robert Simpkins_3_oval copy.jpg  \n",
      "  inflating: data/FaceImages/fear/fear/Fear-of-Flying-Breathe-Properly.jpg  \n",
      "  inflating: data/FaceImages/fear/__MACOSX/fear/._Fear-of-Flying-Breathe-Properly.jpg  \n",
      "  inflating: data/FaceImages/fear/fear/Google_1_Jerry Oleary_11_oval.jpg  \n",
      "  inflating: data/FaceImages/fear/__MACOSX/fear/._Google_1_Jerry Oleary_11_oval.jpg  \n",
      "  inflating: data/FaceImages/fear/fear/vladimir-putin-fears copy.jpg  \n",
      "  inflating: data/FaceImages/fear/__MACOSX/fear/._vladimir-putin-fears copy.jpg  \n",
      "  inflating: data/FaceImages/fear/fear/Google_1_Jonathan Joubert_15_oval copy.jpg  \n",
      "  inflating: data/FaceImages/fear/__MACOSX/fear/._Google_1_Jonathan Joubert_15_oval copy.jpg  \n",
      "  inflating: data/FaceImages/fear/fear/Google_1_Nathan Jump_11_oval copy.jpg  \n",
      "  inflating: data/FaceImages/fear/__MACOSX/fear/._Google_1_Nathan Jump_11_oval copy.jpg  \n",
      "  inflating: data/FaceImages/fear/fear/Google_1_James Goodin_1_oval.jpg  \n",
      "  inflating: data/FaceImages/fear/__MACOSX/fear/._Google_1_James Goodin_1_oval.jpg  \n",
      "  inflating: data/FaceImages/fear/fear/Google_1_Felicia Cochran_9_oval copy.jpg  \n",
      "  inflating: data/FaceImages/fear/fear/file-20180524-51121-16msv1o.jpg  \n",
      "  inflating: data/FaceImages/fear/__MACOSX/fear/._file-20180524-51121-16msv1o.jpg  \n",
      "  inflating: data/FaceImages/fear/fear/Google_1_Katrina Barham_5_oval.jpg  \n",
      "  inflating: data/FaceImages/fear/fear/Google_1_Ann Pullen_3_oval.jpg  \n",
      "  inflating: data/FaceImages/fear/__MACOSX/fear/._Google_1_Ann Pullen_3_oval.jpg  \n",
      "  inflating: data/FaceImages/fear/fear/15810_FEAR_S2_Promo_Reflections copy.jpg  \n",
      "  inflating: data/FaceImages/fear/__MACOSX/fear/._15810_FEAR_S2_Promo_Reflections copy.jpg  \n",
      "  inflating: data/FaceImages/fear/fear/vladimir-putin-fears.jpg  \n",
      "  inflating: data/FaceImages/fear/__MACOSX/fear/._vladimir-putin-fears.jpg  \n",
      "  inflating: data/FaceImages/fear/fear/Google_1_Ann Pullen_3_oval copy.jpg  \n",
      "  inflating: data/FaceImages/fear/__MACOSX/fear/._Google_1_Ann Pullen_3_oval copy.jpg  \n",
      "  inflating: data/FaceImages/fear/fear/onfear.jpg  \n",
      "  inflating: data/FaceImages/fear/__MACOSX/fear/._onfear.jpg  \n",
      "  inflating: data/FaceImages/fear/fear/Google_1_Jerry Summerlin_1_oval.jpg  \n",
      "  inflating: data/FaceImages/fear/__MACOSX/fear/._Google_1_Jerry Summerlin_1_oval.jpg  \n",
      "  inflating: data/FaceImages/fear/fear/Google_1_Ruby Shively_7_oval.jpg  \n",
      "  inflating: data/FaceImages/fear/fear/Google_1_Jill Birch_17_oval.jpg  \n",
      "  inflating: data/FaceImages/fear/__MACOSX/fear/._Google_1_Jill Birch_17_oval.jpg  \n",
      "  inflating: data/FaceImages/fear/fear/Google_1_Henry Marcum_5_oval copy.jpg  \n",
      "  inflating: data/FaceImages/fear/__MACOSX/fear/._Google_1_Henry Marcum_5_oval copy.jpg  \n",
      "  inflating: data/FaceImages/fear/fear/Google_1_Jesse Godwin_5_oval.jpg  \n",
      "  inflating: data/FaceImages/fear/__MACOSX/fear/._Google_1_Jesse Godwin_5_oval.jpg  \n"
     ]
    },
    {
     "name": "stdout",
     "output_type": "stream",
     "text": [
      "  inflating: data/FaceImages/fear/fear/Google_1_Marlene Morehouse_9_oval.jpg  \n",
      "  inflating: data/FaceImages/fear/__MACOSX/fear/._Google_1_Marlene Morehouse_9_oval.jpg  \n",
      "  inflating: data/FaceImages/fear/fear/Google_1_Annie Raymond_11_oval.jpg  \n",
      "  inflating: data/FaceImages/fear/__MACOSX/fear/._Google_1_Annie Raymond_11_oval.jpg  \n",
      "  inflating: data/FaceImages/fear/fear/Billy_Chasse_9_oval copy.jpg  \n",
      "  inflating: data/FaceImages/fear/__MACOSX/fear/._Billy_Chasse_9_oval copy.jpg  \n",
      "  inflating: data/FaceImages/fear/fear/Google_1_Melody Barnett_1_oval.jpg  \n",
      "  inflating: data/FaceImages/fear/__MACOSX/fear/._Google_1_Melody Barnett_1_oval.jpg  \n",
      "  inflating: data/FaceImages/fear/fear/181109-einstein-nazi-fears-01-1 copy.jpg  \n",
      "  inflating: data/FaceImages/fear/__MACOSX/fear/._181109-einstein-nazi-fears-01-1 copy.jpg  \n",
      "  inflating: data/FaceImages/fear/fear/Google_1_Carlos Walters_15_oval copy.jpg  \n",
      "  inflating: data/FaceImages/fear/__MACOSX/fear/._Google_1_Carlos Walters_15_oval copy.jpg  \n",
      "  inflating: data/FaceImages/fear/fear/Google_1_Melody Barnett_1_oval copy.jpg  \n",
      "  inflating: data/FaceImages/fear/__MACOSX/fear/._Google_1_Melody Barnett_1_oval copy.jpg  \n",
      "  inflating: data/FaceImages/fear/fear/Google_1_Samuel Lindquist_5_oval.jpg  \n",
      "  inflating: data/FaceImages/fear/fear/Google_1_Johnny Robison_15_oval.jpg  \n",
      "  inflating: data/FaceImages/fear/__MACOSX/fear/._Google_1_Johnny Robison_15_oval.jpg  \n",
      "  inflating: data/FaceImages/fear/fear/Google_1_Kristin Hammons_1_oval copy.jpg  \n",
      "  inflating: data/FaceImages/fear/__MACOSX/fear/._Google_1_Kristin Hammons_1_oval copy.jpg  \n",
      "  inflating: data/FaceImages/fear/fear/Google_1_Charles Hagood_5_oval.jpg  \n",
      "  inflating: data/FaceImages/fear/__MACOSX/fear/._Google_1_Charles Hagood_5_oval.jpg  \n",
      "  inflating: data/FaceImages/fear/fear/Google_1_Carlos Fender_9_oval.jpg  \n",
      "  inflating: data/FaceImages/fear/__MACOSX/fear/._Google_1_Carlos Fender_9_oval.jpg  \n",
      "  inflating: data/FaceImages/fear/fear/screen-shot-2018-09-19-at-11-08-45-am copy.png  \n",
      "  inflating: data/FaceImages/fear/__MACOSX/fear/._screen-shot-2018-09-19-at-11-08-45-am copy.png  \n",
      "  inflating: data/FaceImages/fear/fear/Google_1_Jerry Leonardo_3_oval.jpg  \n",
      "  inflating: data/FaceImages/fear/__MACOSX/fear/._Google_1_Jerry Leonardo_3_oval.jpg  \n",
      "  inflating: data/FaceImages/fear/fear/Google_1_Michael Turcotte_15_oval.jpg  \n",
      "  inflating: data/FaceImages/fear/__MACOSX/fear/._Google_1_Michael Turcotte_15_oval.jpg  \n",
      "  inflating: data/FaceImages/fear/fear/Google_1_Andrew Palacios_11_oval.jpg  \n",
      "  inflating: data/FaceImages/fear/__MACOSX/fear/._Google_1_Andrew Palacios_11_oval.jpg  \n",
      "  inflating: data/FaceImages/fear/fear/Google_1_Julia Askew_13_oval copy.jpg  \n",
      "  inflating: data/FaceImages/fear/__MACOSX/fear/._Google_1_Julia Askew_13_oval copy.jpg  \n",
      "  inflating: data/FaceImages/fear/fear/Google_1_Johnny Robison_15_oval copy.jpg  \n",
      "  inflating: data/FaceImages/fear/__MACOSX/fear/._Google_1_Johnny Robison_15_oval copy.jpg  \n",
      "  inflating: data/FaceImages/fear/fear/Google_1_Joshua Youngman_9_oval.jpg  \n",
      "  inflating: data/FaceImages/fear/__MACOSX/fear/._Google_1_Joshua Youngman_9_oval.jpg  \n",
      "  inflating: data/FaceImages/fear/fear/Google_1_Norman Sears_9_oval copy.jpg  \n",
      "  inflating: data/FaceImages/fear/__MACOSX/fear/._Google_1_Norman Sears_9_oval copy.jpg  \n",
      "  inflating: data/FaceImages/fear/fear/Google_1_Julia Askew_13_oval.jpg  \n",
      "  inflating: data/FaceImages/fear/__MACOSX/fear/._Google_1_Julia Askew_13_oval.jpg  \n",
      "  inflating: data/FaceImages/fear/fear/fear.jpg  \n",
      "  inflating: data/FaceImages/fear/__MACOSX/fear/._fear.jpg  \n",
      "  inflating: data/FaceImages/fear/fear/Google_1_Harry Hickman_15_oval.jpg  \n",
      "  inflating: data/FaceImages/fear/__MACOSX/fear/._Google_1_Harry Hickman_15_oval.jpg  \n",
      "  inflating: data/FaceImages/fear/fear/screen_shot_2016-08-09_at_2.26.12_pm-1366x734 copy.jpg  \n",
      "  inflating: data/FaceImages/fear/__MACOSX/fear/._screen_shot_2016-08-09_at_2.26.12_pm-1366x734 copy.jpg  \n",
      "  inflating: data/FaceImages/fear/fear/Bobby_Funderburk_11_oval copy.jpg  \n",
      "  inflating: data/FaceImages/fear/__MACOSX/fear/._Bobby_Funderburk_11_oval copy.jpg  \n",
      "  inflating: data/FaceImages/fear/fear/girlwitheyesbrown-683x1024.jpg  \n",
      "  inflating: data/FaceImages/fear/__MACOSX/fear/._girlwitheyesbrown-683x1024.jpg  \n",
      "  inflating: data/FaceImages/fear/fear/Google_1_Andrew Palacios_11_oval copy.jpg  \n",
      "  inflating: data/FaceImages/fear/__MACOSX/fear/._Google_1_Andrew Palacios_11_oval copy.jpg  \n",
      "  inflating: data/FaceImages/fear/fear/Google_1_Sheri Pabon_13_oval copy.jpg  \n",
      "  inflating: data/FaceImages/fear/fear/Google_1_Flora Jaques_19_oval.jpg  \n",
      "  inflating: data/FaceImages/fear/fear/1.12350.jpg  \n",
      "  inflating: data/FaceImages/fear/__MACOSX/fear/._1.12350.jpg  \n",
      "  inflating: data/FaceImages/fear/fear/Google_1_Ruth Burk_9_oval.jpg  \n",
      "  inflating: data/FaceImages/fear/__MACOSX/fear/._Google_1_Ruth Burk_9_oval.jpg  \n",
      "  inflating: data/FaceImages/fear/fear/Fearful-child.jpg  \n",
      "  inflating: data/FaceImages/fear/__MACOSX/fear/._Fearful-child.jpg  \n",
      "  inflating: data/FaceImages/fear/fear/fear-remake-700x300 copy.jpg  \n",
      "  inflating: data/FaceImages/fear/__MACOSX/fear/._fear-remake-700x300 copy.jpg  \n",
      "  inflating: data/FaceImages/fear/fear/Google_1_Michael Reddick_12_oval copy.jpg  \n",
      "  inflating: data/FaceImages/fear/__MACOSX/fear/._Google_1_Michael Reddick_12_oval copy.jpg  \n",
      "  inflating: data/FaceImages/fear/fear/Google_1_Albert Stites_9_oval copy.jpg  \n",
      "  inflating: data/FaceImages/fear/__MACOSX/fear/._Google_1_Albert Stites_9_oval copy.jpg  \n",
      "  inflating: data/FaceImages/fear/fear/fear-tile-different-fears copy.jpg  \n",
      "  inflating: data/FaceImages/fear/__MACOSX/fear/._fear-tile-different-fears copy.jpg  \n",
      "  inflating: data/FaceImages/fear/fear/560475-mtvyoutubehed_0.jpg  \n",
      "  inflating: data/FaceImages/fear/__MACOSX/fear/._560475-mtvyoutubehed_0.jpg  \n",
      "  inflating: data/FaceImages/fear/fear/Google_1_Christopher Holladay_3_oval copy.jpg  \n",
      "  inflating: data/FaceImages/fear/fear/Google_1_Howard Squires_5_oval.jpg  \n",
      "  inflating: data/FaceImages/fear/__MACOSX/fear/._Google_1_Howard Squires_5_oval.jpg  \n",
      "  inflating: data/FaceImages/fear/fear/Google_1_John Woolf_11_oval copy.jpg  \n",
      "  inflating: data/FaceImages/fear/__MACOSX/fear/._Google_1_John Woolf_11_oval copy.jpg  \n",
      "  inflating: data/FaceImages/fear/fear/Google_1_Kathleen Valerio_9_oval.jpg  \n",
      "  inflating: data/FaceImages/fear/__MACOSX/fear/._Google_1_Kathleen Valerio_9_oval.jpg  \n",
      "  inflating: data/FaceImages/fear/fear/Google_1_Kathleen Guimond_3_oval.jpg  \n",
      "  inflating: data/FaceImages/fear/__MACOSX/fear/._Google_1_Kathleen Guimond_3_oval.jpg  \n",
      "  inflating: data/FaceImages/fear/fear/Google_1_Kristen Weidner_3_oval copy.jpg  \n",
      "  inflating: data/FaceImages/fear/__MACOSX/fear/._Google_1_Kristen Weidner_3_oval copy.jpg  \n",
      "  inflating: data/FaceImages/fear/fear/https3A2F2Fblogs-images.forbes.com2Ferikkain2Ffiles2F20162F052FFear-The-Walking-Dead-Season-2-Alicia-1200x800 copy.jpg  \n",
      "  inflating: data/FaceImages/fear/__MACOSX/fear/._https3A2F2Fblogs-images.forbes.com2Ferikkain2Ffiles2F20162F052FFear-The-Walking-Dead-Season-2-Alicia-1200x800 copy.jpg  \n",
      "  inflating: data/FaceImages/fear/fear/a-woman-looking-worried copy.jpg  \n",
      "  inflating: data/FaceImages/fear/__MACOSX/fear/._a-woman-looking-worried copy.jpg  \n",
      "  inflating: data/FaceImages/fear/fear/Google_1_Michelle Daughtry_19_oval copy.jpg  \n",
      "  inflating: data/FaceImages/fear/__MACOSX/fear/._Google_1_Michelle Daughtry_19_oval copy.jpg  \n",
      "  inflating: data/FaceImages/fear/fear/Google_1_Melody Bakke_17_oval.jpg  \n",
      "  inflating: data/FaceImages/fear/__MACOSX/fear/._Google_1_Melody Bakke_17_oval.jpg  \n",
      "  inflating: data/FaceImages/fear/fear/fear-being-alone copy.jpg  \n",
      "  inflating: data/FaceImages/fear/__MACOSX/fear/._fear-being-alone copy.jpg  \n",
      "  inflating: data/FaceImages/fear/fear/Google_1_Jesse Hudspeth_19_oval.jpg  \n",
      "  inflating: data/FaceImages/fear/__MACOSX/fear/._Google_1_Jesse Hudspeth_19_oval.jpg  \n",
      "  inflating: data/FaceImages/fear/fear/fear copy.jpg  \n",
      "  inflating: data/FaceImages/fear/__MACOSX/fear/._fear copy.jpg  \n",
      "  inflating: data/FaceImages/fear/fear/Google_1_Karen Rosenberger_5_oval.jpg  \n",
      "  inflating: data/FaceImages/fear/fear/maxresdefault copy.jpg  \n",
      "  inflating: data/FaceImages/fear/__MACOSX/fear/._maxresdefault copy.jpg  \n",
      "  inflating: data/FaceImages/fear/fear/Google_1_Carlos Carrier_17_oval copy.jpg  \n"
     ]
    },
    {
     "name": "stdout",
     "output_type": "stream",
     "text": [
      "  inflating: data/FaceImages/fear/__MACOSX/fear/._Google_1_Carlos Carrier_17_oval copy.jpg  \n",
      "  inflating: data/FaceImages/fear/fear/Google_1_Douglas Bouie_5_oval copy.jpg  \n",
      "  inflating: data/FaceImages/fear/__MACOSX/fear/._Google_1_Douglas Bouie_5_oval copy.jpg  \n",
      "  inflating: data/FaceImages/fear/fear/Google_1_Katrina Rathbone_1_oval copy.jpg  \n",
      "  inflating: data/FaceImages/fear/__MACOSX/fear/._Google_1_Katrina Rathbone_1_oval copy.jpg  \n",
      "  inflating: data/FaceImages/fear/fear/Google_1_Marvin Liggett_15_oval.jpg  \n",
      "  inflating: data/FaceImages/fear/__MACOSX/fear/._Google_1_Marvin Liggett_15_oval.jpg  \n",
      "  inflating: data/FaceImages/fear/fear/Google_1_Robert Simpkins_3_oval.jpg  \n",
      "  inflating: data/FaceImages/fear/__MACOSX/fear/._Google_1_Robert Simpkins_3_oval.jpg  \n",
      "  inflating: data/FaceImages/fear/fear/Google_1_Marvin Hansel_1_oval copy.jpg  \n",
      "  inflating: data/FaceImages/fear/__MACOSX/fear/._Google_1_Marvin Hansel_1_oval copy.jpg  \n",
      "  inflating: data/FaceImages/fear/fear/Brian_Borders_11_oval.jpg  \n",
      "  inflating: data/FaceImages/fear/__MACOSX/fear/._Brian_Borders_11_oval.jpg  \n",
      "  inflating: data/FaceImages/fear/fear/Google_1_Ada Eastman_11_oval copy.jpg  \n",
      "  inflating: data/FaceImages/fear/__MACOSX/fear/._Google_1_Ada Eastman_11_oval copy.jpg  \n",
      "  inflating: data/FaceImages/fear/fear/Google_1_Cora Ruppert_7_oval.jpg  \n",
      "  inflating: data/FaceImages/fear/__MACOSX/fear/._Google_1_Cora Ruppert_7_oval.jpg  \n",
      "  inflating: data/FaceImages/fear/fear/reduce-fear-and-anxiety-naturally.jpg  \n",
      "  inflating: data/FaceImages/fear/__MACOSX/fear/._reduce-fear-and-anxiety-naturally.jpg  \n",
      "  inflating: data/FaceImages/fear/fear/Google_1_Joshua Regan_7_oval.jpg  \n",
      "  inflating: data/FaceImages/fear/__MACOSX/fear/._Google_1_Joshua Regan_7_oval.jpg  \n",
      "  inflating: data/FaceImages/fear/fear/Google_1_Shawn Charles_1_oval.jpg  \n",
      "  inflating: data/FaceImages/fear/fear/Google_1_Douglas Quach_5_oval copy.jpg  \n",
      "  inflating: data/FaceImages/fear/__MACOSX/fear/._Google_1_Douglas Quach_5_oval copy.jpg  \n",
      "  inflating: data/FaceImages/fear/fear/Google_1_John Ingraham_5_oval copy.jpg  \n",
      "  inflating: data/FaceImages/fear/__MACOSX/fear/._Google_1_John Ingraham_5_oval copy.jpg  \n",
      "  inflating: data/FaceImages/fear/fear/Google_1_Suzanne Haught_14_oval copy.jpg  \n",
      "  inflating: data/FaceImages/fear/__MACOSX/fear/._Google_1_Suzanne Haught_14_oval copy.jpg  \n",
      "  inflating: data/FaceImages/fear/fear/girlwitheyesbrown-683x1024 copy.jpg  \n",
      "  inflating: data/FaceImages/fear/__MACOSX/fear/._girlwitheyesbrown-683x1024 copy.jpg  \n",
      "  inflating: data/FaceImages/fear/fear/Google_1_Johnny Kelley_15_oval.jpg  \n",
      "  inflating: data/FaceImages/fear/__MACOSX/fear/._Google_1_Johnny Kelley_15_oval.jpg  \n",
      "  inflating: data/FaceImages/fear/fear/Google_1_Marvin Jason_1_oval.jpg  \n",
      "  inflating: data/FaceImages/fear/__MACOSX/fear/._Google_1_Marvin Jason_1_oval.jpg  \n",
      "  inflating: data/FaceImages/fear/fear/fear2 copy.jpg  \n",
      "  inflating: data/FaceImages/fear/__MACOSX/fear/._fear2 copy.jpg  \n",
      "  inflating: data/FaceImages/fear/fear/fear3 copy.jpg  \n",
      "  inflating: data/FaceImages/fear/__MACOSX/fear/._fear3 copy.jpg  \n",
      "  inflating: data/FaceImages/fear/fear/Google_1_Jason Audette_9_oval copy.jpg  \n",
      "  inflating: data/FaceImages/fear/fear/MV5BZTc0MmJkMTgtZTMwNy00NzcyLThlZDAtZWVmODZhYThiNTExXkEyXkFqcGdeQXVyNzU1NzE3NTg._V1_CR045480270_AL_UX477_CR00477268_AL_.jpg  \n",
      "  inflating: data/FaceImages/fear/__MACOSX/fear/._MV5BZTc0MmJkMTgtZTMwNy00NzcyLThlZDAtZWVmODZhYThiNTExXkEyXkFqcGdeQXVyNzU1NzE3NTg._V1_CR045480270_AL_UX477_CR00477268_AL_.jpg  \n",
      "  inflating: data/FaceImages/fear/fear/Ernest_Mansell_1_oval.jpg  \n",
      "  inflating: data/FaceImages/fear/__MACOSX/fear/._Ernest_Mansell_1_oval.jpg  \n",
      "  inflating: data/FaceImages/fear/fear/twd-dwight-1549901020 copy.jpg  \n",
      "  inflating: data/FaceImages/fear/__MACOSX/fear/._twd-dwight-1549901020 copy.jpg  \n",
      "  inflating: data/FaceImages/fear/fear/Google_1_Janice Western_19_oval.jpg  \n",
      "  inflating: data/FaceImages/fear/fear/Google_1_Brandon Belt_17_oval copy.jpg  \n",
      "  inflating: data/FaceImages/fear/__MACOSX/fear/._Google_1_Brandon Belt_17_oval copy.jpg  \n",
      "  inflating: data/FaceImages/fear/fear/Google_1_Jerry Deboer_7_oval copy.jpg  \n",
      "  inflating: data/FaceImages/fear/__MACOSX/fear/._Google_1_Jerry Deboer_7_oval copy.jpg  \n",
      "  inflating: data/FaceImages/fear/fear/BabyFear1-998x703.jpg  \n",
      "  inflating: data/FaceImages/fear/__MACOSX/fear/._BabyFear1-998x703.jpg  \n",
      "  inflating: data/FaceImages/fear/fear/Google_1_Bruce Forrester_1_oval copy.jpg  \n",
      "  inflating: data/FaceImages/fear/__MACOSX/fear/._Google_1_Bruce Forrester_1_oval copy.jpg  \n",
      "  inflating: data/FaceImages/fear/fear/Google_1_Louis Sung_1_oval.jpg  \n",
      "  inflating: data/FaceImages/fear/__MACOSX/fear/._Google_1_Louis Sung_1_oval.jpg  \n",
      "  inflating: data/FaceImages/fear/fear/Google_1_Jennie Fix_11_oval.jpg  \n",
      "  inflating: data/FaceImages/fear/__MACOSX/fear/._Google_1_Jennie Fix_11_oval.jpg  \n",
      "  inflating: data/FaceImages/fear/fear/20160129234816-amy-cosper-editor-note-fear-itself.jpeg  \n",
      "  inflating: data/FaceImages/fear/__MACOSX/fear/._20160129234816-amy-cosper-editor-note-fear-itself.jpeg  \n",
      "  inflating: data/FaceImages/fear/fear/Google_1_Mike Boatwright_1_oval copy.jpg  \n",
      "  inflating: data/FaceImages/fear/__MACOSX/fear/._Google_1_Mike Boatwright_1_oval copy.jpg  \n",
      "  inflating: data/FaceImages/fear/fear/Google_1_Christopher Holladay_3_oval.jpg  \n",
      "  inflating: data/FaceImages/fear/fear/Bobby_Stephan_1_oval copy.jpg  \n",
      "  inflating: data/FaceImages/fear/__MACOSX/fear/._Bobby_Stephan_1_oval copy.jpg  \n",
      "  inflating: data/FaceImages/fear/fear/Google_1_Ruby Shively_7_oval copy.jpg  \n",
      "  inflating: data/FaceImages/fear/fear/fear-the-walking-dead-episode-308-otto-callie-final-scene-1200x707 copy.jpg  \n",
      "  inflating: data/FaceImages/fear/__MACOSX/fear/._fear-the-walking-dead-episode-308-otto-callie-final-scene-1200x707 copy.jpg  \n",
      "  inflating: data/FaceImages/fear/fear/Google_1_Heather Baca_5_oval copy.jpg  \n",
      "  inflating: data/FaceImages/fear/__MACOSX/fear/._Google_1_Heather Baca_5_oval copy.jpg  \n",
      "  inflating: data/FaceImages/fear/fear/76-og.jpg  \n",
      "  inflating: data/FaceImages/fear/__MACOSX/fear/._76-og.jpg  \n",
      "  inflating: data/FaceImages/fear/fear/Google_1_Leona Kirkman_3_oval copy.jpg  \n",
      "  inflating: data/FaceImages/fear/__MACOSX/fear/._Google_1_Leona Kirkman_3_oval copy.jpg  \n",
      "  inflating: data/FaceImages/fear/fear/Google_1_Annie Viola_6_oval.jpg  \n",
      "  inflating: data/FaceImages/fear/__MACOSX/fear/._Google_1_Annie Viola_6_oval.jpg  \n",
      "  inflating: data/FaceImages/fear/fear/Google_1_Alicia Stallings_17_oval.jpg  \n",
      "  inflating: data/FaceImages/fear/__MACOSX/fear/._Google_1_Alicia Stallings_17_oval.jpg  \n",
      "  inflating: data/FaceImages/fear/fear/Google_1_Jill Mathis_13_oval.jpg  \n",
      "  inflating: data/FaceImages/fear/__MACOSX/fear/._Google_1_Jill Mathis_13_oval.jpg  \n",
      "  inflating: data/FaceImages/fear/fear/Google_1_Jesse Hershberger_3_oval copy.jpg  \n",
      "  inflating: data/FaceImages/fear/__MACOSX/fear/._Google_1_Jesse Hershberger_3_oval copy.jpg  \n",
      "  inflating: data/FaceImages/fear/fear/Google_1_Melody Bakke_17_oval copy.jpg  \n",
      "  inflating: data/FaceImages/fear/__MACOSX/fear/._Google_1_Melody Bakke_17_oval copy.jpg  \n",
      "  inflating: data/FaceImages/fear/fear/Google_1_Jerry Lovelace_5_oval.jpg  \n",
      "  inflating: data/FaceImages/fear/__MACOSX/fear/._Google_1_Jerry Lovelace_5_oval.jpg  \n",
      "  inflating: data/FaceImages/fear/fear/Google_1_Alicia Hollenbeck_152_oval.jpg  \n",
      "  inflating: data/FaceImages/fear/__MACOSX/fear/._Google_1_Alicia Hollenbeck_152_oval.jpg  \n",
      "  inflating: data/FaceImages/fear/fear/Fearful-child copy.jpg  \n",
      "  inflating: data/FaceImages/fear/__MACOSX/fear/._Fearful-child copy.jpg  \n",
      "  inflating: data/FaceImages/fear/fear/fear-of-music.jpg  \n",
      "  inflating: data/FaceImages/fear/__MACOSX/fear/._fear-of-music.jpg  \n",
      "  inflating: data/FaceImages/fear/fear/Google_1_Jesse Hudspeth_19_oval copy.jpg  \n",
      "  inflating: data/FaceImages/fear/__MACOSX/fear/._Google_1_Jesse Hudspeth_19_oval copy.jpg  \n",
      "  inflating: data/FaceImages/fear/fear/Anthony_Hartsfield_11_oval.jpg  \n",
      "  inflating: data/FaceImages/fear/__MACOSX/fear/._Anthony_Hartsfield_11_oval.jpg  \n",
      "  inflating: data/FaceImages/fear/fear/Google_1_Judith Stock_13_oval copy.jpg  \n",
      "  inflating: data/FaceImages/fear/fear/Google_1_John Woolf_11_oval.jpg  \n"
     ]
    },
    {
     "name": "stdout",
     "output_type": "stream",
     "text": [
      "  inflating: data/FaceImages/fear/__MACOSX/fear/._Google_1_John Woolf_11_oval.jpg  \n",
      "  inflating: data/FaceImages/fear/fear/Google_1_Julia Frantz_5_oval copy.jpg  \n",
      "  inflating: data/FaceImages/fear/__MACOSX/fear/._Google_1_Julia Frantz_5_oval copy.jpg  \n",
      "  inflating: data/FaceImages/fear/fear/Google_1_Jesse Hershberger_3_oval.jpg  \n",
      "  inflating: data/FaceImages/fear/__MACOSX/fear/._Google_1_Jesse Hershberger_3_oval.jpg  \n",
      "  inflating: data/FaceImages/fear/fear/entrepreneur_fear_of_failure-resized-600.jpgwidthu003d309u0026heightu003d205u0026nameu003dentrepreneur_fear_of_failure-resized-600 copy.jpg  \n",
      "  inflating: data/FaceImages/fear/__MACOSX/fear/._entrepreneur_fear_of_failure-resized-600.jpgwidthu003d309u0026heightu003d205u0026nameu003dentrepreneur_fear_of_failure-resized-600 copy.jpg  \n",
      "  inflating: data/FaceImages/fear/fear/Google_1_Karen Rosenberger_1_oval copy.jpg  \n",
      "  inflating: data/FaceImages/fear/__MACOSX/fear/._Google_1_Karen Rosenberger_1_oval copy.jpg  \n",
      "  inflating: data/FaceImages/fear/fear/Google_1_Robert Bullins_7_oval copy.jpg  \n",
      "  inflating: data/FaceImages/fear/fear/Google_1_Annie Hassell_9_oval.jpg  \n",
      "  inflating: data/FaceImages/fear/__MACOSX/fear/._Google_1_Annie Hassell_9_oval.jpg  \n",
      "  inflating: data/FaceImages/fear/fear/Google_1_Steve Canady_12_oval.jpg  \n",
      "  inflating: data/FaceImages/fear/__MACOSX/fear/._Google_1_Steve Canady_12_oval.jpg  \n",
      "  inflating: data/FaceImages/fear/fear/Google_1_Ruth Hendry_17_oval.jpg  \n",
      "  inflating: data/FaceImages/fear/__MACOSX/fear/._Google_1_Ruth Hendry_17_oval.jpg  \n",
      "  inflating: data/FaceImages/fear/fear/Bobby_Stephan_1_oval.jpg  \n",
      "  inflating: data/FaceImages/fear/__MACOSX/fear/._Bobby_Stephan_1_oval.jpg  \n",
      "  inflating: data/FaceImages/fear/fear/Google_1_William Ferris_1_oval.jpg  \n",
      "  inflating: data/FaceImages/fear/__MACOSX/fear/._Google_1_William Ferris_1_oval.jpg  \n",
      "  inflating: data/FaceImages/fear/fear/Google_1_Louis Sung_1_oval copy.jpg  \n",
      "  inflating: data/FaceImages/fear/__MACOSX/fear/._Google_1_Louis Sung_1_oval copy.jpg  \n",
      "  inflating: data/FaceImages/fear/fear/MV5BZTc0MmJkMTgtZTMwNy00NzcyLThlZDAtZWVmODZhYThiNTExXkEyXkFqcGdeQXVyNzU1NzE3NTg._V1_CR045480270_AL_UX477_CR00477268_AL_ copy.jpg  \n",
      "  inflating: data/FaceImages/fear/__MACOSX/fear/._MV5BZTc0MmJkMTgtZTMwNy00NzcyLThlZDAtZWVmODZhYThiNTExXkEyXkFqcGdeQXVyNzU1NzE3NTg._V1_CR045480270_AL_UX477_CR00477268_AL_ copy.jpg  \n",
      "  inflating: data/FaceImages/fear/fear/Google_1_Karen Rosenberger_5_oval copy.jpg  \n",
      "  inflating: data/FaceImages/fear/fear/Google_1_Howard Squires_5_oval copy.jpg  \n",
      "  inflating: data/FaceImages/fear/__MACOSX/fear/._Google_1_Howard Squires_5_oval copy.jpg  \n",
      "  inflating: data/FaceImages/fear/fear/onfear copy.jpg  \n",
      "  inflating: data/FaceImages/fear/__MACOSX/fear/._onfear copy.jpg  \n",
      "  inflating: data/FaceImages/fear/fear/Google_1_Jerry Lovelace_5_oval copy.jpg  \n",
      "  inflating: data/FaceImages/fear/__MACOSX/fear/._Google_1_Jerry Lovelace_5_oval copy.jpg  \n",
      "  inflating: data/FaceImages/fear/fear/small-baby-fear-mother-600x483 copy.jpg  \n",
      "  inflating: data/FaceImages/fear/__MACOSX/fear/._small-baby-fear-mother-600x483 copy.jpg  \n",
      "  inflating: data/FaceImages/fear/fear/Annie_Bivens_3_oval.jpg  \n",
      "  inflating: data/FaceImages/fear/__MACOSX/fear/._Annie_Bivens_3_oval.jpg  \n",
      "  inflating: data/FaceImages/fear/fear/Google_1_Allen Buss_15_oval.jpg  \n",
      "  inflating: data/FaceImages/fear/__MACOSX/fear/._Google_1_Allen Buss_15_oval.jpg  \n",
      "  inflating: data/FaceImages/fear/fear/20100430-scared-woman-300x205.jpg  \n",
      "  inflating: data/FaceImages/fear/__MACOSX/fear/._20100430-scared-woman-300x205.jpg  \n",
      "  inflating: data/FaceImages/fear/fear/20160129234816-amy-cosper-editor-note-fear-itself copy.jpeg  \n",
      "  inflating: data/FaceImages/fear/__MACOSX/fear/._20160129234816-amy-cosper-editor-note-fear-itself copy.jpeg  \n",
      "  inflating: data/FaceImages/fear/fear/FearI2.png  \n",
      "  inflating: data/FaceImages/fear/__MACOSX/fear/._FearI2.png  \n",
      "  inflating: data/FaceImages/fear/fear/Google_1_Martin Szymanski_11_oval copy.jpg  \n",
      "  inflating: data/FaceImages/fear/__MACOSX/fear/._Google_1_Martin Szymanski_11_oval copy.jpg  \n",
      "  inflating: data/FaceImages/fear/fear/Google_1_John Ingraham_5_oval.jpg  \n",
      "  inflating: data/FaceImages/fear/__MACOSX/fear/._Google_1_John Ingraham_5_oval.jpg  \n",
      "  inflating: data/FaceImages/fear/fear/loneliness-fear copy.jpg  \n",
      "  inflating: data/FaceImages/fear/__MACOSX/fear/._loneliness-fear copy.jpg  \n",
      "  inflating: data/FaceImages/fear/fear/Google_1_Carlos Fender_9_oval copy.jpg  \n",
      "  inflating: data/FaceImages/fear/__MACOSX/fear/._Google_1_Carlos Fender_9_oval copy.jpg  \n",
      "  inflating: data/FaceImages/fear/fear/Google_1_Amelia Rupp_1_oval copy.jpg  \n",
      "  inflating: data/FaceImages/fear/__MACOSX/fear/._Google_1_Amelia Rupp_1_oval copy.jpg  \n",
      "  inflating: data/FaceImages/fear/fear/Google_1_Shelly Brophy_7_oval.jpg  \n",
      "  inflating: data/FaceImages/fear/__MACOSX/fear/._Google_1_Shelly Brophy_7_oval.jpg  \n",
      "  inflating: data/FaceImages/fear/fear/Google_1_Marvin Hansel_1_oval.jpg  \n",
      "  inflating: data/FaceImages/fear/__MACOSX/fear/._Google_1_Marvin Hansel_1_oval.jpg  \n",
      "  inflating: data/FaceImages/fear/fear/Ernest_Bowling_3_oval copy.jpg  \n",
      "  inflating: data/FaceImages/fear/__MACOSX/fear/._Ernest_Bowling_3_oval copy.jpg  \n",
      "  inflating: data/FaceImages/fear/fear/Google_1_Michael Delgado_13_oval.jpg  \n",
      "  inflating: data/FaceImages/fear/__MACOSX/fear/._Google_1_Michael Delgado_13_oval.jpg  \n",
      "  inflating: data/FaceImages/fear/fear/Google_1_Jerry Deboer_7_oval.jpg  \n",
      "  inflating: data/FaceImages/fear/__MACOSX/fear/._Google_1_Jerry Deboer_7_oval.jpg  \n",
      "  inflating: data/FaceImages/fear/fear/Google_1_Anthony Massengale_15_oval.jpg  \n",
      "  inflating: data/FaceImages/fear/__MACOSX/fear/._Google_1_Anthony Massengale_15_oval.jpg  \n",
      "  inflating: data/FaceImages/fear/fear/Fear_Of_Looking_Stupid_042418-800x450 copy.jpg  \n",
      "  inflating: data/FaceImages/fear/__MACOSX/fear/._Fear_Of_Looking_Stupid_042418-800x450 copy.jpg  \n",
      "  inflating: data/FaceImages/fear/fear/xfear-600.jpg.pagespeed.ic.h3ZYaCs_-- copy.jpg  \n",
      "  inflating: data/FaceImages/fear/__MACOSX/fear/._xfear-600.jpg.pagespeed.ic.h3ZYaCs_-- copy.jpg  \n",
      "  inflating: data/FaceImages/fear/fear/Google_1_Kristin Catalan_11_oval copy.jpg  \n",
      "  inflating: data/FaceImages/fear/__MACOSX/fear/._Google_1_Kristin Catalan_11_oval copy.jpg  \n",
      "  inflating: data/FaceImages/fear/fear/Google_1_Matthew Hickman_3_oval.jpg  \n",
      "  inflating: data/FaceImages/fear/__MACOSX/fear/._Google_1_Matthew Hickman_3_oval.jpg  \n",
      "  inflating: data/FaceImages/fear/fear/Google_1_Loretta Thatcher_1_oval copy.jpg  \n",
      "  inflating: data/FaceImages/fear/__MACOSX/fear/._Google_1_Loretta Thatcher_1_oval copy.jpg  \n",
      "  inflating: data/FaceImages/fear/fear/Google_1_Ronald Barham_1_oval copy.jpg  \n",
      "  inflating: data/FaceImages/fear/fear/a-woman-looking-worried.jpg  \n",
      "  inflating: data/FaceImages/fear/__MACOSX/fear/._a-woman-looking-worried.jpg  \n",
      "  inflating: data/FaceImages/fear/fear/Google_1_Paul Wills_11_oval copy.jpg  \n",
      "  inflating: data/FaceImages/fear/__MACOSX/fear/._Google_1_Paul Wills_11_oval copy.jpg  \n",
      "  inflating: data/FaceImages/fear/fear/twd-dwight-1549901020.jpg  \n",
      "  inflating: data/FaceImages/fear/__MACOSX/fear/._twd-dwight-1549901020.jpg  \n",
      "  inflating: data/FaceImages/fear/fear/woman-gazing-past-shutter-350.jpg  \n",
      "  inflating: data/FaceImages/fear/__MACOSX/fear/._woman-gazing-past-shutter-350.jpg  \n",
      "  inflating: data/FaceImages/fear/fear/Google_1_Elizabeth Condon_7_oval.jpg  \n",
      "  inflating: data/FaceImages/fear/__MACOSX/fear/._Google_1_Elizabeth Condon_7_oval.jpg  \n",
      "  inflating: data/FaceImages/fear/fear/fear-the-walking-dead-trailer2 copy.jpg  \n",
      "  inflating: data/FaceImages/fear/__MACOSX/fear/._fear-the-walking-dead-trailer2 copy.jpg  \n",
      "  inflating: data/FaceImages/fear/fear/Google_1_Marlene Morehouse_9_oval copy.jpg  \n",
      "  inflating: data/FaceImages/fear/__MACOSX/fear/._Google_1_Marlene Morehouse_9_oval copy.jpg  \n",
      "  inflating: data/FaceImages/fear/fear/Bobby_Funderburk_11_oval.jpg  \n",
      "  inflating: data/FaceImages/fear/__MACOSX/fear/._Bobby_Funderburk_11_oval.jpg  \n",
      "  inflating: data/FaceImages/fear/fear/86954286-portrait-of-bearded-guy-with-disgusted-expression-on-face.jpg  \n",
      "  inflating: data/FaceImages/fear/__MACOSX/fear/._86954286-portrait-of-bearded-guy-with-disgusted-expression-on-face.jpg  \n"
     ]
    },
    {
     "name": "stdout",
     "output_type": "stream",
     "text": [
      "  inflating: data/FaceImages/fear/fear/fear-the-walking-dead-season-4-episode-4-frank-dillane-nick.jpg  \n",
      "  inflating: data/FaceImages/fear/__MACOSX/fear/._fear-the-walking-dead-season-4-episode-4-frank-dillane-nick.jpg  \n",
      "  inflating: data/FaceImages/fear/fear/Google_1_Johnny Kelley_15_oval copy.jpg  \n",
      "  inflating: data/FaceImages/fear/__MACOSX/fear/._Google_1_Johnny Kelley_15_oval copy.jpg  \n",
      "  inflating: data/FaceImages/fear/fear/Google_1_Ada Eastman_11_oval.jpg  \n",
      "  inflating: data/FaceImages/fear/__MACOSX/fear/._Google_1_Ada Eastman_11_oval.jpg  \n",
      "  inflating: data/FaceImages/fear/fear/phobia-boy-300x300.jpg  \n",
      "  inflating: data/FaceImages/fear/__MACOSX/fear/._phobia-boy-300x300.jpg  \n",
      "  inflating: data/FaceImages/fear/fear/Google_1_Jennie Fix_11_oval copy.jpg  \n",
      "  inflating: data/FaceImages/fear/__MACOSX/fear/._Google_1_Jennie Fix_11_oval copy.jpg  \n",
      "  inflating: data/FaceImages/fear/fear/Google_1_Gary Corona_11_oval copy.jpg  \n",
      "  inflating: data/FaceImages/fear/__MACOSX/fear/._Google_1_Gary Corona_11_oval copy.jpg  \n",
      "  inflating: data/FaceImages/fear/fear/Google_1_Anthony Pogue_3_oval.jpg  \n",
      "  inflating: data/FaceImages/fear/__MACOSX/fear/._Google_1_Anthony Pogue_3_oval.jpg  \n",
      "  inflating: data/FaceImages/fear/fear/Alex-Honnold.jpg  \n",
      "  inflating: data/FaceImages/fear/__MACOSX/fear/._Alex-Honnold.jpg  \n",
      "  inflating: data/FaceImages/fear/fear/Brief-FearFaces-lowrez.jpg  \n",
      "  inflating: data/FaceImages/fear/__MACOSX/fear/._Brief-FearFaces-lowrez.jpg  \n",
      "  inflating: data/FaceImages/fear/fear/fear01_banner copy.jpg  \n",
      "  inflating: data/FaceImages/fear/__MACOSX/fear/._fear01_banner copy.jpg  \n",
      "  inflating: data/FaceImages/fear/fear/Beverly_Nigro_9_oval copy.jpg  \n",
      "  inflating: data/FaceImages/fear/__MACOSX/fear/._Beverly_Nigro_9_oval copy.jpg  \n",
      "  inflating: data/FaceImages/fear/fear/Google_1_Joshua Youngman_9_oval copy.jpg  \n",
      "  inflating: data/FaceImages/fear/__MACOSX/fear/._Google_1_Joshua Youngman_9_oval copy.jpg  \n",
      "  inflating: data/FaceImages/fear/fear/Google_1_Jill Mathis_13_oval copy.jpg  \n",
      "  inflating: data/FaceImages/fear/__MACOSX/fear/._Google_1_Jill Mathis_13_oval copy.jpg  \n",
      "  inflating: data/FaceImages/fear/fear/Google_1_Judy Josephson_14_oval copy.jpg  \n",
      "  inflating: data/FaceImages/fear/__MACOSX/fear/._Google_1_Judy Josephson_14_oval copy.jpg  \n",
      "  inflating: data/FaceImages/fear/fear/Google_1_Ernest Jefferies_17_oval.jpg  \n",
      "  inflating: data/FaceImages/fear/__MACOSX/fear/._Google_1_Ernest Jefferies_17_oval.jpg  \n",
      "  inflating: data/FaceImages/fear/fear/Google_1_Michelle Daughtry_19_oval.jpg  \n",
      "  inflating: data/FaceImages/fear/__MACOSX/fear/._Google_1_Michelle Daughtry_19_oval.jpg  \n",
      "  inflating: data/FaceImages/fear/fear/Google_1_Jill Birch_17_oval copy.jpg  \n",
      "  inflating: data/FaceImages/fear/__MACOSX/fear/._Google_1_Jill Birch_17_oval copy.jpg  \n",
      "  inflating: data/FaceImages/fear/fear/MARINA_1 copy.jpg  \n",
      "  inflating: data/FaceImages/fear/__MACOSX/fear/._MARINA_1 copy.jpg  \n",
      "  inflating: data/FaceImages/fear/fear/Brian_Borders_11_oval copy.jpg  \n",
      "  inflating: data/FaceImages/fear/__MACOSX/fear/._Brian_Borders_11_oval copy.jpg  \n",
      "  inflating: data/FaceImages/fear/fear/fear-the-walking-dead-episode-308-otto-callie-final-scene-1200x707.jpg  \n",
      "  inflating: data/FaceImages/fear/__MACOSX/fear/._fear-the-walking-dead-episode-308-otto-callie-final-scene-1200x707.jpg  \n",
      "  inflating: data/FaceImages/fear/fear/Google_1_Bryan Stump_1_oval copy.jpg  \n",
      "  inflating: data/FaceImages/fear/__MACOSX/fear/._Google_1_Bryan Stump_1_oval copy.jpg  \n",
      "  inflating: data/FaceImages/fear/fear/Google_1_Jimmy Perrotta_5_oval.jpg  \n",
      "  inflating: data/FaceImages/fear/__MACOSX/fear/._Google_1_Jimmy Perrotta_5_oval.jpg  \n",
      "  inflating: data/FaceImages/fear/fear/Google_1_Eric Rader_1_oval copy.jpg  \n",
      "  inflating: data/FaceImages/fear/__MACOSX/fear/._Google_1_Eric Rader_1_oval copy.jpg  \n",
      "  inflating: data/FaceImages/fear/fear/maxresdefault0 copy.jpg  \n",
      "  inflating: data/FaceImages/fear/__MACOSX/fear/._maxresdefault0 copy.jpg  \n",
      "  inflating: data/FaceImages/fear/fear/Bonnie_Ng_13_oval copy.jpg  \n",
      "  inflating: data/FaceImages/fear/__MACOSX/fear/._Bonnie_Ng_13_oval copy.jpg  \n",
      "  inflating: data/FaceImages/fear/fear/Google_1_Esther Skeens_13_oval.jpg  \n",
      "  inflating: data/FaceImages/fear/__MACOSX/fear/._Google_1_Esther Skeens_13_oval.jpg  \n",
      "  inflating: data/FaceImages/fear/fear/steven-pressfield copy.jpg  \n",
      "  inflating: data/FaceImages/fear/__MACOSX/fear/._steven-pressfield copy.jpg  \n",
      "  inflating: data/FaceImages/fear/fear/Intuition copy.jpg  \n",
      "  inflating: data/FaceImages/fear/__MACOSX/fear/._Intuition copy.jpg  \n",
      "  inflating: data/FaceImages/fear/fear/Fear-of-Flying-Breathe-Properly copy.jpg  \n",
      "  inflating: data/FaceImages/fear/__MACOSX/fear/._Fear-of-Flying-Breathe-Properly copy.jpg  \n",
      "  inflating: data/FaceImages/fear/fear/Google_1_Linda Morehouse_3_oval.jpg  \n",
      "  inflating: data/FaceImages/fear/__MACOSX/fear/._Google_1_Linda Morehouse_3_oval.jpg  \n",
      "  inflating: data/FaceImages/fear/fear/Google_1_Melissa Sauer_5_oval.jpg  \n",
      "  inflating: data/FaceImages/fear/__MACOSX/fear/._Google_1_Melissa Sauer_5_oval.jpg  \n",
      "  inflating: data/FaceImages/fear/fear/Ernest_Bowling_3_oval.jpg  \n",
      "  inflating: data/FaceImages/fear/__MACOSX/fear/._Ernest_Bowling_3_oval.jpg  \n",
      "  inflating: data/FaceImages/fear/fear/Google_1_Jerry Summerlin_1_oval copy.jpg  \n",
      "  inflating: data/FaceImages/fear/__MACOSX/fear/._Google_1_Jerry Summerlin_1_oval copy.jpg  \n"
     ]
    }
   ],
   "source": [
    "!unzip data/FaceImages/fear.zip -d data/FaceImages/fear"
   ]
  },
  {
   "cell_type": "code",
   "execution_count": 13,
   "metadata": {
    "colab": {
     "base_uri": "https://localhost:8080/",
     "height": 34
    },
    "colab_type": "code",
    "id": "nl2xmaDPHLM-",
    "outputId": "82a2a5f1-1223-49fe-a377-55ba7c911cc8"
   },
   "outputs": [],
   "source": [
    "rm -r data/FaceImages/fear"
   ]
  },
  {
   "cell_type": "code",
   "execution_count": 14,
   "metadata": {
    "colab": {},
    "colab_type": "code",
    "id": "wUovqwwY9T4U"
   },
   "outputs": [
    {
     "name": "stdout",
     "output_type": "stream",
     "text": [
      "Archive:  data/FaceImages/fear.zip\n",
      "   creating: data/FaceImages/fear/\n",
      "  inflating: data/FaceImages/fear/Google_1_Ruth Hendry_17_oval copy.jpg  \n",
      "   creating: data/FaceImages/__MACOSX/\n",
      "   creating: data/FaceImages/__MACOSX/fear/\n",
      "  inflating: data/FaceImages/__MACOSX/fear/._Google_1_Ruth Hendry_17_oval copy.jpg  \n",
      "  inflating: data/FaceImages/fear/gem-lauris-rk-606993-unsplash copy.jpg  \n",
      "  inflating: data/FaceImages/__MACOSX/fear/._gem-lauris-rk-606993-unsplash copy.jpg  \n",
      "  inflating: data/FaceImages/fear/Google_1_Martin Whittington_1_oval copy.jpg  \n",
      "  inflating: data/FaceImages/__MACOSX/fear/._Google_1_Martin Whittington_1_oval copy.jpg  \n",
      "  inflating: data/FaceImages/fear/Google_1_Dale Winstead_7_oval copy.jpg  \n",
      "  inflating: data/FaceImages/__MACOSX/fear/._Google_1_Dale Winstead_7_oval copy.jpg  \n",
      "  inflating: data/FaceImages/fear/Google_1_Norman Sears_9_oval.jpg  \n",
      "  inflating: data/FaceImages/__MACOSX/fear/._Google_1_Norman Sears_9_oval.jpg  \n",
      "  inflating: data/FaceImages/fear/Google_1_John Stiltner_3_oval copy.jpg  \n",
      "  inflating: data/FaceImages/__MACOSX/fear/._Google_1_John Stiltner_3_oval copy.jpg  \n",
      "  inflating: data/FaceImages/fear/Google_1_Robert Rohr_5_oval copy.jpg  \n",
      "  inflating: data/FaceImages/__MACOSX/fear/._Google_1_Robert Rohr_5_oval copy.jpg  \n",
      "  inflating: data/FaceImages/fear/Google_1_Jonathan Koehn_15_oval copy.jpg  \n",
      "  inflating: data/FaceImages/__MACOSX/fear/._Google_1_Jonathan Koehn_15_oval copy.jpg  \n",
      "  inflating: data/FaceImages/fear/Google_1_Annie Viola_6_oval copy.jpg  \n",
      "  inflating: data/FaceImages/__MACOSX/fear/._Google_1_Annie Viola_6_oval copy.jpg  \n",
      "  inflating: data/FaceImages/fear/Fear_Of_Looking_Stupid_042418-800x450.jpg  \n",
      "  inflating: data/FaceImages/__MACOSX/fear/._Fear_Of_Looking_Stupid_042418-800x450.jpg  \n",
      "  inflating: data/FaceImages/fear/Google_1_Martin Whittington_1_oval.jpg  \n",
      "  inflating: data/FaceImages/__MACOSX/fear/._Google_1_Martin Whittington_1_oval.jpg  \n",
      "  inflating: data/FaceImages/fear/overcome-fear-of-aging.jpg  \n",
      "  inflating: data/FaceImages/__MACOSX/fear/._overcome-fear-of-aging.jpg  \n",
      "  inflating: data/FaceImages/fear/Google_1_Marvin Hodson_3_oval copy.jpg  \n",
      "  inflating: data/FaceImages/__MACOSX/fear/._Google_1_Marvin Hodson_3_oval copy.jpg  \n",
      "  inflating: data/FaceImages/fear/Google_1_Shelly Brophy_7_oval copy.jpg  \n",
      "  inflating: data/FaceImages/__MACOSX/fear/._Google_1_Shelly Brophy_7_oval copy.jpg  \n",
      "  inflating: data/FaceImages/fear/Google_1_Robert Rohr_5_oval.jpg  \n",
      "  inflating: data/FaceImages/__MACOSX/fear/._Google_1_Robert Rohr_5_oval.jpg  \n",
      "  inflating: data/FaceImages/fear/Google_1_Albert Waring_3_oval.jpg  \n",
      "  inflating: data/FaceImages/__MACOSX/fear/._Google_1_Albert Waring_3_oval.jpg  \n",
      "  inflating: data/FaceImages/fear/a4188959594_10 copy.jpg  \n",
      "  inflating: data/FaceImages/__MACOSX/fear/._a4188959594_10 copy.jpg  \n",
      "  inflating: data/FaceImages/fear/Google_1_Joshua Mckeown_5_oval copy.jpg  \n",
      "  inflating: data/FaceImages/__MACOSX/fear/._Google_1_Joshua Mckeown_5_oval copy.jpg  \n",
      "  inflating: data/FaceImages/fear/Google_1_Annie Hassell_9_oval copy.jpg  \n",
      "  inflating: data/FaceImages/__MACOSX/fear/._Google_1_Annie Hassell_9_oval copy.jpg  \n",
      "  inflating: data/FaceImages/fear/a4188959594_10.jpg  \n",
      "  inflating: data/FaceImages/__MACOSX/fear/._a4188959594_10.jpg  \n",
      "  inflating: data/FaceImages/fear/fear1 copy.jpg  \n",
      "  inflating: data/FaceImages/__MACOSX/fear/._fear1 copy.jpg  \n",
      "  inflating: data/FaceImages/fear/fear0 copy.jpg  \n",
      "  inflating: data/FaceImages/__MACOSX/fear/._fear0 copy.jpg  \n",
      "  inflating: data/FaceImages/fear/Google_1_Alicia Hollenbeck_152_oval copy.jpg  \n",
      "  inflating: data/FaceImages/__MACOSX/fear/._Google_1_Alicia Hollenbeck_152_oval copy.jpg  \n",
      "  inflating: data/FaceImages/fear/Google_1_Anthony Massengale_15_oval copy.jpg  \n",
      "  inflating: data/FaceImages/__MACOSX/fear/._Google_1_Anthony Massengale_15_oval copy.jpg  \n",
      "  inflating: data/FaceImages/fear/Google_1_Esther Skeens_13_oval copy.jpg  \n",
      "  inflating: data/FaceImages/__MACOSX/fear/._Google_1_Esther Skeens_13_oval copy.jpg  \n",
      "  inflating: data/FaceImages/fear/Google_1_Craig Odle_15_oval.jpg  \n",
      "  inflating: data/FaceImages/__MACOSX/fear/._Google_1_Craig Odle_15_oval.jpg  \n",
      "  inflating: data/FaceImages/fear/Google_1_Rachel Espinosa_7_oval (2).jpg  \n",
      "  inflating: data/FaceImages/__MACOSX/fear/._Google_1_Rachel Espinosa_7_oval (2).jpg  \n",
      "  inflating: data/FaceImages/fear/Google_1_Jimmy Welborn_9_oval copy.jpg  \n",
      "  inflating: data/FaceImages/__MACOSX/fear/._Google_1_Jimmy Welborn_9_oval copy.jpg  \n",
      "  inflating: data/FaceImages/fear/Alex-Honnold copy.jpg  \n",
      "  inflating: data/FaceImages/__MACOSX/fear/._Alex-Honnold copy.jpg  \n",
      "  inflating: data/FaceImages/fear/Google_1_Janice Western_19_oval copy.jpg  \n",
      "  inflating: data/FaceImages/fear/Google_1_Michael Turcotte_15_oval copy.jpg  \n",
      "  inflating: data/FaceImages/__MACOSX/fear/._Google_1_Michael Turcotte_15_oval copy.jpg  \n",
      "  inflating: data/FaceImages/fear/Google_1_Jeffrey Kyser_11_oval.jpg  \n",
      "  inflating: data/FaceImages/__MACOSX/fear/._Google_1_Jeffrey Kyser_11_oval.jpg  \n",
      "  inflating: data/FaceImages/fear/Google_1_Clara Fuqua_13_oval.jpg  \n",
      "  inflating: data/FaceImages/fear/Google_1_Mike Boatwright_7_oval copy.jpg  \n",
      "  inflating: data/FaceImages/__MACOSX/fear/._Google_1_Mike Boatwright_7_oval copy.jpg  \n",
      "  inflating: data/FaceImages/fear/dn17697-1_300 copy.jpg  \n",
      "  inflating: data/FaceImages/__MACOSX/fear/._dn17697-1_300 copy.jpg  \n",
      "  inflating: data/FaceImages/fear/181109-einstein-nazi-fears-01-1.jpg  \n",
      "  inflating: data/FaceImages/__MACOSX/fear/._181109-einstein-nazi-fears-01-1.jpg  \n",
      "  inflating: data/FaceImages/fear/Google_1_Sheri Pabon_13_oval.jpg  \n",
      "  inflating: data/FaceImages/fear/Google_1_Johnny Bourg_17_oval.jpg  \n",
      "  inflating: data/FaceImages/__MACOSX/fear/._Google_1_Johnny Bourg_17_oval.jpg  \n",
      "  inflating: data/FaceImages/fear/Google_1_Marvin Liggett_15_oval copy.jpg  \n",
      "  inflating: data/FaceImages/__MACOSX/fear/._Google_1_Marvin Liggett_15_oval copy.jpg  \n",
      "  inflating: data/FaceImages/fear/Google_1_Kara Tsang_11_oval.jpg  \n",
      "  inflating: data/FaceImages/__MACOSX/fear/._Google_1_Kara Tsang_11_oval.jpg  \n",
      "  inflating: data/FaceImages/fear/Google_1_Annie Raymond_11_oval copy.jpg  \n",
      "  inflating: data/FaceImages/__MACOSX/fear/._Google_1_Annie Raymond_11_oval copy.jpg  \n",
      "  inflating: data/FaceImages/fear/Google_1_Katrina Barham_5_oval copy.jpg  \n",
      "  inflating: data/FaceImages/fear/Google_1_Nathan Kiger_9_oval.jpg  \n",
      "  inflating: data/FaceImages/__MACOSX/fear/._Google_1_Nathan Kiger_9_oval.jpg  \n",
      "  inflating: data/FaceImages/fear/fear-remake-700x300.jpg  \n",
      "  inflating: data/FaceImages/__MACOSX/fear/._fear-remake-700x300.jpg  \n",
      "  inflating: data/FaceImages/fear/afraid_of_the_dark_image_via_shutterstock copy.jpg  \n",
      "  inflating: data/FaceImages/__MACOSX/fear/._afraid_of_the_dark_image_via_shutterstock copy.jpg  \n",
      "  inflating: data/FaceImages/fear/Google_1_Gary Moses_1_oval.jpg  \n",
      "  inflating: data/FaceImages/__MACOSX/fear/._Google_1_Gary Moses_1_oval.jpg  \n",
      "  inflating: data/FaceImages/fear/Google_1_Alicia Stallings_17_oval copy.jpg  \n",
      "  inflating: data/FaceImages/__MACOSX/fear/._Google_1_Alicia Stallings_17_oval copy.jpg  \n",
      "  inflating: data/FaceImages/fear/cc_iStock_78822855_LARGE-2_16x9 copy.jpg  \n",
      "  inflating: data/FaceImages/__MACOSX/fear/._cc_iStock_78822855_LARGE-2_16x9 copy.jpg  \n",
      "  inflating: data/FaceImages/fear/Google_1_Jonathan Delrosario_7_oval.jpg  \n",
      "  inflating: data/FaceImages/__MACOSX/fear/._Google_1_Jonathan Delrosario_7_oval.jpg  \n",
      "  inflating: data/FaceImages/fear/Google_1_Flora Jaques_19_oval copy.jpg  \n",
      "  inflating: data/FaceImages/fear/Billy_Chasse_9_oval.jpg  \n",
      "  inflating: data/FaceImages/__MACOSX/fear/._Billy_Chasse_9_oval.jpg  \n",
      "  inflating: data/FaceImages/fear/Google_1_Douglas Quach_5_oval.jpg  \n",
      "  inflating: data/FaceImages/__MACOSX/fear/._Google_1_Douglas Quach_5_oval.jpg  \n",
      "  inflating: data/FaceImages/fear/fear-the-walking-dead-trailer2.jpg  \n",
      "  inflating: data/FaceImages/__MACOSX/fear/._fear-the-walking-dead-trailer2.jpg  \n",
      "  inflating: data/FaceImages/fear/Google_1_Philip Criswell_7_oval copy.jpg  \n",
      "  inflating: data/FaceImages/__MACOSX/fear/._Google_1_Philip Criswell_7_oval copy.jpg  \n",
      "  inflating: data/FaceImages/fear/Google_1_Judy Josephson_14_oval.jpg  \n"
     ]
    },
    {
     "name": "stdout",
     "output_type": "stream",
     "text": [
      "  inflating: data/FaceImages/__MACOSX/fear/._Google_1_Judy Josephson_14_oval.jpg  \n",
      "  inflating: data/FaceImages/fear/Google_1_Robert Bullins_7_oval.jpg  \n",
      "  inflating: data/FaceImages/fear/774390d1-10a4-41c5-af6d-5935b4447e53.jpg  \n",
      "  inflating: data/FaceImages/__MACOSX/fear/._774390d1-10a4-41c5-af6d-5935b4447e53.jpg  \n",
      "  inflating: data/FaceImages/fear/https3A2F2Fblogs-images.forbes.com2Ferikkain2Ffiles2F20162F052FFear-The-Walking-Dead-Season-2-Alicia-1200x800.jpg  \n",
      "  inflating: data/FaceImages/__MACOSX/fear/._https3A2F2Fblogs-images.forbes.com2Ferikkain2Ffiles2F20162F052FFear-The-Walking-Dead-Season-2-Alicia-1200x800.jpg  \n",
      "  inflating: data/FaceImages/fear/cc_iStock_78822855_LARGE-2_16x9.jpg  \n",
      "  inflating: data/FaceImages/__MACOSX/fear/._cc_iStock_78822855_LARGE-2_16x9.jpg  \n",
      "  inflating: data/FaceImages/fear/Google_1_Jerry Leonardo_3_oval copy.jpg  \n",
      "  inflating: data/FaceImages/__MACOSX/fear/._Google_1_Jerry Leonardo_3_oval copy.jpg  \n",
      "  inflating: data/FaceImages/fear/Google_1_Marvin Jason_1_oval copy.jpg  \n",
      "  inflating: data/FaceImages/__MACOSX/fear/._Google_1_Marvin Jason_1_oval copy.jpg  \n",
      "  inflating: data/FaceImages/fear/FEAR_S4_PREPREM_LOOKATSEASON4B-800x450.jpg  \n",
      "  inflating: data/FaceImages/__MACOSX/fear/._FEAR_S4_PREPREM_LOOKATSEASON4B-800x450.jpg  \n",
      "  inflating: data/FaceImages/fear/Google_1_Harold Hopkins_15_oval.jpg  \n",
      "  inflating: data/FaceImages/__MACOSX/fear/._Google_1_Harold Hopkins_15_oval.jpg  \n",
      "  inflating: data/FaceImages/fear/Google_1_Harold Hopkins_15_oval copy.jpg  \n",
      "  inflating: data/FaceImages/__MACOSX/fear/._Google_1_Harold Hopkins_15_oval copy.jpg  \n",
      "  inflating: data/FaceImages/fear/.DS_Store  \n",
      "  inflating: data/FaceImages/__MACOSX/fear/._.DS_Store  \n",
      "  inflating: data/FaceImages/fear/fear2.jpg  \n",
      "  inflating: data/FaceImages/__MACOSX/fear/._fear2.jpg  \n",
      "  inflating: data/FaceImages/fear/Google_1_Mike Boatwright_7_oval.jpg  \n",
      "  inflating: data/FaceImages/__MACOSX/fear/._Google_1_Mike Boatwright_7_oval.jpg  \n",
      "  inflating: data/FaceImages/fear/Google_1_Martin Willey_13_oval.jpg  \n",
      "  inflating: data/FaceImages/__MACOSX/fear/._Google_1_Martin Willey_13_oval.jpg  \n",
      "  inflating: data/FaceImages/fear/Google_1_Bryan Stump_1_oval.jpg  \n",
      "  inflating: data/FaceImages/__MACOSX/fear/._Google_1_Bryan Stump_1_oval.jpg  \n",
      "  inflating: data/FaceImages/fear/Google_1_Marvin Hodson_3_oval.jpg  \n",
      "  inflating: data/FaceImages/__MACOSX/fear/._Google_1_Marvin Hodson_3_oval.jpg  \n",
      "  inflating: data/FaceImages/fear/overcoming-fear-melanoma-awareness copy.jpg  \n",
      "  inflating: data/FaceImages/__MACOSX/fear/._overcoming-fear-melanoma-awareness copy.jpg  \n",
      "  inflating: data/FaceImages/fear/fear3.jpg  \n",
      "  inflating: data/FaceImages/__MACOSX/fear/._fear3.jpg  \n",
      "  inflating: data/FaceImages/fear/istock-43660844-small copy.jpg  \n",
      "  inflating: data/FaceImages/__MACOSX/fear/._istock-43660844-small copy.jpg  \n",
      "  inflating: data/FaceImages/fear/Google_1_Shawn Charles_1_oval copy.jpg  \n",
      "  inflating: data/FaceImages/fear/Google_1_Carlos Carrier_17_oval.jpg  \n",
      "  inflating: data/FaceImages/__MACOSX/fear/._Google_1_Carlos Carrier_17_oval.jpg  \n",
      "  inflating: data/FaceImages/fear/957e7531-2756-45a4-a995-657e3591455c-zaeh_bustle_apr2016-131.jpg  \n",
      "  inflating: data/FaceImages/__MACOSX/fear/._957e7531-2756-45a4-a995-657e3591455c-zaeh_bustle_apr2016-131.jpg  \n",
      "  inflating: data/FaceImages/fear/Google_1_William Ferris_1_oval copy.jpg  \n",
      "  inflating: data/FaceImages/__MACOSX/fear/._Google_1_William Ferris_1_oval copy.jpg  \n",
      "  inflating: data/FaceImages/fear/Google_1_Craig Wall_19_oval.jpg  \n",
      "  inflating: data/FaceImages/__MACOSX/fear/._Google_1_Craig Wall_19_oval.jpg  \n",
      "  inflating: data/FaceImages/fear/Google_1_Jonathan Koehn_15_oval.jpg  \n",
      "  inflating: data/FaceImages/__MACOSX/fear/._Google_1_Jonathan Koehn_15_oval.jpg  \n",
      "  inflating: data/FaceImages/fear/120319052055-scared-woman-portrait-story-top.jpg  \n",
      "  inflating: data/FaceImages/__MACOSX/fear/._120319052055-scared-woman-portrait-story-top.jpg  \n",
      "  inflating: data/FaceImages/fear/Google_1_Carlos Walters_15_oval.jpg  \n",
      "  inflating: data/FaceImages/__MACOSX/fear/._Google_1_Carlos Walters_15_oval.jpg  \n",
      "  inflating: data/FaceImages/fear/Google_1_Jesse Godwin_5_oval copy.jpg  \n",
      "  inflating: data/FaceImages/__MACOSX/fear/._Google_1_Jesse Godwin_5_oval copy.jpg  \n",
      "  inflating: data/FaceImages/fear/Google_1_Ruth Burk_9_oval copy.jpg  \n",
      "  inflating: data/FaceImages/__MACOSX/fear/._Google_1_Ruth Burk_9_oval copy.jpg  \n",
      "  inflating: data/FaceImages/fear/Google_1_Martin Willey_13_oval copy.jpg  \n",
      "  inflating: data/FaceImages/__MACOSX/fear/._Google_1_Martin Willey_13_oval copy.jpg  \n",
      "  inflating: data/FaceImages/fear/1.12350 copy.jpg  \n",
      "  inflating: data/FaceImages/__MACOSX/fear/._1.12350 copy.jpg  \n",
      "  inflating: data/FaceImages/fear/Google_1_Darlene Dowell_5_oval copy.jpg  \n",
      "  inflating: data/FaceImages/__MACOSX/fear/._Google_1_Darlene Dowell_5_oval copy.jpg  \n",
      "  inflating: data/FaceImages/fear/Google_1_Brandon Belt_17_oval.jpg  \n",
      "  inflating: data/FaceImages/__MACOSX/fear/._Google_1_Brandon Belt_17_oval.jpg  \n",
      "  inflating: data/FaceImages/fear/Google_1_Wilma Irvin_15_oval.jpg  \n",
      "  inflating: data/FaceImages/fear/Google_1_Todd Murphy_5_oval.jpg  \n",
      "  inflating: data/FaceImages/__MACOSX/fear/._Google_1_Todd Murphy_5_oval.jpg  \n",
      "  inflating: data/FaceImages/fear/Google_1_Nathan Jump_11_oval.jpg  \n",
      "  inflating: data/FaceImages/__MACOSX/fear/._Google_1_Nathan Jump_11_oval.jpg  \n",
      "  inflating: data/FaceImages/fear/Google_1_Philip Criswell_7_oval.jpg  \n",
      "  inflating: data/FaceImages/__MACOSX/fear/._Google_1_Philip Criswell_7_oval.jpg  \n",
      "  inflating: data/FaceImages/fear/fear1.jpg  \n",
      "  inflating: data/FaceImages/__MACOSX/fear/._fear1.jpg  \n",
      "  inflating: data/FaceImages/fear/overcome-fear-of-aging copy.jpg  \n",
      "  inflating: data/FaceImages/__MACOSX/fear/._overcome-fear-of-aging copy.jpg  \n",
      "  inflating: data/FaceImages/fear/Google_1_Samuel Lindquist_5_oval copy.jpg  \n",
      "  inflating: data/FaceImages/fear/fear01_banner.jpg  \n",
      "  inflating: data/FaceImages/__MACOSX/fear/._fear01_banner.jpg  \n",
      "  inflating: data/FaceImages/fear/fear0.jpg  \n",
      "  inflating: data/FaceImages/__MACOSX/fear/._fear0.jpg  \n",
      "  inflating: data/FaceImages/fear/Google_1_Eric Merrifield_9_oval.jpg  \n",
      "  inflating: data/FaceImages/__MACOSX/fear/._Google_1_Eric Merrifield_9_oval.jpg  \n",
      "  inflating: data/FaceImages/fear/Google_1_John Stiltner_3_oval.jpg  \n",
      "  inflating: data/FaceImages/__MACOSX/fear/._Google_1_John Stiltner_3_oval.jpg  \n",
      "  inflating: data/FaceImages/fear/Google_1_Gary Corona_11_oval.jpg  \n",
      "  inflating: data/FaceImages/__MACOSX/fear/._Google_1_Gary Corona_11_oval.jpg  \n",
      "  inflating: data/FaceImages/fear/fear-safety-leaving-abuse.jpg  \n",
      "  inflating: data/FaceImages/__MACOSX/fear/._fear-safety-leaving-abuse.jpg  \n",
      "  inflating: data/FaceImages/fear/afraid_of_the_dark_image_via_shutterstock.jpg  \n",
      "  inflating: data/FaceImages/__MACOSX/fear/._afraid_of_the_dark_image_via_shutterstock.jpg  \n",
      "  inflating: data/FaceImages/fear/Google_1_Michael Delgado_13_oval copy.jpg  \n",
      "  inflating: data/FaceImages/__MACOSX/fear/._Google_1_Michael Delgado_13_oval copy.jpg  \n",
      "  inflating: data/FaceImages/fear/fear-safety-leaving-abuse copy.jpg  \n",
      "  inflating: data/FaceImages/__MACOSX/fear/._fear-safety-leaving-abuse copy.jpg  \n",
      "  inflating: data/FaceImages/fear/Google_1_Eric Rader_1_oval.jpg  \n",
      "  inflating: data/FaceImages/__MACOSX/fear/._Google_1_Eric Rader_1_oval.jpg  \n",
      "  inflating: data/FaceImages/fear/maxresdefault0.jpg  \n",
      "  inflating: data/FaceImages/__MACOSX/fear/._maxresdefault0.jpg  \n",
      "  inflating: data/FaceImages/fear/Anthony_Cavender_11_oval.jpg  \n",
      "  inflating: data/FaceImages/__MACOSX/fear/._Anthony_Cavender_11_oval.jpg  \n",
      "  inflating: data/FaceImages/fear/Google_1_Linda Morehouse_3_oval copy.jpg  \n",
      "  inflating: data/FaceImages/__MACOSX/fear/._Google_1_Linda Morehouse_3_oval copy.jpg  \n",
      "  inflating: data/FaceImages/fear/Google_1_Kara Tsang_11_oval copy.jpg  \n",
      "  inflating: data/FaceImages/__MACOSX/fear/._Google_1_Kara Tsang_11_oval copy.jpg  \n",
      "  inflating: data/FaceImages/fear/Google_1_Judith Stock_13_oval.jpg  \n",
      "  inflating: data/FaceImages/fear/Google_1_Kristin Catalan_11_oval.jpg  \n",
      "  inflating: data/FaceImages/__MACOSX/fear/._Google_1_Kristin Catalan_11_oval.jpg  \n",
      "  inflating: data/FaceImages/fear/Google_1_Henry Marcum_5_oval.jpg  \n",
      "  inflating: data/FaceImages/__MACOSX/fear/._Google_1_Henry Marcum_5_oval.jpg  \n",
      "  inflating: data/FaceImages/fear/Google_1_Jessica Lacy_17_oval copy.jpg  \n"
     ]
    },
    {
     "name": "stdout",
     "output_type": "stream",
     "text": [
      "  inflating: data/FaceImages/__MACOSX/fear/._Google_1_Jessica Lacy_17_oval copy.jpg  \n",
      "  inflating: data/FaceImages/fear/Google_1_Todd Murphy_5_oval copy.jpg  \n",
      "  inflating: data/FaceImages/__MACOSX/fear/._Google_1_Todd Murphy_5_oval copy.jpg  \n",
      "  inflating: data/FaceImages/fear/Google_1_Mike Boatwright_1_oval.jpg  \n",
      "  inflating: data/FaceImages/__MACOSX/fear/._Google_1_Mike Boatwright_1_oval.jpg  \n",
      "  inflating: data/FaceImages/fear/560475-mtvyoutubehed_0 copy.jpg  \n",
      "  inflating: data/FaceImages/__MACOSX/fear/._560475-mtvyoutubehed_0 copy.jpg  \n",
      "  inflating: data/FaceImages/fear/Google_1_Douglas Bouie_5_oval.jpg  \n",
      "  inflating: data/FaceImages/__MACOSX/fear/._Google_1_Douglas Bouie_5_oval.jpg  \n",
      "  inflating: data/FaceImages/fear/Google_1_Steve Canady_12_oval copy.jpg  \n",
      "  inflating: data/FaceImages/__MACOSX/fear/._Google_1_Steve Canady_12_oval copy.jpg  \n",
      "  inflating: data/FaceImages/fear/Bonnie_Ng_13_oval.jpg  \n",
      "  inflating: data/FaceImages/__MACOSX/fear/._Bonnie_Ng_13_oval.jpg  \n",
      "  inflating: data/FaceImages/fear/maxresdefault.jpg  \n",
      "  inflating: data/FaceImages/__MACOSX/fear/._maxresdefault.jpg  \n",
      "  inflating: data/FaceImages/fear/Google_1_Jimmy Welborn_9_oval.jpg  \n",
      "  inflating: data/FaceImages/__MACOSX/fear/._Google_1_Jimmy Welborn_9_oval.jpg  \n",
      "  inflating: data/FaceImages/fear/Google_1_Jessica Lacy_17_oval.jpg  \n",
      "  inflating: data/FaceImages/__MACOSX/fear/._Google_1_Jessica Lacy_17_oval.jpg  \n",
      "  inflating: data/FaceImages/fear/screen_shot_2016-08-09_at_2.26.12_pm-1366x734.jpg  \n",
      "  inflating: data/FaceImages/__MACOSX/fear/._screen_shot_2016-08-09_at_2.26.12_pm-1366x734.jpg  \n",
      "  inflating: data/FaceImages/fear/Google_1_Amelia Rupp_1_oval.jpg  \n",
      "  inflating: data/FaceImages/__MACOSX/fear/._Google_1_Amelia Rupp_1_oval.jpg  \n",
      "  inflating: data/FaceImages/fear/Google_1_Jerry Derose_9_oval.jpg  \n",
      "  inflating: data/FaceImages/__MACOSX/fear/._Google_1_Jerry Derose_9_oval.jpg  \n",
      "  inflating: data/FaceImages/fear/Google_1_Loretta Thatcher_1_oval.jpg  \n",
      "  inflating: data/FaceImages/__MACOSX/fear/._Google_1_Loretta Thatcher_1_oval.jpg  \n",
      "  inflating: data/FaceImages/fear/lovenotfearkids-w1700 copy.jpg  \n",
      "  inflating: data/FaceImages/__MACOSX/fear/._lovenotfearkids-w1700 copy.jpg  \n",
      "  inflating: data/FaceImages/fear/FEAR_S4_PREPREM_LOOKATSEASON4B-800x450 copy.jpg  \n",
      "  inflating: data/FaceImages/__MACOSX/fear/._FEAR_S4_PREPREM_LOOKATSEASON4B-800x450 copy.jpg  \n",
      "  inflating: data/FaceImages/fear/fear-being-alone.jpg  \n",
      "  inflating: data/FaceImages/__MACOSX/fear/._fear-being-alone.jpg  \n",
      "  inflating: data/FaceImages/fear/woman-gazing-past-shutter-350 copy.jpg  \n",
      "  inflating: data/FaceImages/__MACOSX/fear/._woman-gazing-past-shutter-350 copy.jpg  \n",
      "  inflating: data/FaceImages/fear/Google_1_Blanche Albaugh_5_oval.jpg  \n",
      "  inflating: data/FaceImages/__MACOSX/fear/._Google_1_Blanche Albaugh_5_oval.jpg  \n",
      "  inflating: data/FaceImages/fear/BabyFear1-998x703 copy.jpg  \n",
      "  inflating: data/FaceImages/__MACOSX/fear/._BabyFear1-998x703 copy.jpg  \n",
      "  inflating: data/FaceImages/fear/Google_1_Katrina Rathbone_1_oval.jpg  \n",
      "  inflating: data/FaceImages/__MACOSX/fear/._Google_1_Katrina Rathbone_1_oval.jpg  \n",
      "  inflating: data/FaceImages/fear/Google_1_Sonya Myles_5_oval.jpg  \n",
      "  inflating: data/FaceImages/__MACOSX/fear/._Google_1_Sonya Myles_5_oval.jpg  \n",
      "  inflating: data/FaceImages/fear/Brief-FearFaces-lowrez copy.jpg  \n",
      "  inflating: data/FaceImages/__MACOSX/fear/._Brief-FearFaces-lowrez copy.jpg  \n",
      "  inflating: data/FaceImages/fear/fear-of-music copy.jpg  \n",
      "  inflating: data/FaceImages/__MACOSX/fear/._fear-of-music copy.jpg  \n",
      "  inflating: data/FaceImages/fear/Google_1_Ernest Jefferies_17_oval copy.jpg  \n",
      "  inflating: data/FaceImages/__MACOSX/fear/._Google_1_Ernest Jefferies_17_oval copy.jpg  \n",
      "  inflating: data/FaceImages/fear/Google_1_Martin Szymanski_11_oval.jpg  \n",
      "  inflating: data/FaceImages/__MACOSX/fear/._Google_1_Martin Szymanski_11_oval.jpg  \n",
      "  inflating: data/FaceImages/fear/Google_1_Cora Ruppert_7_oval copy.jpg  \n",
      "  inflating: data/FaceImages/__MACOSX/fear/._Google_1_Cora Ruppert_7_oval copy.jpg  \n",
      "  inflating: data/FaceImages/fear/Google_1_Rachel Espinosa_7_oval (2) copy.jpg  \n",
      "  inflating: data/FaceImages/__MACOSX/fear/._Google_1_Rachel Espinosa_7_oval (2) copy.jpg  \n",
      "  inflating: data/FaceImages/fear/120319052055-scared-woman-portrait-story-top copy.jpg  \n",
      "  inflating: data/FaceImages/__MACOSX/fear/._120319052055-scared-woman-portrait-story-top copy.jpg  \n",
      "  inflating: data/FaceImages/fear/Google_1_Matthew Hickman_3_oval copy.jpg  \n",
      "  inflating: data/FaceImages/__MACOSX/fear/._Google_1_Matthew Hickman_3_oval copy.jpg  \n",
      "  inflating: data/FaceImages/fear/Google_1_Kathleen Guimond_3_oval copy.jpg  \n",
      "  inflating: data/FaceImages/__MACOSX/fear/._Google_1_Kathleen Guimond_3_oval copy.jpg  \n",
      "  inflating: data/FaceImages/fear/Google_1_Craig Wall_19_oval copy.jpg  \n",
      "  inflating: data/FaceImages/__MACOSX/fear/._Google_1_Craig Wall_19_oval copy.jpg  \n",
      "  inflating: data/FaceImages/fear/dn17697-1_300.jpg  \n",
      "  inflating: data/FaceImages/__MACOSX/fear/._dn17697-1_300.jpg  \n",
      "  inflating: data/FaceImages/fear/loneliness-fear.jpg  \n",
      "  inflating: data/FaceImages/__MACOSX/fear/._loneliness-fear.jpg  \n",
      "  inflating: data/FaceImages/fear/Google_1_Johnny Bourg_17_oval copy.jpg  \n",
      "  inflating: data/FaceImages/__MACOSX/fear/._Google_1_Johnny Bourg_17_oval copy.jpg  \n",
      "  inflating: data/FaceImages/fear/Google_1_Darlene Dowell_5_oval.jpg  \n",
      "  inflating: data/FaceImages/__MACOSX/fear/._Google_1_Darlene Dowell_5_oval.jpg  \n",
      "  inflating: data/FaceImages/fear/Google_1_Allen Buss_15_oval copy.jpg  \n",
      "  inflating: data/FaceImages/__MACOSX/fear/._Google_1_Allen Buss_15_oval copy.jpg  \n",
      "  inflating: data/FaceImages/fear/istock-43660844-small.jpg  \n",
      "  inflating: data/FaceImages/__MACOSX/fear/._istock-43660844-small.jpg  \n",
      "  inflating: data/FaceImages/fear/reduce-fear-and-anxiety-naturally copy.jpg  \n",
      "  inflating: data/FaceImages/__MACOSX/fear/._reduce-fear-and-anxiety-naturally copy.jpg  \n",
      "  inflating: data/FaceImages/fear/20100430-scared-woman-300x205 copy.jpg  \n",
      "  inflating: data/FaceImages/__MACOSX/fear/._20100430-scared-woman-300x205 copy.jpg  \n",
      "  inflating: data/FaceImages/fear/xfear-600.jpg.pagespeed.ic.h3ZYaCs_--.jpg  \n",
      "  inflating: data/FaceImages/__MACOSX/fear/._xfear-600.jpg.pagespeed.ic.h3ZYaCs_--.jpg  \n",
      "  inflating: data/FaceImages/fear/953969_087.jpg  \n",
      "  inflating: data/FaceImages/__MACOSX/fear/._953969_087.jpg  \n",
      "  inflating: data/FaceImages/fear/Google_1_Suzanne Haught_14_oval.jpg  \n",
      "  inflating: data/FaceImages/__MACOSX/fear/._Google_1_Suzanne Haught_14_oval.jpg  \n",
      "  inflating: data/FaceImages/fear/Google_1_Blanche Albaugh_5_oval copy.jpg  \n",
      "  inflating: data/FaceImages/__MACOSX/fear/._Google_1_Blanche Albaugh_5_oval copy.jpg  \n",
      "  inflating: data/FaceImages/fear/Google_1_Eric Merrifield_9_oval copy.jpg  \n",
      "  inflating: data/FaceImages/__MACOSX/fear/._Google_1_Eric Merrifield_9_oval copy.jpg  \n",
      "  inflating: data/FaceImages/fear/Google_1_Hazel Chadwell_9_oval.jpg  \n",
      "  inflating: data/FaceImages/__MACOSX/fear/._Google_1_Hazel Chadwell_9_oval.jpg  \n",
      "  inflating: data/FaceImages/fear/Google_1_Heather Baca_5_oval.jpg  \n",
      "  inflating: data/FaceImages/__MACOSX/fear/._Google_1_Heather Baca_5_oval.jpg  \n",
      "  inflating: data/FaceImages/fear/entrepreneur_fear_of_failure-resized-600.jpgwidthu003d309u0026heightu003d205u0026nameu003dentrepreneur_fear_of_failure-resized-600.jpg  \n",
      "  inflating: data/FaceImages/__MACOSX/fear/._entrepreneur_fear_of_failure-resized-600.jpgwidthu003d309u0026heightu003d205u0026nameu003dentrepreneur_fear_of_failure-resized-600.jpg  \n",
      "  inflating: data/FaceImages/fear/Google_1_James Goodin_1_oval copy.jpg  \n",
      "  inflating: data/FaceImages/__MACOSX/fear/._Google_1_James Goodin_1_oval copy.jpg  \n",
      "  inflating: data/FaceImages/fear/Google_1_Charles Hagood_5_oval copy.jpg  \n",
      "  inflating: data/FaceImages/__MACOSX/fear/._Google_1_Charles Hagood_5_oval copy.jpg  \n",
      "  inflating: data/FaceImages/fear/Google_1_Albert Waring_3_oval copy.jpg  \n",
      "  inflating: data/FaceImages/__MACOSX/fear/._Google_1_Albert Waring_3_oval copy.jpg  \n",
      "  inflating: data/FaceImages/fear/howtoconfrontyourfearbasedthoughts copy.jpg  \n",
      "  inflating: data/FaceImages/__MACOSX/fear/._howtoconfrontyourfearbasedthoughts copy.jpg  \n",
      "  inflating: data/FaceImages/fear/Google_1_Felicia Cochran_9_oval.jpg  \n",
      "  inflating: data/FaceImages/fear/Google_1_Bruce Forrester_1_oval.jpg  \n"
     ]
    },
    {
     "name": "stdout",
     "output_type": "stream",
     "text": [
      "  inflating: data/FaceImages/__MACOSX/fear/._Google_1_Bruce Forrester_1_oval.jpg  \n",
      "  inflating: data/FaceImages/fear/screen-shot-2018-09-19-at-11-08-45-am.png  \n",
      "  inflating: data/FaceImages/__MACOSX/fear/._screen-shot-2018-09-19-at-11-08-45-am.png  \n",
      "  inflating: data/FaceImages/fear/957e7531-2756-45a4-a995-657e3591455c-zaeh_bustle_apr2016-131 copy.jpg  \n",
      "  inflating: data/FaceImages/__MACOSX/fear/._957e7531-2756-45a4-a995-657e3591455c-zaeh_bustle_apr2016-131 copy.jpg  \n",
      "  inflating: data/FaceImages/fear/Google_1_Clara Fuqua_13_oval copy.jpg  \n",
      "  inflating: data/FaceImages/fear/Ernest_Mansell_1_oval copy.jpg  \n",
      "  inflating: data/FaceImages/__MACOSX/fear/._Ernest_Mansell_1_oval copy.jpg  \n",
      "  inflating: data/FaceImages/fear/Google_1_Nathan Kiger_9_oval copy.jpg  \n",
      "  inflating: data/FaceImages/__MACOSX/fear/._Google_1_Nathan Kiger_9_oval copy.jpg  \n",
      "  inflating: data/FaceImages/fear/Google_1_Leona Kirkman_3_oval.jpg  \n",
      "  inflating: data/FaceImages/__MACOSX/fear/._Google_1_Leona Kirkman_3_oval.jpg  \n",
      "  inflating: data/FaceImages/fear/Google_1_Karen Rosenberger_1_oval.jpg  \n",
      "  inflating: data/FaceImages/__MACOSX/fear/._Google_1_Karen Rosenberger_1_oval.jpg  \n",
      "  inflating: data/FaceImages/fear/file-20180524-51121-16msv1o copy.jpg  \n",
      "  inflating: data/FaceImages/__MACOSX/fear/._file-20180524-51121-16msv1o copy.jpg  \n",
      "  inflating: data/FaceImages/fear/Google_1_Craig Odle_15_oval copy.jpg  \n",
      "  inflating: data/FaceImages/__MACOSX/fear/._Google_1_Craig Odle_15_oval copy.jpg  \n",
      "  inflating: data/FaceImages/fear/Anthony_Hartsfield_11_oval copy.jpg  \n",
      "  inflating: data/FaceImages/__MACOSX/fear/._Anthony_Hartsfield_11_oval copy.jpg  \n",
      "  inflating: data/FaceImages/fear/Google_1_Kristin Hammons_1_oval.jpg  \n",
      "  inflating: data/FaceImages/__MACOSX/fear/._Google_1_Kristin Hammons_1_oval.jpg  \n",
      "  inflating: data/FaceImages/fear/Google_1_Karen Oxford_16_oval.jpg  \n",
      "  inflating: data/FaceImages/__MACOSX/fear/._Google_1_Karen Oxford_16_oval.jpg  \n",
      "  inflating: data/FaceImages/fear/Google_1_Anthony Pogue_3_oval copy.jpg  \n",
      "  inflating: data/FaceImages/__MACOSX/fear/._Google_1_Anthony Pogue_3_oval copy.jpg  \n",
      "  inflating: data/FaceImages/fear/gem-lauris-rk-606993-unsplash.jpg  \n",
      "  inflating: data/FaceImages/__MACOSX/fear/._gem-lauris-rk-606993-unsplash.jpg  \n",
      "  inflating: data/FaceImages/fear/FearI2 copy.png  \n",
      "  inflating: data/FaceImages/__MACOSX/fear/._FearI2 copy.png  \n",
      "  inflating: data/FaceImages/fear/Google_1_Jimmy Perrotta_5_oval copy.jpg  \n",
      "  inflating: data/FaceImages/__MACOSX/fear/._Google_1_Jimmy Perrotta_5_oval copy.jpg  \n",
      "  inflating: data/FaceImages/fear/steven-pressfield.jpg  \n",
      "  inflating: data/FaceImages/__MACOSX/fear/._steven-pressfield.jpg  \n",
      "  inflating: data/FaceImages/fear/Anthony_Cavender_11_oval copy.jpg  \n",
      "  inflating: data/FaceImages/__MACOSX/fear/._Anthony_Cavender_11_oval copy.jpg  \n",
      "  inflating: data/FaceImages/fear/Google_1_Elizabeth Condon_7_oval copy.jpg  \n",
      "  inflating: data/FaceImages/__MACOSX/fear/._Google_1_Elizabeth Condon_7_oval copy.jpg  \n",
      "  inflating: data/FaceImages/fear/Google_1_Melissa Sauer_5_oval copy.jpg  \n",
      "  inflating: data/FaceImages/__MACOSX/fear/._Google_1_Melissa Sauer_5_oval copy.jpg  \n",
      "  inflating: data/FaceImages/fear/Google_1_Joshua Mckeown_5_oval.jpg  \n",
      "  inflating: data/FaceImages/__MACOSX/fear/._Google_1_Joshua Mckeown_5_oval.jpg  \n",
      "  inflating: data/FaceImages/fear/Google_1_Kathleen Valerio_9_oval copy.jpg  \n",
      "  inflating: data/FaceImages/__MACOSX/fear/._Google_1_Kathleen Valerio_9_oval copy.jpg  \n",
      "  inflating: data/FaceImages/fear/Google_1_Leona Mather_5_oval.jpg  \n",
      "  inflating: data/FaceImages/__MACOSX/fear/._Google_1_Leona Mather_5_oval.jpg  \n",
      "  inflating: data/FaceImages/fear/Google_1_Leona Mather_5_oval copy.jpg  \n",
      "  inflating: data/FaceImages/__MACOSX/fear/._Google_1_Leona Mather_5_oval copy.jpg  \n",
      "  inflating: data/FaceImages/fear/blogimage copy.jpg  \n",
      "  inflating: data/FaceImages/__MACOSX/fear/._blogimage copy.jpg  \n",
      "  inflating: data/FaceImages/fear/Google_1_Mike Boatwright_17_oval.jpg  \n",
      "  inflating: data/FaceImages/__MACOSX/fear/._Google_1_Mike Boatwright_17_oval.jpg  \n",
      "  inflating: data/FaceImages/fear/Google_1_Albert Stites_9_oval.jpg  \n",
      "  inflating: data/FaceImages/__MACOSX/fear/._Google_1_Albert Stites_9_oval.jpg  \n",
      "  inflating: data/FaceImages/fear/fear-tile-different-fears.jpg  \n",
      "  inflating: data/FaceImages/__MACOSX/fear/._fear-tile-different-fears.jpg  \n",
      "  inflating: data/FaceImages/fear/Google_1_Jonathan Delrosario_7_oval copy.jpg  \n",
      "  inflating: data/FaceImages/__MACOSX/fear/._Google_1_Jonathan Delrosario_7_oval copy.jpg  \n",
      "  inflating: data/FaceImages/fear/MARINA_1.jpg  \n",
      "  inflating: data/FaceImages/__MACOSX/fear/._MARINA_1.jpg  \n",
      "  inflating: data/FaceImages/fear/howtoconfrontyourfearbasedthoughts.jpg  \n",
      "  inflating: data/FaceImages/__MACOSX/fear/._howtoconfrontyourfearbasedthoughts.jpg  \n",
      "  inflating: data/FaceImages/fear/Google_1_Kristen Weidner_3_oval.jpg  \n",
      "  inflating: data/FaceImages/__MACOSX/fear/._Google_1_Kristen Weidner_3_oval.jpg  \n",
      "  inflating: data/FaceImages/fear/Google_1_Jerry Oleary_11_oval copy.jpg  \n",
      "  inflating: data/FaceImages/__MACOSX/fear/._Google_1_Jerry Oleary_11_oval copy.jpg  \n",
      "  inflating: data/FaceImages/fear/phobia-boy-300x300 copy.jpg  \n",
      "  inflating: data/FaceImages/__MACOSX/fear/._phobia-boy-300x300 copy.jpg  \n",
      "  inflating: data/FaceImages/fear/774390d1-10a4-41c5-af6d-5935b4447e53 copy.jpg  \n",
      "  inflating: data/FaceImages/__MACOSX/fear/._774390d1-10a4-41c5-af6d-5935b4447e53 copy.jpg  \n",
      "  inflating: data/FaceImages/fear/fear-the-walking-dead-season-4-episode-4-frank-dillane-nick copy.jpg  \n",
      "  inflating: data/FaceImages/__MACOSX/fear/._fear-the-walking-dead-season-4-episode-4-frank-dillane-nick copy.jpg  \n",
      "  inflating: data/FaceImages/fear/Google_1_Paul Wills_11_oval.jpg  \n",
      "  inflating: data/FaceImages/__MACOSX/fear/._Google_1_Paul Wills_11_oval.jpg  \n",
      "  inflating: data/FaceImages/fear/Google_1_Julia Frantz_5_oval.jpg  \n",
      "  inflating: data/FaceImages/__MACOSX/fear/._Google_1_Julia Frantz_5_oval.jpg  \n",
      "  inflating: data/FaceImages/fear/Google_1_Jonathan Joubert_15_oval.jpg  \n",
      "  inflating: data/FaceImages/__MACOSX/fear/._Google_1_Jonathan Joubert_15_oval.jpg  \n",
      "  inflating: data/FaceImages/fear/Annie_Bivens_3_oval copy.jpg  \n",
      "  inflating: data/FaceImages/__MACOSX/fear/._Annie_Bivens_3_oval copy.jpg  \n",
      "  inflating: data/FaceImages/fear/Google_1_Gary Moses_1_oval copy.jpg  \n",
      "  inflating: data/FaceImages/__MACOSX/fear/._Google_1_Gary Moses_1_oval copy.jpg  \n",
      "  inflating: data/FaceImages/fear/Google_1_Jason Audette_9_oval.jpg  \n",
      "  inflating: data/FaceImages/fear/Google_1_Jill Leclerc_11_oval.jpg  \n",
      "  inflating: data/FaceImages/__MACOSX/fear/._Google_1_Jill Leclerc_11_oval.jpg  \n",
      "  inflating: data/FaceImages/fear/Google_1_Jeremy Napolitano_9_oval copy.jpg  \n",
      "  inflating: data/FaceImages/__MACOSX/fear/._Google_1_Jeremy Napolitano_9_oval copy.jpg  \n",
      "  inflating: data/FaceImages/fear/Google_1_Mike Boatwright_17_oval copy.jpg  \n",
      "  inflating: data/FaceImages/__MACOSX/fear/._Google_1_Mike Boatwright_17_oval copy.jpg  \n",
      "  inflating: data/FaceImages/fear/Google_1_Ronald Barham_1_oval copy 2.jpg  \n",
      "  inflating: data/FaceImages/fear/Google_1_Jerry Derose_9_oval copy.jpg  \n",
      "  inflating: data/FaceImages/__MACOSX/fear/._Google_1_Jerry Derose_9_oval copy.jpg  \n",
      "  inflating: data/FaceImages/fear/86954286-portrait-of-bearded-guy-with-disgusted-expression-on-face copy.jpg  \n",
      "  inflating: data/FaceImages/__MACOSX/fear/._86954286-portrait-of-bearded-guy-with-disgusted-expression-on-face copy.jpg  \n",
      "  inflating: data/FaceImages/fear/15810_FEAR_S2_Promo_Reflections.jpg  \n",
      "  inflating: data/FaceImages/__MACOSX/fear/._15810_FEAR_S2_Promo_Reflections.jpg  \n",
      "  inflating: data/FaceImages/fear/Google_1_Jeffrey Kyser_11_oval copy.jpg  \n",
      "  inflating: data/FaceImages/__MACOSX/fear/._Google_1_Jeffrey Kyser_11_oval copy.jpg  \n",
      "  inflating: data/FaceImages/fear/dn27872-3_800.jpg  \n",
      "  inflating: data/FaceImages/__MACOSX/fear/._dn27872-3_800.jpg  \n",
      "  inflating: data/FaceImages/fear/overcoming-fear-melanoma-awareness.jpg  \n",
      "  inflating: data/FaceImages/__MACOSX/fear/._overcoming-fear-melanoma-awareness.jpg  \n",
      "  inflating: data/FaceImages/fear/Google_1_Sonya Myles_5_oval copy.jpg  \n",
      "  inflating: data/FaceImages/__MACOSX/fear/._Google_1_Sonya Myles_5_oval copy.jpg  \n",
      "  inflating: data/FaceImages/fear/Google_1_Robert Pyles_17_oval copy.jpg  \n",
      "  inflating: data/FaceImages/__MACOSX/fear/._Google_1_Robert Pyles_17_oval copy.jpg  \n"
     ]
    },
    {
     "name": "stdout",
     "output_type": "stream",
     "text": [
      "  inflating: data/FaceImages/fear/Beverly_Nigro_9_oval.jpg  \n",
      "  inflating: data/FaceImages/__MACOSX/fear/._Beverly_Nigro_9_oval.jpg  \n",
      "  inflating: data/FaceImages/fear/76-og copy.jpg  \n",
      "  inflating: data/FaceImages/__MACOSX/fear/._76-og copy.jpg  \n",
      "  inflating: data/FaceImages/fear/Google_1_Joshua Regan_7_oval copy.jpg  \n",
      "  inflating: data/FaceImages/__MACOSX/fear/._Google_1_Joshua Regan_7_oval copy.jpg  \n",
      "  inflating: data/FaceImages/fear/Google_1_Wilma Irvin_15_oval copy.jpg  \n",
      "  inflating: data/FaceImages/fear/Intuition.jpg  \n",
      "  inflating: data/FaceImages/__MACOSX/fear/._Intuition.jpg  \n",
      "  inflating: data/FaceImages/fear/Google_1_Karen Oxford_16_oval copy.jpg  \n",
      "  inflating: data/FaceImages/__MACOSX/fear/._Google_1_Karen Oxford_16_oval copy.jpg  \n",
      "  inflating: data/FaceImages/fear/953969_087 copy.jpg  \n",
      "  inflating: data/FaceImages/__MACOSX/fear/._953969_087 copy.jpg  \n",
      "  inflating: data/FaceImages/fear/Google_1_Ronald Barham_1_oval copy 3.jpg  \n",
      "  inflating: data/FaceImages/__MACOSX/fear/._Google_1_Ronald Barham_1_oval copy 3.jpg  \n",
      "  inflating: data/FaceImages/fear/Google_1_Michael Reddick_12_oval.jpg  \n",
      "  inflating: data/FaceImages/__MACOSX/fear/._Google_1_Michael Reddick_12_oval.jpg  \n",
      "  inflating: data/FaceImages/fear/lovenotfearkids-w1700.jpg  \n",
      "  inflating: data/FaceImages/__MACOSX/fear/._lovenotfearkids-w1700.jpg  \n",
      "  inflating: data/FaceImages/fear/Google_1_Robert Pyles_17_oval.jpg  \n",
      "  inflating: data/FaceImages/__MACOSX/fear/._Google_1_Robert Pyles_17_oval.jpg  \n",
      "  inflating: data/FaceImages/fear/Google_1_Harry Hickman_15_oval copy.jpg  \n",
      "  inflating: data/FaceImages/__MACOSX/fear/._Google_1_Harry Hickman_15_oval copy.jpg  \n",
      "  inflating: data/FaceImages/fear/blogimage.jpg  \n",
      "  inflating: data/FaceImages/__MACOSX/fear/._blogimage.jpg  \n",
      "  inflating: data/FaceImages/fear/Google_1_Dale Winstead_7_oval.jpg  \n",
      "  inflating: data/FaceImages/__MACOSX/fear/._Google_1_Dale Winstead_7_oval.jpg  \n",
      "  inflating: data/FaceImages/fear/dn27872-3_800 copy.jpg  \n",
      "  inflating: data/FaceImages/__MACOSX/fear/._dn27872-3_800 copy.jpg  \n",
      "  inflating: data/FaceImages/fear/Google_1_Hazel Chadwell_9_oval copy.jpg  \n",
      "  inflating: data/FaceImages/__MACOSX/fear/._Google_1_Hazel Chadwell_9_oval copy.jpg  \n",
      "  inflating: data/FaceImages/fear/small-baby-fear-mother-600x483.jpg  \n",
      "  inflating: data/FaceImages/__MACOSX/fear/._small-baby-fear-mother-600x483.jpg  \n",
      "  inflating: data/FaceImages/fear/Google_1_Jill Leclerc_11_oval copy.jpg  \n",
      "  inflating: data/FaceImages/__MACOSX/fear/._Google_1_Jill Leclerc_11_oval copy.jpg  \n",
      "  inflating: data/FaceImages/fear/Google_1_Ronald Barham_1_oval.jpg  \n",
      "  inflating: data/FaceImages/__MACOSX/fear/._Google_1_Ronald Barham_1_oval.jpg  \n",
      "  inflating: data/FaceImages/fear/Google_1_Jeremy Napolitano_9_oval.jpg  \n",
      "  inflating: data/FaceImages/__MACOSX/fear/._Google_1_Jeremy Napolitano_9_oval.jpg  \n",
      "  inflating: data/FaceImages/fear/Google_1_Robert Simpkins_3_oval copy.jpg  \n",
      "  inflating: data/FaceImages/__MACOSX/fear/._Google_1_Robert Simpkins_3_oval copy.jpg  \n",
      "  inflating: data/FaceImages/fear/Fear-of-Flying-Breathe-Properly.jpg  \n",
      "  inflating: data/FaceImages/__MACOSX/fear/._Fear-of-Flying-Breathe-Properly.jpg  \n",
      "  inflating: data/FaceImages/fear/Google_1_Jerry Oleary_11_oval.jpg  \n",
      "  inflating: data/FaceImages/__MACOSX/fear/._Google_1_Jerry Oleary_11_oval.jpg  \n",
      "  inflating: data/FaceImages/fear/vladimir-putin-fears copy.jpg  \n",
      "  inflating: data/FaceImages/__MACOSX/fear/._vladimir-putin-fears copy.jpg  \n",
      "  inflating: data/FaceImages/fear/Google_1_Jonathan Joubert_15_oval copy.jpg  \n",
      "  inflating: data/FaceImages/__MACOSX/fear/._Google_1_Jonathan Joubert_15_oval copy.jpg  \n",
      "  inflating: data/FaceImages/fear/Google_1_Nathan Jump_11_oval copy.jpg  \n",
      "  inflating: data/FaceImages/__MACOSX/fear/._Google_1_Nathan Jump_11_oval copy.jpg  \n",
      "  inflating: data/FaceImages/fear/Google_1_James Goodin_1_oval.jpg  \n",
      "  inflating: data/FaceImages/__MACOSX/fear/._Google_1_James Goodin_1_oval.jpg  \n",
      "  inflating: data/FaceImages/fear/Google_1_Felicia Cochran_9_oval copy.jpg  \n",
      "  inflating: data/FaceImages/fear/file-20180524-51121-16msv1o.jpg  \n",
      "  inflating: data/FaceImages/__MACOSX/fear/._file-20180524-51121-16msv1o.jpg  \n",
      "  inflating: data/FaceImages/fear/Google_1_Katrina Barham_5_oval.jpg  \n",
      "  inflating: data/FaceImages/fear/Google_1_Ann Pullen_3_oval.jpg  \n",
      "  inflating: data/FaceImages/__MACOSX/fear/._Google_1_Ann Pullen_3_oval.jpg  \n",
      "  inflating: data/FaceImages/fear/15810_FEAR_S2_Promo_Reflections copy.jpg  \n",
      "  inflating: data/FaceImages/__MACOSX/fear/._15810_FEAR_S2_Promo_Reflections copy.jpg  \n",
      "  inflating: data/FaceImages/fear/vladimir-putin-fears.jpg  \n",
      "  inflating: data/FaceImages/__MACOSX/fear/._vladimir-putin-fears.jpg  \n",
      "  inflating: data/FaceImages/fear/Google_1_Ann Pullen_3_oval copy.jpg  \n",
      "  inflating: data/FaceImages/__MACOSX/fear/._Google_1_Ann Pullen_3_oval copy.jpg  \n",
      "  inflating: data/FaceImages/fear/onfear.jpg  \n",
      "  inflating: data/FaceImages/__MACOSX/fear/._onfear.jpg  \n",
      "  inflating: data/FaceImages/fear/Google_1_Jerry Summerlin_1_oval.jpg  \n",
      "  inflating: data/FaceImages/__MACOSX/fear/._Google_1_Jerry Summerlin_1_oval.jpg  \n",
      "  inflating: data/FaceImages/fear/Google_1_Ruby Shively_7_oval.jpg  \n",
      "  inflating: data/FaceImages/fear/Google_1_Jill Birch_17_oval.jpg  \n",
      "  inflating: data/FaceImages/__MACOSX/fear/._Google_1_Jill Birch_17_oval.jpg  \n",
      "  inflating: data/FaceImages/fear/Google_1_Henry Marcum_5_oval copy.jpg  \n",
      "  inflating: data/FaceImages/__MACOSX/fear/._Google_1_Henry Marcum_5_oval copy.jpg  \n",
      "  inflating: data/FaceImages/fear/Google_1_Jesse Godwin_5_oval.jpg  \n",
      "  inflating: data/FaceImages/__MACOSX/fear/._Google_1_Jesse Godwin_5_oval.jpg  \n",
      "  inflating: data/FaceImages/fear/Google_1_Marlene Morehouse_9_oval.jpg  \n",
      "  inflating: data/FaceImages/__MACOSX/fear/._Google_1_Marlene Morehouse_9_oval.jpg  \n",
      "  inflating: data/FaceImages/fear/Google_1_Annie Raymond_11_oval.jpg  \n",
      "  inflating: data/FaceImages/__MACOSX/fear/._Google_1_Annie Raymond_11_oval.jpg  \n",
      "  inflating: data/FaceImages/fear/Billy_Chasse_9_oval copy.jpg  \n",
      "  inflating: data/FaceImages/__MACOSX/fear/._Billy_Chasse_9_oval copy.jpg  \n",
      "  inflating: data/FaceImages/fear/Google_1_Melody Barnett_1_oval.jpg  \n",
      "  inflating: data/FaceImages/__MACOSX/fear/._Google_1_Melody Barnett_1_oval.jpg  \n",
      "  inflating: data/FaceImages/fear/181109-einstein-nazi-fears-01-1 copy.jpg  \n",
      "  inflating: data/FaceImages/__MACOSX/fear/._181109-einstein-nazi-fears-01-1 copy.jpg  \n",
      "  inflating: data/FaceImages/fear/Google_1_Carlos Walters_15_oval copy.jpg  \n",
      "  inflating: data/FaceImages/__MACOSX/fear/._Google_1_Carlos Walters_15_oval copy.jpg  \n",
      "  inflating: data/FaceImages/fear/Google_1_Melody Barnett_1_oval copy.jpg  \n",
      "  inflating: data/FaceImages/__MACOSX/fear/._Google_1_Melody Barnett_1_oval copy.jpg  \n",
      "  inflating: data/FaceImages/fear/Google_1_Samuel Lindquist_5_oval.jpg  \n",
      "  inflating: data/FaceImages/fear/Google_1_Johnny Robison_15_oval.jpg  \n",
      "  inflating: data/FaceImages/__MACOSX/fear/._Google_1_Johnny Robison_15_oval.jpg  \n",
      "  inflating: data/FaceImages/fear/Google_1_Kristin Hammons_1_oval copy.jpg  \n",
      "  inflating: data/FaceImages/__MACOSX/fear/._Google_1_Kristin Hammons_1_oval copy.jpg  \n",
      "  inflating: data/FaceImages/fear/Google_1_Charles Hagood_5_oval.jpg  \n",
      "  inflating: data/FaceImages/__MACOSX/fear/._Google_1_Charles Hagood_5_oval.jpg  \n",
      "  inflating: data/FaceImages/fear/Google_1_Carlos Fender_9_oval.jpg  \n",
      "  inflating: data/FaceImages/__MACOSX/fear/._Google_1_Carlos Fender_9_oval.jpg  \n",
      "  inflating: data/FaceImages/fear/screen-shot-2018-09-19-at-11-08-45-am copy.png  \n",
      "  inflating: data/FaceImages/__MACOSX/fear/._screen-shot-2018-09-19-at-11-08-45-am copy.png  \n",
      "  inflating: data/FaceImages/fear/Google_1_Jerry Leonardo_3_oval.jpg  \n",
      "  inflating: data/FaceImages/__MACOSX/fear/._Google_1_Jerry Leonardo_3_oval.jpg  \n",
      "  inflating: data/FaceImages/fear/Google_1_Michael Turcotte_15_oval.jpg  \n",
      "  inflating: data/FaceImages/__MACOSX/fear/._Google_1_Michael Turcotte_15_oval.jpg  \n",
      "  inflating: data/FaceImages/fear/Google_1_Andrew Palacios_11_oval.jpg  \n",
      "  inflating: data/FaceImages/__MACOSX/fear/._Google_1_Andrew Palacios_11_oval.jpg  \n",
      "  inflating: data/FaceImages/fear/Google_1_Julia Askew_13_oval copy.jpg  \n",
      "  inflating: data/FaceImages/__MACOSX/fear/._Google_1_Julia Askew_13_oval copy.jpg  \n",
      "  inflating: data/FaceImages/fear/Google_1_Johnny Robison_15_oval copy.jpg  \n",
      "  inflating: data/FaceImages/__MACOSX/fear/._Google_1_Johnny Robison_15_oval copy.jpg  \n"
     ]
    },
    {
     "name": "stdout",
     "output_type": "stream",
     "text": [
      "  inflating: data/FaceImages/fear/Google_1_Joshua Youngman_9_oval.jpg  \n",
      "  inflating: data/FaceImages/__MACOSX/fear/._Google_1_Joshua Youngman_9_oval.jpg  \n",
      "  inflating: data/FaceImages/fear/Google_1_Norman Sears_9_oval copy.jpg  \n",
      "  inflating: data/FaceImages/__MACOSX/fear/._Google_1_Norman Sears_9_oval copy.jpg  \n",
      "  inflating: data/FaceImages/fear/Google_1_Julia Askew_13_oval.jpg  \n",
      "  inflating: data/FaceImages/__MACOSX/fear/._Google_1_Julia Askew_13_oval.jpg  \n",
      "  inflating: data/FaceImages/fear/fear.jpg  \n",
      "  inflating: data/FaceImages/__MACOSX/fear/._fear.jpg  \n",
      "  inflating: data/FaceImages/fear/Google_1_Harry Hickman_15_oval.jpg  \n",
      "  inflating: data/FaceImages/__MACOSX/fear/._Google_1_Harry Hickman_15_oval.jpg  \n",
      "  inflating: data/FaceImages/fear/screen_shot_2016-08-09_at_2.26.12_pm-1366x734 copy.jpg  \n",
      "  inflating: data/FaceImages/__MACOSX/fear/._screen_shot_2016-08-09_at_2.26.12_pm-1366x734 copy.jpg  \n",
      "  inflating: data/FaceImages/fear/Bobby_Funderburk_11_oval copy.jpg  \n",
      "  inflating: data/FaceImages/__MACOSX/fear/._Bobby_Funderburk_11_oval copy.jpg  \n",
      "  inflating: data/FaceImages/fear/girlwitheyesbrown-683x1024.jpg  \n",
      "  inflating: data/FaceImages/__MACOSX/fear/._girlwitheyesbrown-683x1024.jpg  \n",
      "  inflating: data/FaceImages/fear/Google_1_Andrew Palacios_11_oval copy.jpg  \n",
      "  inflating: data/FaceImages/__MACOSX/fear/._Google_1_Andrew Palacios_11_oval copy.jpg  \n",
      "  inflating: data/FaceImages/fear/Google_1_Sheri Pabon_13_oval copy.jpg  \n",
      "  inflating: data/FaceImages/fear/Google_1_Flora Jaques_19_oval.jpg  \n",
      "  inflating: data/FaceImages/fear/1.12350.jpg  \n",
      "  inflating: data/FaceImages/__MACOSX/fear/._1.12350.jpg  \n",
      "  inflating: data/FaceImages/fear/Google_1_Ruth Burk_9_oval.jpg  \n",
      "  inflating: data/FaceImages/__MACOSX/fear/._Google_1_Ruth Burk_9_oval.jpg  \n",
      "  inflating: data/FaceImages/fear/Fearful-child.jpg  \n",
      "  inflating: data/FaceImages/__MACOSX/fear/._Fearful-child.jpg  \n",
      "  inflating: data/FaceImages/fear/fear-remake-700x300 copy.jpg  \n",
      "  inflating: data/FaceImages/__MACOSX/fear/._fear-remake-700x300 copy.jpg  \n",
      "  inflating: data/FaceImages/fear/Google_1_Michael Reddick_12_oval copy.jpg  \n",
      "  inflating: data/FaceImages/__MACOSX/fear/._Google_1_Michael Reddick_12_oval copy.jpg  \n",
      "  inflating: data/FaceImages/fear/Google_1_Albert Stites_9_oval copy.jpg  \n",
      "  inflating: data/FaceImages/__MACOSX/fear/._Google_1_Albert Stites_9_oval copy.jpg  \n",
      "  inflating: data/FaceImages/fear/fear-tile-different-fears copy.jpg  \n",
      "  inflating: data/FaceImages/__MACOSX/fear/._fear-tile-different-fears copy.jpg  \n",
      "  inflating: data/FaceImages/fear/560475-mtvyoutubehed_0.jpg  \n",
      "  inflating: data/FaceImages/__MACOSX/fear/._560475-mtvyoutubehed_0.jpg  \n",
      "  inflating: data/FaceImages/fear/Google_1_Christopher Holladay_3_oval copy.jpg  \n",
      "  inflating: data/FaceImages/fear/Google_1_Howard Squires_5_oval.jpg  \n",
      "  inflating: data/FaceImages/__MACOSX/fear/._Google_1_Howard Squires_5_oval.jpg  \n",
      "  inflating: data/FaceImages/fear/Google_1_John Woolf_11_oval copy.jpg  \n",
      "  inflating: data/FaceImages/__MACOSX/fear/._Google_1_John Woolf_11_oval copy.jpg  \n",
      "  inflating: data/FaceImages/fear/Google_1_Kathleen Valerio_9_oval.jpg  \n",
      "  inflating: data/FaceImages/__MACOSX/fear/._Google_1_Kathleen Valerio_9_oval.jpg  \n",
      "  inflating: data/FaceImages/fear/Google_1_Kathleen Guimond_3_oval.jpg  \n",
      "  inflating: data/FaceImages/__MACOSX/fear/._Google_1_Kathleen Guimond_3_oval.jpg  \n",
      "  inflating: data/FaceImages/fear/Google_1_Kristen Weidner_3_oval copy.jpg  \n",
      "  inflating: data/FaceImages/__MACOSX/fear/._Google_1_Kristen Weidner_3_oval copy.jpg  \n",
      "  inflating: data/FaceImages/fear/https3A2F2Fblogs-images.forbes.com2Ferikkain2Ffiles2F20162F052FFear-The-Walking-Dead-Season-2-Alicia-1200x800 copy.jpg  \n",
      "  inflating: data/FaceImages/__MACOSX/fear/._https3A2F2Fblogs-images.forbes.com2Ferikkain2Ffiles2F20162F052FFear-The-Walking-Dead-Season-2-Alicia-1200x800 copy.jpg  \n",
      "  inflating: data/FaceImages/fear/a-woman-looking-worried copy.jpg  \n",
      "  inflating: data/FaceImages/__MACOSX/fear/._a-woman-looking-worried copy.jpg  \n",
      "  inflating: data/FaceImages/fear/Google_1_Michelle Daughtry_19_oval copy.jpg  \n",
      "  inflating: data/FaceImages/__MACOSX/fear/._Google_1_Michelle Daughtry_19_oval copy.jpg  \n",
      "  inflating: data/FaceImages/fear/Google_1_Melody Bakke_17_oval.jpg  \n",
      "  inflating: data/FaceImages/__MACOSX/fear/._Google_1_Melody Bakke_17_oval.jpg  \n",
      "  inflating: data/FaceImages/fear/fear-being-alone copy.jpg  \n",
      "  inflating: data/FaceImages/__MACOSX/fear/._fear-being-alone copy.jpg  \n",
      "  inflating: data/FaceImages/fear/Google_1_Jesse Hudspeth_19_oval.jpg  \n",
      "  inflating: data/FaceImages/__MACOSX/fear/._Google_1_Jesse Hudspeth_19_oval.jpg  \n",
      "  inflating: data/FaceImages/fear/fear copy.jpg  \n",
      "  inflating: data/FaceImages/__MACOSX/fear/._fear copy.jpg  \n",
      "  inflating: data/FaceImages/fear/Google_1_Karen Rosenberger_5_oval.jpg  \n",
      "  inflating: data/FaceImages/fear/maxresdefault copy.jpg  \n",
      "  inflating: data/FaceImages/__MACOSX/fear/._maxresdefault copy.jpg  \n",
      "  inflating: data/FaceImages/fear/Google_1_Carlos Carrier_17_oval copy.jpg  \n",
      "  inflating: data/FaceImages/__MACOSX/fear/._Google_1_Carlos Carrier_17_oval copy.jpg  \n",
      "  inflating: data/FaceImages/fear/Google_1_Douglas Bouie_5_oval copy.jpg  \n",
      "  inflating: data/FaceImages/__MACOSX/fear/._Google_1_Douglas Bouie_5_oval copy.jpg  \n",
      "  inflating: data/FaceImages/fear/Google_1_Katrina Rathbone_1_oval copy.jpg  \n",
      "  inflating: data/FaceImages/__MACOSX/fear/._Google_1_Katrina Rathbone_1_oval copy.jpg  \n",
      "  inflating: data/FaceImages/fear/Google_1_Marvin Liggett_15_oval.jpg  \n",
      "  inflating: data/FaceImages/__MACOSX/fear/._Google_1_Marvin Liggett_15_oval.jpg  \n",
      "  inflating: data/FaceImages/fear/Google_1_Robert Simpkins_3_oval.jpg  \n",
      "  inflating: data/FaceImages/__MACOSX/fear/._Google_1_Robert Simpkins_3_oval.jpg  \n",
      "  inflating: data/FaceImages/fear/Google_1_Marvin Hansel_1_oval copy.jpg  \n",
      "  inflating: data/FaceImages/__MACOSX/fear/._Google_1_Marvin Hansel_1_oval copy.jpg  \n",
      "  inflating: data/FaceImages/fear/Brian_Borders_11_oval.jpg  \n",
      "  inflating: data/FaceImages/__MACOSX/fear/._Brian_Borders_11_oval.jpg  \n",
      "  inflating: data/FaceImages/fear/Google_1_Ada Eastman_11_oval copy.jpg  \n",
      "  inflating: data/FaceImages/__MACOSX/fear/._Google_1_Ada Eastman_11_oval copy.jpg  \n",
      "  inflating: data/FaceImages/fear/Google_1_Cora Ruppert_7_oval.jpg  \n",
      "  inflating: data/FaceImages/__MACOSX/fear/._Google_1_Cora Ruppert_7_oval.jpg  \n",
      "  inflating: data/FaceImages/fear/reduce-fear-and-anxiety-naturally.jpg  \n",
      "  inflating: data/FaceImages/__MACOSX/fear/._reduce-fear-and-anxiety-naturally.jpg  \n",
      "  inflating: data/FaceImages/fear/Google_1_Joshua Regan_7_oval.jpg  \n",
      "  inflating: data/FaceImages/__MACOSX/fear/._Google_1_Joshua Regan_7_oval.jpg  \n",
      "  inflating: data/FaceImages/fear/Google_1_Shawn Charles_1_oval.jpg  \n",
      "  inflating: data/FaceImages/fear/Google_1_Douglas Quach_5_oval copy.jpg  \n",
      "  inflating: data/FaceImages/__MACOSX/fear/._Google_1_Douglas Quach_5_oval copy.jpg  \n",
      "  inflating: data/FaceImages/fear/Google_1_John Ingraham_5_oval copy.jpg  \n",
      "  inflating: data/FaceImages/__MACOSX/fear/._Google_1_John Ingraham_5_oval copy.jpg  \n",
      "  inflating: data/FaceImages/fear/Google_1_Suzanne Haught_14_oval copy.jpg  \n",
      "  inflating: data/FaceImages/__MACOSX/fear/._Google_1_Suzanne Haught_14_oval copy.jpg  \n",
      "  inflating: data/FaceImages/fear/girlwitheyesbrown-683x1024 copy.jpg  \n",
      "  inflating: data/FaceImages/__MACOSX/fear/._girlwitheyesbrown-683x1024 copy.jpg  \n",
      "  inflating: data/FaceImages/fear/Google_1_Johnny Kelley_15_oval.jpg  \n",
      "  inflating: data/FaceImages/__MACOSX/fear/._Google_1_Johnny Kelley_15_oval.jpg  \n",
      "  inflating: data/FaceImages/fear/Google_1_Marvin Jason_1_oval.jpg  \n",
      "  inflating: data/FaceImages/__MACOSX/fear/._Google_1_Marvin Jason_1_oval.jpg  \n",
      "  inflating: data/FaceImages/fear/fear2 copy.jpg  \n",
      "  inflating: data/FaceImages/__MACOSX/fear/._fear2 copy.jpg  \n",
      "  inflating: data/FaceImages/fear/fear3 copy.jpg  \n",
      "  inflating: data/FaceImages/__MACOSX/fear/._fear3 copy.jpg  \n",
      "  inflating: data/FaceImages/fear/Google_1_Jason Audette_9_oval copy.jpg  \n",
      "  inflating: data/FaceImages/fear/MV5BZTc0MmJkMTgtZTMwNy00NzcyLThlZDAtZWVmODZhYThiNTExXkEyXkFqcGdeQXVyNzU1NzE3NTg._V1_CR045480270_AL_UX477_CR00477268_AL_.jpg  \n",
      "  inflating: data/FaceImages/__MACOSX/fear/._MV5BZTc0MmJkMTgtZTMwNy00NzcyLThlZDAtZWVmODZhYThiNTExXkEyXkFqcGdeQXVyNzU1NzE3NTg._V1_CR045480270_AL_UX477_CR00477268_AL_.jpg  \n"
     ]
    },
    {
     "name": "stdout",
     "output_type": "stream",
     "text": [
      "  inflating: data/FaceImages/fear/Ernest_Mansell_1_oval.jpg  \n",
      "  inflating: data/FaceImages/__MACOSX/fear/._Ernest_Mansell_1_oval.jpg  \n",
      "  inflating: data/FaceImages/fear/twd-dwight-1549901020 copy.jpg  \n",
      "  inflating: data/FaceImages/__MACOSX/fear/._twd-dwight-1549901020 copy.jpg  \n",
      "  inflating: data/FaceImages/fear/Google_1_Janice Western_19_oval.jpg  \n",
      "  inflating: data/FaceImages/fear/Google_1_Brandon Belt_17_oval copy.jpg  \n",
      "  inflating: data/FaceImages/__MACOSX/fear/._Google_1_Brandon Belt_17_oval copy.jpg  \n",
      "  inflating: data/FaceImages/fear/Google_1_Jerry Deboer_7_oval copy.jpg  \n",
      "  inflating: data/FaceImages/__MACOSX/fear/._Google_1_Jerry Deboer_7_oval copy.jpg  \n",
      "  inflating: data/FaceImages/fear/BabyFear1-998x703.jpg  \n",
      "  inflating: data/FaceImages/__MACOSX/fear/._BabyFear1-998x703.jpg  \n",
      "  inflating: data/FaceImages/fear/Google_1_Bruce Forrester_1_oval copy.jpg  \n",
      "  inflating: data/FaceImages/__MACOSX/fear/._Google_1_Bruce Forrester_1_oval copy.jpg  \n",
      "  inflating: data/FaceImages/fear/Google_1_Louis Sung_1_oval.jpg  \n",
      "  inflating: data/FaceImages/__MACOSX/fear/._Google_1_Louis Sung_1_oval.jpg  \n",
      "  inflating: data/FaceImages/fear/Google_1_Jennie Fix_11_oval.jpg  \n",
      "  inflating: data/FaceImages/__MACOSX/fear/._Google_1_Jennie Fix_11_oval.jpg  \n",
      "  inflating: data/FaceImages/fear/20160129234816-amy-cosper-editor-note-fear-itself.jpeg  \n",
      "  inflating: data/FaceImages/__MACOSX/fear/._20160129234816-amy-cosper-editor-note-fear-itself.jpeg  \n",
      "  inflating: data/FaceImages/fear/Google_1_Mike Boatwright_1_oval copy.jpg  \n",
      "  inflating: data/FaceImages/__MACOSX/fear/._Google_1_Mike Boatwright_1_oval copy.jpg  \n",
      "  inflating: data/FaceImages/fear/Google_1_Christopher Holladay_3_oval.jpg  \n",
      "  inflating: data/FaceImages/fear/Bobby_Stephan_1_oval copy.jpg  \n",
      "  inflating: data/FaceImages/__MACOSX/fear/._Bobby_Stephan_1_oval copy.jpg  \n",
      "  inflating: data/FaceImages/fear/Google_1_Ruby Shively_7_oval copy.jpg  \n",
      "  inflating: data/FaceImages/fear/fear-the-walking-dead-episode-308-otto-callie-final-scene-1200x707 copy.jpg  \n",
      "  inflating: data/FaceImages/__MACOSX/fear/._fear-the-walking-dead-episode-308-otto-callie-final-scene-1200x707 copy.jpg  \n",
      "  inflating: data/FaceImages/fear/Google_1_Heather Baca_5_oval copy.jpg  \n",
      "  inflating: data/FaceImages/__MACOSX/fear/._Google_1_Heather Baca_5_oval copy.jpg  \n",
      "  inflating: data/FaceImages/fear/76-og.jpg  \n",
      "  inflating: data/FaceImages/__MACOSX/fear/._76-og.jpg  \n",
      "  inflating: data/FaceImages/fear/Google_1_Leona Kirkman_3_oval copy.jpg  \n",
      "  inflating: data/FaceImages/__MACOSX/fear/._Google_1_Leona Kirkman_3_oval copy.jpg  \n",
      "  inflating: data/FaceImages/fear/Google_1_Annie Viola_6_oval.jpg  \n",
      "  inflating: data/FaceImages/__MACOSX/fear/._Google_1_Annie Viola_6_oval.jpg  \n",
      "  inflating: data/FaceImages/fear/Google_1_Alicia Stallings_17_oval.jpg  \n",
      "  inflating: data/FaceImages/__MACOSX/fear/._Google_1_Alicia Stallings_17_oval.jpg  \n",
      "  inflating: data/FaceImages/fear/Google_1_Jill Mathis_13_oval.jpg  \n",
      "  inflating: data/FaceImages/__MACOSX/fear/._Google_1_Jill Mathis_13_oval.jpg  \n",
      "  inflating: data/FaceImages/fear/Google_1_Jesse Hershberger_3_oval copy.jpg  \n",
      "  inflating: data/FaceImages/__MACOSX/fear/._Google_1_Jesse Hershberger_3_oval copy.jpg  \n",
      "  inflating: data/FaceImages/fear/Google_1_Melody Bakke_17_oval copy.jpg  \n",
      "  inflating: data/FaceImages/__MACOSX/fear/._Google_1_Melody Bakke_17_oval copy.jpg  \n",
      "  inflating: data/FaceImages/fear/Google_1_Jerry Lovelace_5_oval.jpg  \n",
      "  inflating: data/FaceImages/__MACOSX/fear/._Google_1_Jerry Lovelace_5_oval.jpg  \n",
      "  inflating: data/FaceImages/fear/Google_1_Alicia Hollenbeck_152_oval.jpg  \n",
      "  inflating: data/FaceImages/__MACOSX/fear/._Google_1_Alicia Hollenbeck_152_oval.jpg  \n",
      "  inflating: data/FaceImages/fear/Fearful-child copy.jpg  \n",
      "  inflating: data/FaceImages/__MACOSX/fear/._Fearful-child copy.jpg  \n",
      "  inflating: data/FaceImages/fear/fear-of-music.jpg  \n",
      "  inflating: data/FaceImages/__MACOSX/fear/._fear-of-music.jpg  \n",
      "  inflating: data/FaceImages/fear/Google_1_Jesse Hudspeth_19_oval copy.jpg  \n",
      "  inflating: data/FaceImages/__MACOSX/fear/._Google_1_Jesse Hudspeth_19_oval copy.jpg  \n",
      "  inflating: data/FaceImages/fear/Anthony_Hartsfield_11_oval.jpg  \n",
      "  inflating: data/FaceImages/__MACOSX/fear/._Anthony_Hartsfield_11_oval.jpg  \n",
      "  inflating: data/FaceImages/fear/Google_1_Judith Stock_13_oval copy.jpg  \n",
      "  inflating: data/FaceImages/fear/Google_1_John Woolf_11_oval.jpg  \n",
      "  inflating: data/FaceImages/__MACOSX/fear/._Google_1_John Woolf_11_oval.jpg  \n",
      "  inflating: data/FaceImages/fear/Google_1_Julia Frantz_5_oval copy.jpg  \n",
      "  inflating: data/FaceImages/__MACOSX/fear/._Google_1_Julia Frantz_5_oval copy.jpg  \n",
      "  inflating: data/FaceImages/fear/Google_1_Jesse Hershberger_3_oval.jpg  \n",
      "  inflating: data/FaceImages/__MACOSX/fear/._Google_1_Jesse Hershberger_3_oval.jpg  \n",
      "  inflating: data/FaceImages/fear/entrepreneur_fear_of_failure-resized-600.jpgwidthu003d309u0026heightu003d205u0026nameu003dentrepreneur_fear_of_failure-resized-600 copy.jpg  \n",
      "  inflating: data/FaceImages/__MACOSX/fear/._entrepreneur_fear_of_failure-resized-600.jpgwidthu003d309u0026heightu003d205u0026nameu003dentrepreneur_fear_of_failure-resized-600 copy.jpg  \n",
      "  inflating: data/FaceImages/fear/Google_1_Karen Rosenberger_1_oval copy.jpg  \n",
      "  inflating: data/FaceImages/__MACOSX/fear/._Google_1_Karen Rosenberger_1_oval copy.jpg  \n",
      "  inflating: data/FaceImages/fear/Google_1_Robert Bullins_7_oval copy.jpg  \n",
      "  inflating: data/FaceImages/fear/Google_1_Annie Hassell_9_oval.jpg  \n",
      "  inflating: data/FaceImages/__MACOSX/fear/._Google_1_Annie Hassell_9_oval.jpg  \n",
      "  inflating: data/FaceImages/fear/Google_1_Steve Canady_12_oval.jpg  \n",
      "  inflating: data/FaceImages/__MACOSX/fear/._Google_1_Steve Canady_12_oval.jpg  \n",
      "  inflating: data/FaceImages/fear/Google_1_Ruth Hendry_17_oval.jpg  \n",
      "  inflating: data/FaceImages/__MACOSX/fear/._Google_1_Ruth Hendry_17_oval.jpg  \n",
      "  inflating: data/FaceImages/fear/Bobby_Stephan_1_oval.jpg  \n",
      "  inflating: data/FaceImages/__MACOSX/fear/._Bobby_Stephan_1_oval.jpg  \n",
      "  inflating: data/FaceImages/fear/Google_1_William Ferris_1_oval.jpg  \n",
      "  inflating: data/FaceImages/__MACOSX/fear/._Google_1_William Ferris_1_oval.jpg  \n",
      "  inflating: data/FaceImages/fear/Google_1_Louis Sung_1_oval copy.jpg  \n",
      "  inflating: data/FaceImages/__MACOSX/fear/._Google_1_Louis Sung_1_oval copy.jpg  \n",
      "  inflating: data/FaceImages/fear/MV5BZTc0MmJkMTgtZTMwNy00NzcyLThlZDAtZWVmODZhYThiNTExXkEyXkFqcGdeQXVyNzU1NzE3NTg._V1_CR045480270_AL_UX477_CR00477268_AL_ copy.jpg  \n",
      "  inflating: data/FaceImages/__MACOSX/fear/._MV5BZTc0MmJkMTgtZTMwNy00NzcyLThlZDAtZWVmODZhYThiNTExXkEyXkFqcGdeQXVyNzU1NzE3NTg._V1_CR045480270_AL_UX477_CR00477268_AL_ copy.jpg  \n",
      "  inflating: data/FaceImages/fear/Google_1_Karen Rosenberger_5_oval copy.jpg  \n",
      "  inflating: data/FaceImages/fear/Google_1_Howard Squires_5_oval copy.jpg  \n",
      "  inflating: data/FaceImages/__MACOSX/fear/._Google_1_Howard Squires_5_oval copy.jpg  \n",
      "  inflating: data/FaceImages/fear/onfear copy.jpg  \n",
      "  inflating: data/FaceImages/__MACOSX/fear/._onfear copy.jpg  \n",
      "  inflating: data/FaceImages/fear/Google_1_Jerry Lovelace_5_oval copy.jpg  \n",
      "  inflating: data/FaceImages/__MACOSX/fear/._Google_1_Jerry Lovelace_5_oval copy.jpg  \n",
      "  inflating: data/FaceImages/fear/small-baby-fear-mother-600x483 copy.jpg  \n",
      "  inflating: data/FaceImages/__MACOSX/fear/._small-baby-fear-mother-600x483 copy.jpg  \n",
      "  inflating: data/FaceImages/fear/Annie_Bivens_3_oval.jpg  \n",
      "  inflating: data/FaceImages/__MACOSX/fear/._Annie_Bivens_3_oval.jpg  \n",
      "  inflating: data/FaceImages/fear/Google_1_Allen Buss_15_oval.jpg  \n",
      "  inflating: data/FaceImages/__MACOSX/fear/._Google_1_Allen Buss_15_oval.jpg  \n",
      "  inflating: data/FaceImages/fear/20100430-scared-woman-300x205.jpg  \n",
      "  inflating: data/FaceImages/__MACOSX/fear/._20100430-scared-woman-300x205.jpg  \n",
      "  inflating: data/FaceImages/fear/20160129234816-amy-cosper-editor-note-fear-itself copy.jpeg  \n",
      "  inflating: data/FaceImages/__MACOSX/fear/._20160129234816-amy-cosper-editor-note-fear-itself copy.jpeg  \n",
      "  inflating: data/FaceImages/fear/FearI2.png  \n",
      "  inflating: data/FaceImages/__MACOSX/fear/._FearI2.png  \n",
      "  inflating: data/FaceImages/fear/Google_1_Martin Szymanski_11_oval copy.jpg  \n"
     ]
    },
    {
     "name": "stdout",
     "output_type": "stream",
     "text": [
      "  inflating: data/FaceImages/__MACOSX/fear/._Google_1_Martin Szymanski_11_oval copy.jpg  \n",
      "  inflating: data/FaceImages/fear/Google_1_John Ingraham_5_oval.jpg  \n",
      "  inflating: data/FaceImages/__MACOSX/fear/._Google_1_John Ingraham_5_oval.jpg  \n",
      "  inflating: data/FaceImages/fear/loneliness-fear copy.jpg  \n",
      "  inflating: data/FaceImages/__MACOSX/fear/._loneliness-fear copy.jpg  \n",
      "  inflating: data/FaceImages/fear/Google_1_Carlos Fender_9_oval copy.jpg  \n",
      "  inflating: data/FaceImages/__MACOSX/fear/._Google_1_Carlos Fender_9_oval copy.jpg  \n",
      "  inflating: data/FaceImages/fear/Google_1_Amelia Rupp_1_oval copy.jpg  \n",
      "  inflating: data/FaceImages/__MACOSX/fear/._Google_1_Amelia Rupp_1_oval copy.jpg  \n",
      "  inflating: data/FaceImages/fear/Google_1_Shelly Brophy_7_oval.jpg  \n",
      "  inflating: data/FaceImages/__MACOSX/fear/._Google_1_Shelly Brophy_7_oval.jpg  \n",
      "  inflating: data/FaceImages/fear/Google_1_Marvin Hansel_1_oval.jpg  \n",
      "  inflating: data/FaceImages/__MACOSX/fear/._Google_1_Marvin Hansel_1_oval.jpg  \n",
      "  inflating: data/FaceImages/fear/Ernest_Bowling_3_oval copy.jpg  \n",
      "  inflating: data/FaceImages/__MACOSX/fear/._Ernest_Bowling_3_oval copy.jpg  \n",
      "  inflating: data/FaceImages/fear/Google_1_Michael Delgado_13_oval.jpg  \n",
      "  inflating: data/FaceImages/__MACOSX/fear/._Google_1_Michael Delgado_13_oval.jpg  \n",
      "  inflating: data/FaceImages/fear/Google_1_Jerry Deboer_7_oval.jpg  \n",
      "  inflating: data/FaceImages/__MACOSX/fear/._Google_1_Jerry Deboer_7_oval.jpg  \n",
      "  inflating: data/FaceImages/fear/Google_1_Anthony Massengale_15_oval.jpg  \n",
      "  inflating: data/FaceImages/__MACOSX/fear/._Google_1_Anthony Massengale_15_oval.jpg  \n",
      "  inflating: data/FaceImages/fear/Fear_Of_Looking_Stupid_042418-800x450 copy.jpg  \n",
      "  inflating: data/FaceImages/__MACOSX/fear/._Fear_Of_Looking_Stupid_042418-800x450 copy.jpg  \n",
      "  inflating: data/FaceImages/fear/xfear-600.jpg.pagespeed.ic.h3ZYaCs_-- copy.jpg  \n",
      "  inflating: data/FaceImages/__MACOSX/fear/._xfear-600.jpg.pagespeed.ic.h3ZYaCs_-- copy.jpg  \n",
      "  inflating: data/FaceImages/fear/Google_1_Kristin Catalan_11_oval copy.jpg  \n",
      "  inflating: data/FaceImages/__MACOSX/fear/._Google_1_Kristin Catalan_11_oval copy.jpg  \n",
      "  inflating: data/FaceImages/fear/Google_1_Matthew Hickman_3_oval.jpg  \n",
      "  inflating: data/FaceImages/__MACOSX/fear/._Google_1_Matthew Hickman_3_oval.jpg  \n",
      "  inflating: data/FaceImages/fear/Google_1_Loretta Thatcher_1_oval copy.jpg  \n",
      "  inflating: data/FaceImages/__MACOSX/fear/._Google_1_Loretta Thatcher_1_oval copy.jpg  \n",
      "  inflating: data/FaceImages/fear/Google_1_Ronald Barham_1_oval copy.jpg  \n",
      "  inflating: data/FaceImages/fear/a-woman-looking-worried.jpg  \n",
      "  inflating: data/FaceImages/__MACOSX/fear/._a-woman-looking-worried.jpg  \n",
      "  inflating: data/FaceImages/fear/Google_1_Paul Wills_11_oval copy.jpg  \n",
      "  inflating: data/FaceImages/__MACOSX/fear/._Google_1_Paul Wills_11_oval copy.jpg  \n",
      "  inflating: data/FaceImages/fear/twd-dwight-1549901020.jpg  \n",
      "  inflating: data/FaceImages/__MACOSX/fear/._twd-dwight-1549901020.jpg  \n",
      "  inflating: data/FaceImages/fear/woman-gazing-past-shutter-350.jpg  \n",
      "  inflating: data/FaceImages/__MACOSX/fear/._woman-gazing-past-shutter-350.jpg  \n",
      "  inflating: data/FaceImages/fear/Google_1_Elizabeth Condon_7_oval.jpg  \n",
      "  inflating: data/FaceImages/__MACOSX/fear/._Google_1_Elizabeth Condon_7_oval.jpg  \n",
      "  inflating: data/FaceImages/fear/fear-the-walking-dead-trailer2 copy.jpg  \n",
      "  inflating: data/FaceImages/__MACOSX/fear/._fear-the-walking-dead-trailer2 copy.jpg  \n",
      "  inflating: data/FaceImages/fear/Google_1_Marlene Morehouse_9_oval copy.jpg  \n",
      "  inflating: data/FaceImages/__MACOSX/fear/._Google_1_Marlene Morehouse_9_oval copy.jpg  \n",
      "  inflating: data/FaceImages/fear/Bobby_Funderburk_11_oval.jpg  \n",
      "  inflating: data/FaceImages/__MACOSX/fear/._Bobby_Funderburk_11_oval.jpg  \n",
      "  inflating: data/FaceImages/fear/86954286-portrait-of-bearded-guy-with-disgusted-expression-on-face.jpg  \n",
      "  inflating: data/FaceImages/__MACOSX/fear/._86954286-portrait-of-bearded-guy-with-disgusted-expression-on-face.jpg  \n",
      "  inflating: data/FaceImages/fear/fear-the-walking-dead-season-4-episode-4-frank-dillane-nick.jpg  \n",
      "  inflating: data/FaceImages/__MACOSX/fear/._fear-the-walking-dead-season-4-episode-4-frank-dillane-nick.jpg  \n",
      "  inflating: data/FaceImages/fear/Google_1_Johnny Kelley_15_oval copy.jpg  \n",
      "  inflating: data/FaceImages/__MACOSX/fear/._Google_1_Johnny Kelley_15_oval copy.jpg  \n",
      "  inflating: data/FaceImages/fear/Google_1_Ada Eastman_11_oval.jpg  \n",
      "  inflating: data/FaceImages/__MACOSX/fear/._Google_1_Ada Eastman_11_oval.jpg  \n",
      "  inflating: data/FaceImages/fear/phobia-boy-300x300.jpg  \n",
      "  inflating: data/FaceImages/__MACOSX/fear/._phobia-boy-300x300.jpg  \n",
      "  inflating: data/FaceImages/fear/Google_1_Jennie Fix_11_oval copy.jpg  \n",
      "  inflating: data/FaceImages/__MACOSX/fear/._Google_1_Jennie Fix_11_oval copy.jpg  \n",
      "  inflating: data/FaceImages/fear/Google_1_Gary Corona_11_oval copy.jpg  \n",
      "  inflating: data/FaceImages/__MACOSX/fear/._Google_1_Gary Corona_11_oval copy.jpg  \n",
      "  inflating: data/FaceImages/fear/Google_1_Anthony Pogue_3_oval.jpg  \n",
      "  inflating: data/FaceImages/__MACOSX/fear/._Google_1_Anthony Pogue_3_oval.jpg  \n",
      "  inflating: data/FaceImages/fear/Alex-Honnold.jpg  \n",
      "  inflating: data/FaceImages/__MACOSX/fear/._Alex-Honnold.jpg  \n",
      "  inflating: data/FaceImages/fear/Brief-FearFaces-lowrez.jpg  \n",
      "  inflating: data/FaceImages/__MACOSX/fear/._Brief-FearFaces-lowrez.jpg  \n",
      "  inflating: data/FaceImages/fear/fear01_banner copy.jpg  \n",
      "  inflating: data/FaceImages/__MACOSX/fear/._fear01_banner copy.jpg  \n",
      "  inflating: data/FaceImages/fear/Beverly_Nigro_9_oval copy.jpg  \n",
      "  inflating: data/FaceImages/__MACOSX/fear/._Beverly_Nigro_9_oval copy.jpg  \n",
      "  inflating: data/FaceImages/fear/Google_1_Joshua Youngman_9_oval copy.jpg  \n",
      "  inflating: data/FaceImages/__MACOSX/fear/._Google_1_Joshua Youngman_9_oval copy.jpg  \n",
      "  inflating: data/FaceImages/fear/Google_1_Jill Mathis_13_oval copy.jpg  \n",
      "  inflating: data/FaceImages/__MACOSX/fear/._Google_1_Jill Mathis_13_oval copy.jpg  \n",
      "  inflating: data/FaceImages/fear/Google_1_Judy Josephson_14_oval copy.jpg  \n",
      "  inflating: data/FaceImages/__MACOSX/fear/._Google_1_Judy Josephson_14_oval copy.jpg  \n",
      "  inflating: data/FaceImages/fear/Google_1_Ernest Jefferies_17_oval.jpg  \n",
      "  inflating: data/FaceImages/__MACOSX/fear/._Google_1_Ernest Jefferies_17_oval.jpg  \n",
      "  inflating: data/FaceImages/fear/Google_1_Michelle Daughtry_19_oval.jpg  \n",
      "  inflating: data/FaceImages/__MACOSX/fear/._Google_1_Michelle Daughtry_19_oval.jpg  \n",
      "  inflating: data/FaceImages/fear/Google_1_Jill Birch_17_oval copy.jpg  \n",
      "  inflating: data/FaceImages/__MACOSX/fear/._Google_1_Jill Birch_17_oval copy.jpg  \n",
      "  inflating: data/FaceImages/fear/MARINA_1 copy.jpg  \n",
      "  inflating: data/FaceImages/__MACOSX/fear/._MARINA_1 copy.jpg  \n",
      "  inflating: data/FaceImages/fear/Brian_Borders_11_oval copy.jpg  \n",
      "  inflating: data/FaceImages/__MACOSX/fear/._Brian_Borders_11_oval copy.jpg  \n",
      "  inflating: data/FaceImages/fear/fear-the-walking-dead-episode-308-otto-callie-final-scene-1200x707.jpg  \n",
      "  inflating: data/FaceImages/__MACOSX/fear/._fear-the-walking-dead-episode-308-otto-callie-final-scene-1200x707.jpg  \n",
      "  inflating: data/FaceImages/fear/Google_1_Bryan Stump_1_oval copy.jpg  \n",
      "  inflating: data/FaceImages/__MACOSX/fear/._Google_1_Bryan Stump_1_oval copy.jpg  \n",
      "  inflating: data/FaceImages/fear/Google_1_Jimmy Perrotta_5_oval.jpg  \n",
      "  inflating: data/FaceImages/__MACOSX/fear/._Google_1_Jimmy Perrotta_5_oval.jpg  \n",
      "  inflating: data/FaceImages/fear/Google_1_Eric Rader_1_oval copy.jpg  \n",
      "  inflating: data/FaceImages/__MACOSX/fear/._Google_1_Eric Rader_1_oval copy.jpg  \n",
      "  inflating: data/FaceImages/fear/maxresdefault0 copy.jpg  \n",
      "  inflating: data/FaceImages/__MACOSX/fear/._maxresdefault0 copy.jpg  \n",
      "  inflating: data/FaceImages/fear/Bonnie_Ng_13_oval copy.jpg  \n",
      "  inflating: data/FaceImages/__MACOSX/fear/._Bonnie_Ng_13_oval copy.jpg  \n",
      "  inflating: data/FaceImages/fear/Google_1_Esther Skeens_13_oval.jpg  \n",
      "  inflating: data/FaceImages/__MACOSX/fear/._Google_1_Esther Skeens_13_oval.jpg  \n",
      "  inflating: data/FaceImages/fear/steven-pressfield copy.jpg  \n",
      "  inflating: data/FaceImages/__MACOSX/fear/._steven-pressfield copy.jpg  \n",
      "  inflating: data/FaceImages/fear/Intuition copy.jpg  \n",
      "  inflating: data/FaceImages/__MACOSX/fear/._Intuition copy.jpg  \n"
     ]
    },
    {
     "name": "stdout",
     "output_type": "stream",
     "text": [
      "  inflating: data/FaceImages/fear/Fear-of-Flying-Breathe-Properly copy.jpg  \n",
      "  inflating: data/FaceImages/__MACOSX/fear/._Fear-of-Flying-Breathe-Properly copy.jpg  \n",
      "  inflating: data/FaceImages/fear/Google_1_Linda Morehouse_3_oval.jpg  \n",
      "  inflating: data/FaceImages/__MACOSX/fear/._Google_1_Linda Morehouse_3_oval.jpg  \n",
      "  inflating: data/FaceImages/fear/Google_1_Melissa Sauer_5_oval.jpg  \n",
      "  inflating: data/FaceImages/__MACOSX/fear/._Google_1_Melissa Sauer_5_oval.jpg  \n",
      "  inflating: data/FaceImages/fear/Ernest_Bowling_3_oval.jpg  \n",
      "  inflating: data/FaceImages/__MACOSX/fear/._Ernest_Bowling_3_oval.jpg  \n",
      "  inflating: data/FaceImages/fear/Google_1_Jerry Summerlin_1_oval copy.jpg  \n",
      "  inflating: data/FaceImages/__MACOSX/fear/._Google_1_Jerry Summerlin_1_oval copy.jpg  \n"
     ]
    }
   ],
   "source": [
    "!unzip data/FaceImages/fear.zip -d data/FaceImages"
   ]
  },
  {
   "cell_type": "code",
   "execution_count": 16,
   "metadata": {
    "colab": {},
    "colab_type": "code",
    "id": "-3jczXj89noa"
   },
   "outputs": [],
   "source": []
  },
  {
   "cell_type": "code",
   "execution_count": 17,
   "metadata": {
    "colab": {},
    "colab_type": "code",
    "id": "nmXFoxyt9wsW"
   },
   "outputs": [
    {
     "name": "stdout",
     "output_type": "stream",
     "text": [
      "00_notebook_tutorial.ipynb\t  lesson3-planet.ipynb\r\n",
      "Class5Activity.ipynb\t\t  lesson4-collab.ipynb\r\n",
      "data\t\t\t\t  lesson4-tabular.ipynb\r\n",
      "faces 1.0!.ipynb\t\t  lesson5-sgd-mnist.ipynb\r\n",
      "images\t\t\t\t  lesson6-pets-more.ipynb\r\n",
      "initial_fastai_model! 3_12.ipynb  lesson6-rossmann.ipynb\r\n",
      "initial_fastai_model!.ipynb\t  lesson7-human-numbers.ipynb\r\n",
      "lesson1-pets.ipynb\t\t  lesson7-resnet-mnist.ipynb\r\n",
      "lesson2-download.ipynb\t\t  lesson7-superres-gan.ipynb\r\n",
      "lesson2-sgd.ipynb\t\t  lesson7-superres-imagenet.ipynb\r\n",
      "lesson3-camvid-tiramisu.ipynb\t  lesson7-superres.ipynb\r\n",
      "lesson3-camvid.ipynb\t\t  lesson7-wgan.ipynb\r\n",
      "lesson3-head-pose.ipynb\t\t  rossman_data_clean.ipynb\r\n",
      "lesson3-imdb.ipynb\r\n"
     ]
    }
   ],
   "source": []
  },
  {
   "cell_type": "code",
   "execution_count": null,
   "metadata": {
    "colab": {},
    "colab_type": "code",
    "id": "m6Nqd0zi91i4"
   },
   "outputs": [],
   "source": []
  },
  {
   "cell_type": "code",
   "execution_count": null,
   "metadata": {
    "colab": {},
    "colab_type": "code",
    "id": "W2Bf3kBj6ZQQ"
   },
   "outputs": [],
   "source": []
  },
  {
   "cell_type": "code",
   "execution_count": 8,
   "metadata": {
    "colab": {
     "base_uri": "https://localhost:8080/",
     "height": 164
    },
    "colab_type": "code",
    "id": "fT7AmPD0xVde",
    "outputId": "f40a283c-de19-49a7-c8e9-46c9464205ac"
   },
   "outputs": [],
   "source": [
    "path = Path(\"data/FaceImages\")"
   ]
  },
  {
   "cell_type": "code",
   "execution_count": 9,
   "metadata": {
    "colab": {},
    "colab_type": "code",
    "id": "zwcT3XAKELe4"
   },
   "outputs": [],
   "source": [
    "#!mkdir data/train\n",
    "#!mkdir data/valid"
   ]
  },
  {
   "cell_type": "code",
   "execution_count": 10,
   "metadata": {
    "colab": {},
    "colab_type": "code",
    "id": "N3AC38bWFkqo"
   },
   "outputs": [],
   "source": [
    "#!mv data/angry data/train"
   ]
  },
  {
   "cell_type": "code",
   "execution_count": 11,
   "metadata": {
    "colab": {},
    "colab_type": "code",
    "id": "3gjbl6PEFrpd"
   },
   "outputs": [],
   "source": [
    "#!mv data/happy data/train\n",
    "#!mv data/sad data/train\n",
    "#mv data/disgusted data/train"
   ]
  },
  {
   "cell_type": "code",
   "execution_count": null,
   "metadata": {
    "colab": {
     "base_uri": "https://localhost:8080/",
     "height": 85
    },
    "colab_type": "code",
    "id": "VRnQXIE0JEM6",
    "outputId": "12227324-32c5-4abb-b06c-f4cbeefbccc5"
   },
   "outputs": [],
   "source": [
    "# !rmdir data/angry\n",
    "# !rmdir data/happy\n",
    "# !rmdir data/sad\n",
    "# !rmdir data/disgusted"
   ]
  },
  {
   "cell_type": "code",
   "execution_count": 38,
   "metadata": {
    "colab": {
     "base_uri": "https://localhost:8080/",
     "height": 219
    },
    "colab_type": "code",
    "id": "pdRNAfhHDVuN",
    "outputId": "184cfe53-62ae-4caf-8d0d-18a2a6535caf"
   },
   "outputs": [
    {
     "name": "stdout",
     "output_type": "stream",
     "text": [
      "happy\n"
     ]
    },
    {
     "data": {
      "text/html": [
       "\n",
       "    <div>\n",
       "        <style>\n",
       "            /* Turns off some styling */\n",
       "            progress {\n",
       "                /* gets rid of default border in Firefox and Opera. */\n",
       "                border: none;\n",
       "                /* Needs to be in here for Safari polyfill so background images work as expected. */\n",
       "                background-size: auto;\n",
       "            }\n",
       "            .progress-bar-interrupted, .progress-bar-interrupted::-webkit-progress-bar {\n",
       "                background: #F44336;\n",
       "            }\n",
       "        </style>\n",
       "      <progress value='433' class='' max='433', style='width:300px; height:20px; vertical-align: middle;'></progress>\n",
       "      100.00% [433/433 00:00<00:00]\n",
       "    </div>\n",
       "    "
      ],
      "text/plain": [
       "<IPython.core.display.HTML object>"
      ]
     },
     "metadata": {},
     "output_type": "display_data"
    },
    {
     "name": "stdout",
     "output_type": "stream",
     "text": [
      "sad\n"
     ]
    },
    {
     "data": {
      "text/html": [
       "\n",
       "    <div>\n",
       "        <style>\n",
       "            /* Turns off some styling */\n",
       "            progress {\n",
       "                /* gets rid of default border in Firefox and Opera. */\n",
       "                border: none;\n",
       "                /* Needs to be in here for Safari polyfill so background images work as expected. */\n",
       "                background-size: auto;\n",
       "            }\n",
       "            .progress-bar-interrupted, .progress-bar-interrupted::-webkit-progress-bar {\n",
       "                background: #F44336;\n",
       "            }\n",
       "        </style>\n",
       "      <progress value='398' class='' max='398', style='width:300px; height:20px; vertical-align: middle;'></progress>\n",
       "      100.00% [398/398 00:00<00:00]\n",
       "    </div>\n",
       "    "
      ],
      "text/plain": [
       "<IPython.core.display.HTML object>"
      ]
     },
     "metadata": {},
     "output_type": "display_data"
    },
    {
     "name": "stdout",
     "output_type": "stream",
     "text": [
      "angry\n"
     ]
    },
    {
     "data": {
      "text/html": [
       "\n",
       "    <div>\n",
       "        <style>\n",
       "            /* Turns off some styling */\n",
       "            progress {\n",
       "                /* gets rid of default border in Firefox and Opera. */\n",
       "                border: none;\n",
       "                /* Needs to be in here for Safari polyfill so background images work as expected. */\n",
       "                background-size: auto;\n",
       "            }\n",
       "            .progress-bar-interrupted, .progress-bar-interrupted::-webkit-progress-bar {\n",
       "                background: #F44336;\n",
       "            }\n",
       "        </style>\n",
       "      <progress value='302' class='' max='302', style='width:300px; height:20px; vertical-align: middle;'></progress>\n",
       "      100.00% [302/302 00:00<00:00]\n",
       "    </div>\n",
       "    "
      ],
      "text/plain": [
       "<IPython.core.display.HTML object>"
      ]
     },
     "metadata": {},
     "output_type": "display_data"
    },
    {
     "name": "stdout",
     "output_type": "stream",
     "text": [
      "Image data/FaceImages/angry/rally-clipart-crowd-angry-person-733999-5565709.gif has 1 instead of 3 channels\n",
      "scared\n"
     ]
    },
    {
     "data": {
      "text/html": [
       "\n",
       "    <div>\n",
       "        <style>\n",
       "            /* Turns off some styling */\n",
       "            progress {\n",
       "                /* gets rid of default border in Firefox and Opera. */\n",
       "                border: none;\n",
       "                /* Needs to be in here for Safari polyfill so background images work as expected. */\n",
       "                background-size: auto;\n",
       "            }\n",
       "            .progress-bar-interrupted, .progress-bar-interrupted::-webkit-progress-bar {\n",
       "                background: #F44336;\n",
       "            }\n",
       "        </style>\n",
       "      <progress value='440' class='' max='440', style='width:300px; height:20px; vertical-align: middle;'></progress>\n",
       "      100.00% [440/440 00:00<00:00]\n",
       "    </div>\n",
       "    "
      ],
      "text/plain": [
       "<IPython.core.display.HTML object>"
      ]
     },
     "metadata": {},
     "output_type": "display_data"
    },
    {
     "name": "stdout",
     "output_type": "stream",
     "text": [
      "neutral\n"
     ]
    },
    {
     "data": {
      "text/html": [
       "\n",
       "    <div>\n",
       "        <style>\n",
       "            /* Turns off some styling */\n",
       "            progress {\n",
       "                /* gets rid of default border in Firefox and Opera. */\n",
       "                border: none;\n",
       "                /* Needs to be in here for Safari polyfill so background images work as expected. */\n",
       "                background-size: auto;\n",
       "            }\n",
       "            .progress-bar-interrupted, .progress-bar-interrupted::-webkit-progress-bar {\n",
       "                background: #F44336;\n",
       "            }\n",
       "        </style>\n",
       "      <progress value='553' class='' max='553', style='width:300px; height:20px; vertical-align: middle;'></progress>\n",
       "      100.00% [553/553 00:00<00:00]\n",
       "    </div>\n",
       "    "
      ],
      "text/plain": [
       "<IPython.core.display.HTML object>"
      ]
     },
     "metadata": {},
     "output_type": "display_data"
    },
    {
     "name": "stdout",
     "output_type": "stream",
     "text": [
      "surprised\n"
     ]
    },
    {
     "data": {
      "text/html": [
       "\n",
       "    <div>\n",
       "        <style>\n",
       "            /* Turns off some styling */\n",
       "            progress {\n",
       "                /* gets rid of default border in Firefox and Opera. */\n",
       "                border: none;\n",
       "                /* Needs to be in here for Safari polyfill so background images work as expected. */\n",
       "                background-size: auto;\n",
       "            }\n",
       "            .progress-bar-interrupted, .progress-bar-interrupted::-webkit-progress-bar {\n",
       "                background: #F44336;\n",
       "            }\n",
       "        </style>\n",
       "      <progress value='370' class='' max='370', style='width:300px; height:20px; vertical-align: middle;'></progress>\n",
       "      100.00% [370/370 00:00<00:00]\n",
       "    </div>\n",
       "    "
      ],
      "text/plain": [
       "<IPython.core.display.HTML object>"
      ]
     },
     "metadata": {},
     "output_type": "display_data"
    }
   ],
   "source": [
    "classes = ['happy','sad', 'angry', \"scared\", \"neutral\", \"surprised\"]\n",
    "\n",
    "for c in classes:\n",
    "    print(c)\n",
    "    verify_images(path/c, delete=True, max_size=500)"
   ]
  },
  {
   "cell_type": "code",
   "execution_count": 48,
   "metadata": {
    "colab": {},
    "colab_type": "code",
    "id": "l1NgSxu6CRh3"
   },
   "outputs": [],
   "source": [
    "np.random.seed(2)\n",
    "data = ImageDataBunch.from_folder(path, train=\".\", valid_pct=0.2,\n",
    "        ds_tfms=get_transforms(), size=224, num_workers=4).normalize(imagenet_stats)"
   ]
  },
  {
   "cell_type": "code",
   "execution_count": 49,
   "metadata": {
    "colab": {
     "base_uri": "https://localhost:8080/",
     "height": 119
    },
    "colab_type": "code",
    "id": "knCQqdHpxVdi",
    "outputId": "5de92e05-b6d9-4e2e-e397-74791ff3c589"
   },
   "outputs": [
    {
     "data": {
      "text/plain": [
       "[PosixPath('data/FaceImages/models'),\n",
       " PosixPath('data/FaceImages/surprised'),\n",
       " PosixPath('data/FaceImages/neutral'),\n",
       " PosixPath('data/FaceImages/__MACOSX'),\n",
       " PosixPath('data/FaceImages/sad'),\n",
       " PosixPath('data/FaceImages/angry'),\n",
       " PosixPath('data/FaceImages/scared'),\n",
       " PosixPath('data/FaceImages/.ipynb_checkpoints'),\n",
       " PosixPath('data/FaceImages/happy')]"
      ]
     },
     "execution_count": 49,
     "metadata": {},
     "output_type": "execute_result"
    }
   ],
   "source": [
    "path.ls()"
   ]
  },
  {
   "cell_type": "code",
   "execution_count": 50,
   "metadata": {},
   "outputs": [
    {
     "name": "stdout",
     "output_type": "stream",
     "text": [
      "rm: cannot remove 'data/FaceImages/disgusted': No such file or directory\r\n"
     ]
    }
   ],
   "source": [
    "!rm -r data/FaceImages/disgusted"
   ]
  },
  {
   "cell_type": "code",
   "execution_count": 51,
   "metadata": {
    "colab": {
     "base_uri": "https://localhost:8080/",
     "height": 34
    },
    "colab_type": "code",
    "id": "Gwpnc2PnGiXk",
    "outputId": "b2f3243c-b0c0-45ee-ff8a-56e12f4bcbc3"
   },
   "outputs": [
    {
     "data": {
      "text/plain": [
       "['angry', 'happy', 'neutral', 'sad', 'scared', 'surprised']"
      ]
     },
     "execution_count": 51,
     "metadata": {},
     "output_type": "execute_result"
    }
   ],
   "source": [
    "data.classes"
   ]
  },
  {
   "cell_type": "code",
   "execution_count": 52,
   "metadata": {
    "colab": {
     "base_uri": "https://localhost:8080/",
     "height": 569
    },
    "colab_type": "code",
    "id": "cK1OHr9JGmHH",
    "outputId": "6fb2cea0-e2aa-4edb-bee8-1e707d03095d"
   },
   "outputs": [
    {
     "data": {
      "image/png": "[encoded data removed]",
      "text/plain": [
       "<Figure size 504x576 with 9 Axes>"
      ]
     },
     "metadata": {
      "needs_background": "light"
     },
     "output_type": "display_data"
    }
   ],
   "source": [
    "data.show_batch(rows=3, figsize=(7,8))"
   ]
  },
  {
   "cell_type": "code",
   "execution_count": 53,
   "metadata": {
    "colab": {
     "base_uri": "https://localhost:8080/",
     "height": 34
    },
    "colab_type": "code",
    "id": "n4U94BobDgx0",
    "outputId": "a8c7c56a-d188-425d-c3b5-0f0c8f32952e"
   },
   "outputs": [
    {
     "data": {
      "text/plain": [
       "(['angry', 'happy', 'neutral', 'sad', 'scared', 'surprised'], 6, 1996, 499)"
      ]
     },
     "execution_count": 53,
     "metadata": {},
     "output_type": "execute_result"
    }
   ],
   "source": [
    "data.classes, data.c, len(data.train_ds), len(data.valid_ds)"
   ]
  },
  {
   "cell_type": "markdown",
   "metadata": {
    "colab_type": "text",
    "id": "dbplX7LBxVdo"
   },
   "source": [
    "The first thing we do when we approach a problem is to take a look at the data. We _always_ need to understand very well what the problem is and what the data looks like before we can figure out how to solve it. Taking a look at the data means understanding how the data directories are structured, what the labels are and what some sample images look like.\n",
    "\n",
    "The main difference between the handling of image classification datasets is the way labels are stored. In this particular dataset, labels are stored in the filenames themselves. We will need to extract them to be able to classify the images into the correct categories. Fortunately, the fastai library has a handy function made exactly for this, `ImageDataBunch.from_name_re` gets the labels from the filenames using a [regular expression](https://docs.python.org/3.6/library/re.html)."
   ]
  },
  {
   "cell_type": "code",
   "execution_count": 24,
   "metadata": {
    "colab": {},
    "colab_type": "code",
    "id": "ccAOlIloxVdq"
   },
   "outputs": [
    {
     "ename": "NameError",
     "evalue": "name 'path_img' is not defined",
     "output_type": "error",
     "traceback": [
      "\u001b[0;31m---------------------------------------------------------------------------\u001b[0m",
      "\u001b[0;31mNameError\u001b[0m                                 Traceback (most recent call last)",
      "\u001b[0;32m<ipython-input-24-18db94696d98>\u001b[0m in \u001b[0;36m<module>\u001b[0;34m\u001b[0m\n\u001b[0;32m----> 1\u001b[0;31m \u001b[0mfnames\u001b[0m \u001b[0;34m=\u001b[0m \u001b[0mget_image_files\u001b[0m\u001b[0;34m(\u001b[0m\u001b[0mpath_img\u001b[0m\u001b[0;34m)\u001b[0m\u001b[0;34m\u001b[0m\u001b[0;34m\u001b[0m\u001b[0m\n\u001b[0m\u001b[1;32m      2\u001b[0m \u001b[0mfnames\u001b[0m\u001b[0;34m[\u001b[0m\u001b[0;34m:\u001b[0m\u001b[0;36m5\u001b[0m\u001b[0;34m]\u001b[0m\u001b[0;34m\u001b[0m\u001b[0;34m\u001b[0m\u001b[0m\n",
      "\u001b[0;31mNameError\u001b[0m: name 'path_img' is not defined"
     ]
    }
   ],
   "source": [
    "# fnames = get_image_files(path_img)\n",
    "# fnames[:5]"
   ]
  },
  {
   "cell_type": "code",
   "execution_count": 54,
   "metadata": {
    "colab": {},
    "colab_type": "code",
    "id": "dMipnfNzxVd3",
    "outputId": "8a68df65-e947-4d71-ba7d-13ba7c1c1f8c"
   },
   "outputs": [
    {
     "name": "stdout",
     "output_type": "stream",
     "text": [
      "['angry', 'happy', 'neutral', 'sad', 'scared', 'surprised']\n"
     ]
    },
    {
     "data": {
      "text/plain": [
       "(6, 6)"
      ]
     },
     "execution_count": 54,
     "metadata": {},
     "output_type": "execute_result"
    }
   ],
   "source": [
    "print(data.classes)\n",
    "len(data.classes),data.c"
   ]
  },
  {
   "cell_type": "markdown",
   "metadata": {
    "colab_type": "text",
    "id": "bDgOGreyxVd7"
   },
   "source": [
    "## Training: resnet34"
   ]
  },
  {
   "cell_type": "markdown",
   "metadata": {
    "colab_type": "text",
    "id": "gqzmPXNRxVd9"
   },
   "source": [
    "Now we will start training our model. We will use a [convolutional neural network](http://cs231n.github.io/convolutional-networks/) backbone and a fully connected head with a single hidden layer as a classifier. Don't know what these things mean? Not to worry, we will dive deeper in the coming lessons. For the moment you need to know that we are building a model which will take images as input and will output the predicted probability for each of the categories (in this case, it will have 37 outputs).\n",
    "\n",
    "We will train for 4 epochs (4 cycles through all our data)."
   ]
  },
  {
   "cell_type": "code",
   "execution_count": 55,
   "metadata": {
    "colab": {},
    "colab_type": "code",
    "id": "h_9FURzJxVd-"
   },
   "outputs": [],
   "source": [
    "learn = create_cnn(data, models.resnet34, metrics=error_rate)"
   ]
  },
  {
   "cell_type": "code",
   "execution_count": 56,
   "metadata": {
    "colab": {
     "base_uri": "https://localhost:8080/",
     "height": 196
    },
    "colab_type": "code",
    "id": "eoHpzPjzEKkd",
    "outputId": "0d4ad7f4-3e12-4013-d8f7-e944b0afa712"
   },
   "outputs": [
    {
     "data": {
      "text/html": [
       "Total time: 01:06 <p><table style='width:300px; margin-bottom:10px'>\n",
       "  <tr>\n",
       "    <th>epoch</th>\n",
       "    <th>train_loss</th>\n",
       "    <th>valid_loss</th>\n",
       "    <th>error_rate</th>\n",
       "  </tr>\n",
       "  <tr>\n",
       "    <th>1</th>\n",
       "    <th>1.952202</th>\n",
       "    <th>1.513960</th>\n",
       "    <th>0.551102</th>\n",
       "  </tr>\n",
       "  <tr>\n",
       "    <th>2</th>\n",
       "    <th>1.653246</th>\n",
       "    <th>1.432823</th>\n",
       "    <th>0.535070</th>\n",
       "  </tr>\n",
       "  <tr>\n",
       "    <th>3</th>\n",
       "    <th>1.467509</th>\n",
       "    <th>1.340788</th>\n",
       "    <th>0.480962</th>\n",
       "  </tr>\n",
       "  <tr>\n",
       "    <th>4</th>\n",
       "    <th>1.330986</th>\n",
       "    <th>1.337396</th>\n",
       "    <th>0.501002</th>\n",
       "  </tr>\n",
       "</table>\n"
      ],
      "text/plain": [
       "<IPython.core.display.HTML object>"
      ]
     },
     "metadata": {},
     "output_type": "display_data"
    }
   ],
   "source": [
    "learn.fit_one_cycle(4)"
   ]
  },
  {
   "cell_type": "code",
   "execution_count": 57,
   "metadata": {
    "colab": {},
    "colab_type": "code",
    "id": "PrAGuMTYENu5"
   },
   "outputs": [],
   "source": [
    "learn.save('stage-1')"
   ]
  },
  {
   "cell_type": "code",
   "execution_count": 58,
   "metadata": {
    "colab": {},
    "colab_type": "code",
    "id": "sj8koQA9F40k"
   },
   "outputs": [],
   "source": [
    "learn.unfreeze()"
   ]
  },
  {
   "cell_type": "code",
   "execution_count": 59,
   "metadata": {
    "colab": {},
    "colab_type": "code",
    "id": "sII7gnyQF5UE"
   },
   "outputs": [
    {
     "name": "stdout",
     "output_type": "stream",
     "text": [
      "LR Finder is complete, type {learner_name}.recorder.plot() to see the graph.\n"
     ]
    }
   ],
   "source": [
    "learn.lr_find()"
   ]
  },
  {
   "cell_type": "code",
   "execution_count": 60,
   "metadata": {
    "colab": {},
    "colab_type": "code",
    "id": "7qReF6K5F79d"
   },
   "outputs": [
    {
     "data": {
      "image/png": "[encoded data removed]",
      "text/plain": [
       "<Figure size 432x288 with 1 Axes>"
      ]
     },
     "metadata": {
      "needs_background": "light"
     },
     "output_type": "display_data"
    }
   ],
   "source": [
    "learn.recorder.plot()"
   ]
  },
  {
   "cell_type": "code",
   "execution_count": 61,
   "metadata": {
    "colab": {},
    "colab_type": "code",
    "id": "M0pxMMexGDrt"
   },
   "outputs": [],
   "source": [
    "lr = 0.003"
   ]
  },
  {
   "cell_type": "code",
   "execution_count": 62,
   "metadata": {},
   "outputs": [
    {
     "data": {
      "text/html": [
       "Total time: 01:50 <p><table style='width:300px; margin-bottom:10px'>\n",
       "  <tr>\n",
       "    <th>epoch</th>\n",
       "    <th>train_loss</th>\n",
       "    <th>valid_loss</th>\n",
       "    <th>error_rate</th>\n",
       "  </tr>\n",
       "  <tr>\n",
       "    <th>1</th>\n",
       "    <th>1.148095</th>\n",
       "    <th>1.449060</th>\n",
       "    <th>0.531062</th>\n",
       "  </tr>\n",
       "  <tr>\n",
       "    <th>2</th>\n",
       "    <th>1.148835</th>\n",
       "    <th>1.319610</th>\n",
       "    <th>0.458918</th>\n",
       "  </tr>\n",
       "  <tr>\n",
       "    <th>3</th>\n",
       "    <th>1.033693</th>\n",
       "    <th>1.171832</th>\n",
       "    <th>0.382766</th>\n",
       "  </tr>\n",
       "  <tr>\n",
       "    <th>4</th>\n",
       "    <th>0.857007</th>\n",
       "    <th>1.129125</th>\n",
       "    <th>0.392786</th>\n",
       "  </tr>\n",
       "  <tr>\n",
       "    <th>5</th>\n",
       "    <th>0.689019</th>\n",
       "    <th>1.102749</th>\n",
       "    <th>0.358717</th>\n",
       "  </tr>\n",
       "</table>\n"
      ],
      "text/plain": [
       "<IPython.core.display.HTML object>"
      ]
     },
     "metadata": {},
     "output_type": "display_data"
    }
   ],
   "source": [
    "learn.fit_one_cycle(5, slice(lr))"
   ]
  },
  {
   "cell_type": "code",
   "execution_count": 63,
   "metadata": {
    "colab": {},
    "colab_type": "code",
    "id": "EF9G3gpCGFKr"
   },
   "outputs": [],
   "source": [
    "learn.save('stage-2')"
   ]
  },
  {
   "cell_type": "code",
   "execution_count": null,
   "metadata": {
    "colab": {},
    "colab_type": "code",
    "id": "vWxrLON3xVeD"
   },
   "outputs": [],
   "source": [
    "#learn.model"
   ]
  },
  {
   "cell_type": "code",
   "execution_count": 26,
   "metadata": {},
   "outputs": [
    {
     "data": {
      "text/plain": [
       "Learner(data=ImageDataBunch;\n",
       "\n",
       "Train: LabelList\n",
       "y: CategoryList (263 items)\n",
       "[Category happy, Category happy, Category happy, Category happy, Category happy]...\n",
       "Path: data/train\n",
       "x: ImageItemList (263 items)\n",
       "[Image (3, 281, 500), Image (3, 339, 500), Image (3, 332, 500), Image (3, 300, 450), Image (3, 334, 300)]...\n",
       "Path: data/train;\n",
       "\n",
       "Valid: LabelList\n",
       "y: CategoryList (65 items)\n",
       "[Category sad, Category angryzip, Category happy, Category sad, Category disgustedzip]...\n",
       "Path: data/train\n",
       "x: ImageItemList (65 items)\n",
       "[Image (3, 466, 500), Image (3, 1667, 2500), Image (3, 278, 500), Image (3, 500, 333), Image (3, 1080, 1920)]...\n",
       "Path: data/train;\n",
       "\n",
       "Test: None, model=Sequential(\n",
       "  (0): Sequential(\n",
       "    (0): Conv2d(3, 64, kernel_size=(7, 7), stride=(2, 2), padding=(3, 3), bias=False)\n",
       "    (1): BatchNorm2d(64, eps=1e-05, momentum=0.1, affine=True, track_running_stats=True)\n",
       "    (2): ReLU(inplace)\n",
       "    (3): MaxPool2d(kernel_size=3, stride=2, padding=1, dilation=1, ceil_mode=False)\n",
       "    (4): Sequential(\n",
       "      (0): BasicBlock(\n",
       "        (conv1): Conv2d(64, 64, kernel_size=(3, 3), stride=(1, 1), padding=(1, 1), bias=False)\n",
       "        (bn1): BatchNorm2d(64, eps=1e-05, momentum=0.1, affine=True, track_running_stats=True)\n",
       "        (relu): ReLU(inplace)\n",
       "        (conv2): Conv2d(64, 64, kernel_size=(3, 3), stride=(1, 1), padding=(1, 1), bias=False)\n",
       "        (bn2): BatchNorm2d(64, eps=1e-05, momentum=0.1, affine=True, track_running_stats=True)\n",
       "      )\n",
       "      (1): BasicBlock(\n",
       "        (conv1): Conv2d(64, 64, kernel_size=(3, 3), stride=(1, 1), padding=(1, 1), bias=False)\n",
       "        (bn1): BatchNorm2d(64, eps=1e-05, momentum=0.1, affine=True, track_running_stats=True)\n",
       "        (relu): ReLU(inplace)\n",
       "        (conv2): Conv2d(64, 64, kernel_size=(3, 3), stride=(1, 1), padding=(1, 1), bias=False)\n",
       "        (bn2): BatchNorm2d(64, eps=1e-05, momentum=0.1, affine=True, track_running_stats=True)\n",
       "      )\n",
       "      (2): BasicBlock(\n",
       "        (conv1): Conv2d(64, 64, kernel_size=(3, 3), stride=(1, 1), padding=(1, 1), bias=False)\n",
       "        (bn1): BatchNorm2d(64, eps=1e-05, momentum=0.1, affine=True, track_running_stats=True)\n",
       "        (relu): ReLU(inplace)\n",
       "        (conv2): Conv2d(64, 64, kernel_size=(3, 3), stride=(1, 1), padding=(1, 1), bias=False)\n",
       "        (bn2): BatchNorm2d(64, eps=1e-05, momentum=0.1, affine=True, track_running_stats=True)\n",
       "      )\n",
       "    )\n",
       "    (5): Sequential(\n",
       "      (0): BasicBlock(\n",
       "        (conv1): Conv2d(64, 128, kernel_size=(3, 3), stride=(2, 2), padding=(1, 1), bias=False)\n",
       "        (bn1): BatchNorm2d(128, eps=1e-05, momentum=0.1, affine=True, track_running_stats=True)\n",
       "        (relu): ReLU(inplace)\n",
       "        (conv2): Conv2d(128, 128, kernel_size=(3, 3), stride=(1, 1), padding=(1, 1), bias=False)\n",
       "        (bn2): BatchNorm2d(128, eps=1e-05, momentum=0.1, affine=True, track_running_stats=True)\n",
       "        (downsample): Sequential(\n",
       "          (0): Conv2d(64, 128, kernel_size=(1, 1), stride=(2, 2), bias=False)\n",
       "          (1): BatchNorm2d(128, eps=1e-05, momentum=0.1, affine=True, track_running_stats=True)\n",
       "        )\n",
       "      )\n",
       "      (1): BasicBlock(\n",
       "        (conv1): Conv2d(128, 128, kernel_size=(3, 3), stride=(1, 1), padding=(1, 1), bias=False)\n",
       "        (bn1): BatchNorm2d(128, eps=1e-05, momentum=0.1, affine=True, track_running_stats=True)\n",
       "        (relu): ReLU(inplace)\n",
       "        (conv2): Conv2d(128, 128, kernel_size=(3, 3), stride=(1, 1), padding=(1, 1), bias=False)\n",
       "        (bn2): BatchNorm2d(128, eps=1e-05, momentum=0.1, affine=True, track_running_stats=True)\n",
       "      )\n",
       "      (2): BasicBlock(\n",
       "        (conv1): Conv2d(128, 128, kernel_size=(3, 3), stride=(1, 1), padding=(1, 1), bias=False)\n",
       "        (bn1): BatchNorm2d(128, eps=1e-05, momentum=0.1, affine=True, track_running_stats=True)\n",
       "        (relu): ReLU(inplace)\n",
       "        (conv2): Conv2d(128, 128, kernel_size=(3, 3), stride=(1, 1), padding=(1, 1), bias=False)\n",
       "        (bn2): BatchNorm2d(128, eps=1e-05, momentum=0.1, affine=True, track_running_stats=True)\n",
       "      )\n",
       "      (3): BasicBlock(\n",
       "        (conv1): Conv2d(128, 128, kernel_size=(3, 3), stride=(1, 1), padding=(1, 1), bias=False)\n",
       "        (bn1): BatchNorm2d(128, eps=1e-05, momentum=0.1, affine=True, track_running_stats=True)\n",
       "        (relu): ReLU(inplace)\n",
       "        (conv2): Conv2d(128, 128, kernel_size=(3, 3), stride=(1, 1), padding=(1, 1), bias=False)\n",
       "        (bn2): BatchNorm2d(128, eps=1e-05, momentum=0.1, affine=True, track_running_stats=True)\n",
       "      )\n",
       "    )\n",
       "    (6): Sequential(\n",
       "      (0): BasicBlock(\n",
       "        (conv1): Conv2d(128, 256, kernel_size=(3, 3), stride=(2, 2), padding=(1, 1), bias=False)\n",
       "        (bn1): BatchNorm2d(256, eps=1e-05, momentum=0.1, affine=True, track_running_stats=True)\n",
       "        (relu): ReLU(inplace)\n",
       "        (conv2): Conv2d(256, 256, kernel_size=(3, 3), stride=(1, 1), padding=(1, 1), bias=False)\n",
       "        (bn2): BatchNorm2d(256, eps=1e-05, momentum=0.1, affine=True, track_running_stats=True)\n",
       "        (downsample): Sequential(\n",
       "          (0): Conv2d(128, 256, kernel_size=(1, 1), stride=(2, 2), bias=False)\n",
       "          (1): BatchNorm2d(256, eps=1e-05, momentum=0.1, affine=True, track_running_stats=True)\n",
       "        )\n",
       "      )\n",
       "      (1): BasicBlock(\n",
       "        (conv1): Conv2d(256, 256, kernel_size=(3, 3), stride=(1, 1), padding=(1, 1), bias=False)\n",
       "        (bn1): BatchNorm2d(256, eps=1e-05, momentum=0.1, affine=True, track_running_stats=True)\n",
       "        (relu): ReLU(inplace)\n",
       "        (conv2): Conv2d(256, 256, kernel_size=(3, 3), stride=(1, 1), padding=(1, 1), bias=False)\n",
       "        (bn2): BatchNorm2d(256, eps=1e-05, momentum=0.1, affine=True, track_running_stats=True)\n",
       "      )\n",
       "      (2): BasicBlock(\n",
       "        (conv1): Conv2d(256, 256, kernel_size=(3, 3), stride=(1, 1), padding=(1, 1), bias=False)\n",
       "        (bn1): BatchNorm2d(256, eps=1e-05, momentum=0.1, affine=True, track_running_stats=True)\n",
       "        (relu): ReLU(inplace)\n",
       "        (conv2): Conv2d(256, 256, kernel_size=(3, 3), stride=(1, 1), padding=(1, 1), bias=False)\n",
       "        (bn2): BatchNorm2d(256, eps=1e-05, momentum=0.1, affine=True, track_running_stats=True)\n",
       "      )\n",
       "      (3): BasicBlock(\n",
       "        (conv1): Conv2d(256, 256, kernel_size=(3, 3), stride=(1, 1), padding=(1, 1), bias=False)\n",
       "        (bn1): BatchNorm2d(256, eps=1e-05, momentum=0.1, affine=True, track_running_stats=True)\n",
       "        (relu): ReLU(inplace)\n",
       "        (conv2): Conv2d(256, 256, kernel_size=(3, 3), stride=(1, 1), padding=(1, 1), bias=False)\n",
       "        (bn2): BatchNorm2d(256, eps=1e-05, momentum=0.1, affine=True, track_running_stats=True)\n",
       "      )\n",
       "      (4): BasicBlock(\n",
       "        (conv1): Conv2d(256, 256, kernel_size=(3, 3), stride=(1, 1), padding=(1, 1), bias=False)\n",
       "        (bn1): BatchNorm2d(256, eps=1e-05, momentum=0.1, affine=True, track_running_stats=True)\n",
       "        (relu): ReLU(inplace)\n",
       "        (conv2): Conv2d(256, 256, kernel_size=(3, 3), stride=(1, 1), padding=(1, 1), bias=False)\n",
       "        (bn2): BatchNorm2d(256, eps=1e-05, momentum=0.1, affine=True, track_running_stats=True)\n",
       "      )\n",
       "      (5): BasicBlock(\n",
       "        (conv1): Conv2d(256, 256, kernel_size=(3, 3), stride=(1, 1), padding=(1, 1), bias=False)\n",
       "        (bn1): BatchNorm2d(256, eps=1e-05, momentum=0.1, affine=True, track_running_stats=True)\n",
       "        (relu): ReLU(inplace)\n",
       "        (conv2): Conv2d(256, 256, kernel_size=(3, 3), stride=(1, 1), padding=(1, 1), bias=False)\n",
       "        (bn2): BatchNorm2d(256, eps=1e-05, momentum=0.1, affine=True, track_running_stats=True)\n",
       "      )\n",
       "    )\n",
       "    (7): Sequential(\n",
       "      (0): BasicBlock(\n",
       "        (conv1): Conv2d(256, 512, kernel_size=(3, 3), stride=(2, 2), padding=(1, 1), bias=False)\n",
       "        (bn1): BatchNorm2d(512, eps=1e-05, momentum=0.1, affine=True, track_running_stats=True)\n",
       "        (relu): ReLU(inplace)\n",
       "        (conv2): Conv2d(512, 512, kernel_size=(3, 3), stride=(1, 1), padding=(1, 1), bias=False)\n",
       "        (bn2): BatchNorm2d(512, eps=1e-05, momentum=0.1, affine=True, track_running_stats=True)\n",
       "        (downsample): Sequential(\n",
       "          (0): Conv2d(256, 512, kernel_size=(1, 1), stride=(2, 2), bias=False)\n",
       "          (1): BatchNorm2d(512, eps=1e-05, momentum=0.1, affine=True, track_running_stats=True)\n",
       "        )\n",
       "      )\n",
       "      (1): BasicBlock(\n",
       "        (conv1): Conv2d(512, 512, kernel_size=(3, 3), stride=(1, 1), padding=(1, 1), bias=False)\n",
       "        (bn1): BatchNorm2d(512, eps=1e-05, momentum=0.1, affine=True, track_running_stats=True)\n",
       "        (relu): ReLU(inplace)\n",
       "        (conv2): Conv2d(512, 512, kernel_size=(3, 3), stride=(1, 1), padding=(1, 1), bias=False)\n",
       "        (bn2): BatchNorm2d(512, eps=1e-05, momentum=0.1, affine=True, track_running_stats=True)\n",
       "      )\n",
       "      (2): BasicBlock(\n",
       "        (conv1): Conv2d(512, 512, kernel_size=(3, 3), stride=(1, 1), padding=(1, 1), bias=False)\n",
       "        (bn1): BatchNorm2d(512, eps=1e-05, momentum=0.1, affine=True, track_running_stats=True)\n",
       "        (relu): ReLU(inplace)\n",
       "        (conv2): Conv2d(512, 512, kernel_size=(3, 3), stride=(1, 1), padding=(1, 1), bias=False)\n",
       "        (bn2): BatchNorm2d(512, eps=1e-05, momentum=0.1, affine=True, track_running_stats=True)\n",
       "      )\n",
       "    )\n",
       "  )\n",
       "  (1): Sequential(\n",
       "    (0): AdaptiveConcatPool2d(\n",
       "      (ap): AdaptiveAvgPool2d(output_size=1)\n",
       "      (mp): AdaptiveMaxPool2d(output_size=1)\n",
       "    )\n",
       "    (1): Flatten()\n",
       "    (2): BatchNorm1d(1024, eps=1e-05, momentum=0.1, affine=True, track_running_stats=True)\n",
       "    (3): Dropout(p=0.25)\n",
       "    (4): Linear(in_features=1024, out_features=512, bias=True)\n",
       "    (5): ReLU(inplace)\n",
       "    (6): BatchNorm1d(512, eps=1e-05, momentum=0.1, affine=True, track_running_stats=True)\n",
       "    (7): Dropout(p=0.5)\n",
       "    (8): Linear(in_features=512, out_features=4, bias=True)\n",
       "  )\n",
       "), opt_func=functools.partial(<class 'torch.optim.adam.Adam'>, betas=(0.9, 0.99)), loss_func=FlattenedLoss of CrossEntropyLoss(), metrics=[<function error_rate at 0x7f21e475d840>], true_wd=True, bn_wd=True, wd=0.01, train_bn=True, path=PosixPath('data/train'), model_dir='models', callback_fns=[<class 'fastai.basic_train.Recorder'>], callbacks=[], layer_groups=[Sequential(\n",
       "  (0): Conv2d(3, 64, kernel_size=(7, 7), stride=(2, 2), padding=(3, 3), bias=False)\n",
       "  (1): BatchNorm2d(64, eps=1e-05, momentum=0.1, affine=True, track_running_stats=True)\n",
       "  (2): ReLU(inplace)\n",
       "  (3): MaxPool2d(kernel_size=3, stride=2, padding=1, dilation=1, ceil_mode=False)\n",
       "  (4): Conv2d(64, 64, kernel_size=(3, 3), stride=(1, 1), padding=(1, 1), bias=False)\n",
       "  (5): BatchNorm2d(64, eps=1e-05, momentum=0.1, affine=True, track_running_stats=True)\n",
       "  (6): ReLU(inplace)\n",
       "  (7): Conv2d(64, 64, kernel_size=(3, 3), stride=(1, 1), padding=(1, 1), bias=False)\n",
       "  (8): BatchNorm2d(64, eps=1e-05, momentum=0.1, affine=True, track_running_stats=True)\n",
       "  (9): Conv2d(64, 64, kernel_size=(3, 3), stride=(1, 1), padding=(1, 1), bias=False)\n",
       "  (10): BatchNorm2d(64, eps=1e-05, momentum=0.1, affine=True, track_running_stats=True)\n",
       "  (11): ReLU(inplace)\n",
       "  (12): Conv2d(64, 64, kernel_size=(3, 3), stride=(1, 1), padding=(1, 1), bias=False)\n",
       "  (13): BatchNorm2d(64, eps=1e-05, momentum=0.1, affine=True, track_running_stats=True)\n",
       "  (14): Conv2d(64, 64, kernel_size=(3, 3), stride=(1, 1), padding=(1, 1), bias=False)\n",
       "  (15): BatchNorm2d(64, eps=1e-05, momentum=0.1, affine=True, track_running_stats=True)\n",
       "  (16): ReLU(inplace)\n",
       "  (17): Conv2d(64, 64, kernel_size=(3, 3), stride=(1, 1), padding=(1, 1), bias=False)\n",
       "  (18): BatchNorm2d(64, eps=1e-05, momentum=0.1, affine=True, track_running_stats=True)\n",
       "  (19): Conv2d(64, 128, kernel_size=(3, 3), stride=(2, 2), padding=(1, 1), bias=False)\n",
       "  (20): BatchNorm2d(128, eps=1e-05, momentum=0.1, affine=True, track_running_stats=True)\n",
       "  (21): ReLU(inplace)\n",
       "  (22): Conv2d(128, 128, kernel_size=(3, 3), stride=(1, 1), padding=(1, 1), bias=False)\n",
       "  (23): BatchNorm2d(128, eps=1e-05, momentum=0.1, affine=True, track_running_stats=True)\n",
       "  (24): Conv2d(64, 128, kernel_size=(1, 1), stride=(2, 2), bias=False)\n",
       "  (25): BatchNorm2d(128, eps=1e-05, momentum=0.1, affine=True, track_running_stats=True)\n",
       "  (26): Conv2d(128, 128, kernel_size=(3, 3), stride=(1, 1), padding=(1, 1), bias=False)\n",
       "  (27): BatchNorm2d(128, eps=1e-05, momentum=0.1, affine=True, track_running_stats=True)\n",
       "  (28): ReLU(inplace)\n",
       "  (29): Conv2d(128, 128, kernel_size=(3, 3), stride=(1, 1), padding=(1, 1), bias=False)\n",
       "  (30): BatchNorm2d(128, eps=1e-05, momentum=0.1, affine=True, track_running_stats=True)\n",
       "  (31): Conv2d(128, 128, kernel_size=(3, 3), stride=(1, 1), padding=(1, 1), bias=False)\n",
       "  (32): BatchNorm2d(128, eps=1e-05, momentum=0.1, affine=True, track_running_stats=True)\n",
       "  (33): ReLU(inplace)\n",
       "  (34): Conv2d(128, 128, kernel_size=(3, 3), stride=(1, 1), padding=(1, 1), bias=False)\n",
       "  (35): BatchNorm2d(128, eps=1e-05, momentum=0.1, affine=True, track_running_stats=True)\n",
       "  (36): Conv2d(128, 128, kernel_size=(3, 3), stride=(1, 1), padding=(1, 1), bias=False)\n",
       "  (37): BatchNorm2d(128, eps=1e-05, momentum=0.1, affine=True, track_running_stats=True)\n",
       "  (38): ReLU(inplace)\n",
       "  (39): Conv2d(128, 128, kernel_size=(3, 3), stride=(1, 1), padding=(1, 1), bias=False)\n",
       "  (40): BatchNorm2d(128, eps=1e-05, momentum=0.1, affine=True, track_running_stats=True)\n",
       "), Sequential(\n",
       "  (0): Conv2d(128, 256, kernel_size=(3, 3), stride=(2, 2), padding=(1, 1), bias=False)\n",
       "  (1): BatchNorm2d(256, eps=1e-05, momentum=0.1, affine=True, track_running_stats=True)\n",
       "  (2): ReLU(inplace)\n",
       "  (3): Conv2d(256, 256, kernel_size=(3, 3), stride=(1, 1), padding=(1, 1), bias=False)\n",
       "  (4): BatchNorm2d(256, eps=1e-05, momentum=0.1, affine=True, track_running_stats=True)\n",
       "  (5): Conv2d(128, 256, kernel_size=(1, 1), stride=(2, 2), bias=False)\n",
       "  (6): BatchNorm2d(256, eps=1e-05, momentum=0.1, affine=True, track_running_stats=True)\n",
       "  (7): Conv2d(256, 256, kernel_size=(3, 3), stride=(1, 1), padding=(1, 1), bias=False)\n",
       "  (8): BatchNorm2d(256, eps=1e-05, momentum=0.1, affine=True, track_running_stats=True)\n",
       "  (9): ReLU(inplace)\n",
       "  (10): Conv2d(256, 256, kernel_size=(3, 3), stride=(1, 1), padding=(1, 1), bias=False)\n",
       "  (11): BatchNorm2d(256, eps=1e-05, momentum=0.1, affine=True, track_running_stats=True)\n",
       "  (12): Conv2d(256, 256, kernel_size=(3, 3), stride=(1, 1), padding=(1, 1), bias=False)\n",
       "  (13): BatchNorm2d(256, eps=1e-05, momentum=0.1, affine=True, track_running_stats=True)\n",
       "  (14): ReLU(inplace)\n",
       "  (15): Conv2d(256, 256, kernel_size=(3, 3), stride=(1, 1), padding=(1, 1), bias=False)\n",
       "  (16): BatchNorm2d(256, eps=1e-05, momentum=0.1, affine=True, track_running_stats=True)\n",
       "  (17): Conv2d(256, 256, kernel_size=(3, 3), stride=(1, 1), padding=(1, 1), bias=False)\n",
       "  (18): BatchNorm2d(256, eps=1e-05, momentum=0.1, affine=True, track_running_stats=True)\n",
       "  (19): ReLU(inplace)\n",
       "  (20): Conv2d(256, 256, kernel_size=(3, 3), stride=(1, 1), padding=(1, 1), bias=False)\n",
       "  (21): BatchNorm2d(256, eps=1e-05, momentum=0.1, affine=True, track_running_stats=True)\n",
       "  (22): Conv2d(256, 256, kernel_size=(3, 3), stride=(1, 1), padding=(1, 1), bias=False)\n",
       "  (23): BatchNorm2d(256, eps=1e-05, momentum=0.1, affine=True, track_running_stats=True)\n",
       "  (24): ReLU(inplace)\n",
       "  (25): Conv2d(256, 256, kernel_size=(3, 3), stride=(1, 1), padding=(1, 1), bias=False)\n",
       "  (26): BatchNorm2d(256, eps=1e-05, momentum=0.1, affine=True, track_running_stats=True)\n",
       "  (27): Conv2d(256, 256, kernel_size=(3, 3), stride=(1, 1), padding=(1, 1), bias=False)\n",
       "  (28): BatchNorm2d(256, eps=1e-05, momentum=0.1, affine=True, track_running_stats=True)\n",
       "  (29): ReLU(inplace)\n",
       "  (30): Conv2d(256, 256, kernel_size=(3, 3), stride=(1, 1), padding=(1, 1), bias=False)\n",
       "  (31): BatchNorm2d(256, eps=1e-05, momentum=0.1, affine=True, track_running_stats=True)\n",
       "  (32): Conv2d(256, 512, kernel_size=(3, 3), stride=(2, 2), padding=(1, 1), bias=False)\n",
       "  (33): BatchNorm2d(512, eps=1e-05, momentum=0.1, affine=True, track_running_stats=True)\n",
       "  (34): ReLU(inplace)\n",
       "  (35): Conv2d(512, 512, kernel_size=(3, 3), stride=(1, 1), padding=(1, 1), bias=False)\n",
       "  (36): BatchNorm2d(512, eps=1e-05, momentum=0.1, affine=True, track_running_stats=True)\n",
       "  (37): Conv2d(256, 512, kernel_size=(1, 1), stride=(2, 2), bias=False)\n",
       "  (38): BatchNorm2d(512, eps=1e-05, momentum=0.1, affine=True, track_running_stats=True)\n",
       "  (39): Conv2d(512, 512, kernel_size=(3, 3), stride=(1, 1), padding=(1, 1), bias=False)\n",
       "  (40): BatchNorm2d(512, eps=1e-05, momentum=0.1, affine=True, track_running_stats=True)\n",
       "  (41): ReLU(inplace)\n",
       "  (42): Conv2d(512, 512, kernel_size=(3, 3), stride=(1, 1), padding=(1, 1), bias=False)\n",
       "  (43): BatchNorm2d(512, eps=1e-05, momentum=0.1, affine=True, track_running_stats=True)\n",
       "  (44): Conv2d(512, 512, kernel_size=(3, 3), stride=(1, 1), padding=(1, 1), bias=False)\n",
       "  (45): BatchNorm2d(512, eps=1e-05, momentum=0.1, affine=True, track_running_stats=True)\n",
       "  (46): ReLU(inplace)\n",
       "  (47): Conv2d(512, 512, kernel_size=(3, 3), stride=(1, 1), padding=(1, 1), bias=False)\n",
       "  (48): BatchNorm2d(512, eps=1e-05, momentum=0.1, affine=True, track_running_stats=True)\n",
       "), Sequential(\n",
       "  (0): AdaptiveAvgPool2d(output_size=1)\n",
       "  (1): AdaptiveMaxPool2d(output_size=1)\n",
       "  (2): Flatten()\n",
       "  (3): BatchNorm1d(1024, eps=1e-05, momentum=0.1, affine=True, track_running_stats=True)\n",
       "  (4): Dropout(p=0.25)\n",
       "  (5): Linear(in_features=1024, out_features=512, bias=True)\n",
       "  (6): ReLU(inplace)\n",
       "  (7): BatchNorm1d(512, eps=1e-05, momentum=0.1, affine=True, track_running_stats=True)\n",
       "  (8): Dropout(p=0.5)\n",
       "  (9): Linear(in_features=512, out_features=4, bias=True)\n",
       ")])"
      ]
     },
     "execution_count": 26,
     "metadata": {},
     "output_type": "execute_result"
    }
   ],
   "source": [
    "learn.load('stage-2')"
   ]
  },
  {
   "cell_type": "code",
   "execution_count": 27,
   "metadata": {},
   "outputs": [],
   "source": [
    "interp = ClassificationInterpretation.from_learner(learn)"
   ]
  },
  {
   "cell_type": "code",
   "execution_count": 28,
   "metadata": {},
   "outputs": [
    {
     "data": {
      "image/png": "[encoded data removed]",
      "text/plain": [
       "<Figure size 432x288 with 1 Axes>"
      ]
     },
     "metadata": {
      "needs_background": "light"
     },
     "output_type": "display_data"
    }
   ],
   "source": [
    "interp.plot_confusion_matrix()"
   ]
  },
  {
   "cell_type": "code",
   "execution_count": 29,
   "metadata": {},
   "outputs": [],
   "source": [
    "learn.export()"
   ]
  },
  {
   "cell_type": "markdown",
   "metadata": {
    "colab_type": "text",
    "id": "_PtrWCsrIrZI"
   },
   "source": [
    "# Cleaning the Data\n"
   ]
  },
  {
   "cell_type": "code",
   "execution_count": 42,
   "metadata": {
    "colab": {},
    "colab_type": "code",
    "id": "c_EkkmMaIbfh"
   },
   "outputs": [],
   "source": [
    "from fastai.widgets import *\n"
   ]
  },
  {
   "cell_type": "code",
   "execution_count": 43,
   "metadata": {
    "colab": {},
    "colab_type": "code",
    "id": "8vK9RAFdIfaP"
   },
   "outputs": [],
   "source": [
    "ds, idxs = DatasetFormatter().from_toplosses(learn, ds_type=DatasetType.Train)"
   ]
  },
  {
   "cell_type": "code",
   "execution_count": 44,
   "metadata": {
    "colab": {},
    "colab_type": "code",
    "id": "dJo8wLaRO--k"
   },
   "outputs": [
    {
     "data": {
      "text/plain": [
       "'No images to show :)'"
      ]
     },
     "metadata": {},
     "output_type": "display_data"
    }
   ],
   "source": [
    "ImageCleaner(ds, idxs, path)"
   ]
  },
  {
   "cell_type": "code",
   "execution_count": 45,
   "metadata": {
    "colab": {},
    "colab_type": "code",
    "id": "V2dpRfQfIgMo"
   },
   "outputs": [
    {
     "name": "stdout",
     "output_type": "stream",
     "text": [
      "Getting activations...\n"
     ]
    },
    {
     "data": {
      "text/html": [
       "\n",
       "    <div>\n",
       "        <style>\n",
       "            /* Turns off some styling */\n",
       "            progress {\n",
       "                /* gets rid of default border in Firefox and Opera. */\n",
       "                border: none;\n",
       "                /* Needs to be in here for Safari polyfill so background images work as expected. */\n",
       "                background-size: auto;\n",
       "            }\n",
       "            .progress-bar-interrupted, .progress-bar-interrupted::-webkit-progress-bar {\n",
       "                background: #F44336;\n",
       "            }\n",
       "        </style>\n",
       "      <progress value='5' class='' max='5', style='width:300px; height:20px; vertical-align: middle;'></progress>\n",
       "      100.00% [5/5 00:04<00:00]\n",
       "    </div>\n",
       "    "
      ],
      "text/plain": [
       "<IPython.core.display.HTML object>"
      ]
     },
     "metadata": {},
     "output_type": "display_data"
    },
    {
     "name": "stdout",
     "output_type": "stream",
     "text": [
      "Computing similarities...\n"
     ]
    }
   ],
   "source": [
    "ds, idxs = DatasetFormatter().from_similars(learn, ds_type=DatasetType.Valid)\n"
   ]
  },
  {
   "cell_type": "code",
   "execution_count": 46,
   "metadata": {
    "colab": {},
    "colab_type": "code",
    "id": "pr635ey-IqVk"
   },
   "outputs": [
    {
     "data": {
      "text/plain": [
       "'No images to show :). 3 pairs were skipped since at least one of the images was deleted by the user.'"
      ]
     },
     "metadata": {},
     "output_type": "display_data"
    }
   ],
   "source": [
    "ImageCleaner(ds, idxs, path, duplicates=True)\n"
   ]
  },
  {
   "cell_type": "markdown",
   "metadata": {
    "colab_type": "text",
    "id": "KayDGo7FJC7r"
   },
   "source": [
    "Once you've cleaned the data, remake the DataBunch and retrain!"
   ]
  },
  {
   "cell_type": "markdown",
   "metadata": {
    "colab_type": "text",
    "id": "n7aPijgHxVeR"
   },
   "source": [
    "## Results"
   ]
  },
  {
   "cell_type": "markdown",
   "metadata": {
    "colab_type": "text",
    "id": "YuBnaYGdxVeU"
   },
   "source": [
    "Let's see what results we have got. \n",
    "\n",
    "We will first see which were the categories that the model most confused with one another. We will try to see if what the model predicted was reasonable or not. In this case the mistakes look reasonable (none of the mistakes seems obviously naive). This is an indicator that our classifier is working correctly. \n",
    "\n",
    "Furthermore, when we plot the confusion matrix, we can see that the distribution is heavily skewed: the model makes the same mistakes over and over again but it rarely confuses other categories. This suggests that it just finds it difficult to distinguish some specific categories between each other; this is normal behaviour."
   ]
  },
  {
   "cell_type": "code",
   "execution_count": null,
   "metadata": {
    "colab": {},
    "colab_type": "code",
    "id": "5LeVmqJ1xVeV",
    "outputId": "30a8c398-0911-4485-d119-662d886086fb"
   },
   "outputs": [],
   "source": [
    "interp = ClassificationInterpretation.from_learner(learn)\n",
    "\n",
    "losses,idxs = interp.top_losses()\n",
    "\n",
    "len(data.valid_ds)==len(losses)==len(idxs)"
   ]
  },
  {
   "cell_type": "code",
   "execution_count": null,
   "metadata": {
    "colab": {},
    "colab_type": "code",
    "id": "sf6F9H8OxVeY",
    "outputId": "c0597a12-338b-4a1f-accb-a00f737dbe95"
   },
   "outputs": [],
   "source": [
    "interp.plot_top_losses(9, figsize=(15,11))"
   ]
  },
  {
   "cell_type": "code",
   "execution_count": null,
   "metadata": {
    "colab": {},
    "colab_type": "code",
    "id": "z0nDPiX2xVea"
   },
   "outputs": [],
   "source": [
    "doc(interp.plot_top_losses)"
   ]
  },
  {
   "cell_type": "code",
   "execution_count": null,
   "metadata": {
    "colab": {},
    "colab_type": "code",
    "id": "BYHdpFraxVec",
    "outputId": "32831778-2bb1-400d-a86e-cfbe9cc9c7f9"
   },
   "outputs": [],
   "source": [
    "interp.plot_confusion_matrix(figsize=(12,12), dpi=60)"
   ]
  },
  {
   "cell_type": "code",
   "execution_count": null,
   "metadata": {
    "colab": {},
    "colab_type": "code",
    "id": "Dccl1ixlxVei",
    "outputId": "eead0761-c57a-4f33-8b45-9787e401c79a"
   },
   "outputs": [],
   "source": [
    "interp.most_confused(min_val=2)"
   ]
  },
  {
   "cell_type": "markdown",
   "metadata": {
    "colab_type": "text",
    "id": "coS6HKhUxVen"
   },
   "source": [
    "## Unfreezing, fine-tuning, and learning rates"
   ]
  },
  {
   "cell_type": "markdown",
   "metadata": {
    "colab_type": "text",
    "id": "u0nZidU6xVep"
   },
   "source": [
    "Since our model is working as we expect it to, we will *unfreeze* our model and train some more."
   ]
  },
  {
   "cell_type": "code",
   "execution_count": null,
   "metadata": {
    "colab": {},
    "colab_type": "code",
    "id": "k3c9AOODxVeq"
   },
   "outputs": [],
   "source": [
    "learn.unfreeze()"
   ]
  },
  {
   "cell_type": "code",
   "execution_count": null,
   "metadata": {
    "colab": {},
    "colab_type": "code",
    "id": "aCEN9s_JxVeu",
    "outputId": "ed4473e5-714b-493e-d6fb-1883e97b5261"
   },
   "outputs": [],
   "source": [
    "learn.fit_one_cycle(1)"
   ]
  },
  {
   "cell_type": "code",
   "execution_count": null,
   "metadata": {
    "colab": {},
    "colab_type": "code",
    "id": "W15Wv969xVe0"
   },
   "outputs": [],
   "source": [
    "learn.load('stage-1');"
   ]
  },
  {
   "cell_type": "code",
   "execution_count": null,
   "metadata": {
    "colab": {},
    "colab_type": "code",
    "id": "mIQMGT1FxVe2",
    "outputId": "023a4239-c6ec-4c6b-c38b-3d7c4edcb82f"
   },
   "outputs": [],
   "source": [
    "learn.lr_find()"
   ]
  },
  {
   "cell_type": "code",
   "execution_count": null,
   "metadata": {
    "colab": {},
    "colab_type": "code",
    "id": "WelAwDffxVe5",
    "outputId": "8cd97de3-8928-4fd3-e97c-a49ada855587"
   },
   "outputs": [],
   "source": [
    "learn.recorder.plot()"
   ]
  },
  {
   "cell_type": "code",
   "execution_count": null,
   "metadata": {
    "colab": {},
    "colab_type": "code",
    "id": "NXloEudJxVe8",
    "outputId": "ddbfa341-55ba-47f1-8424-5ce254b50e4c"
   },
   "outputs": [],
   "source": [
    "learn.unfreeze()\n",
    "learn.fit_one_cycle(2, max_lr=slice(1e-6,1e-4))"
   ]
  },
  {
   "cell_type": "markdown",
   "metadata": {
    "colab_type": "text",
    "id": "NwwAvUBXxVe-"
   },
   "source": [
    "That's a pretty accurate model!"
   ]
  },
  {
   "cell_type": "markdown",
   "metadata": {
    "colab_type": "text",
    "id": "14oXdnoUxVe_"
   },
   "source": [
    "## Training: resnet50"
   ]
  },
  {
   "cell_type": "markdown",
   "metadata": {
    "colab_type": "text",
    "id": "8AgnMO2xxVfB"
   },
   "source": [
    "Now we will train in the same way as before but with one caveat: instead of using resnet34 as our backbone we will use resnet50 (resnet34 is a 34 layer residual network while resnet50 has 50 layers. It will be explained later in the course and you can learn the details in the [resnet paper](https://arxiv.org/pdf/1512.03385.pdf)).\n",
    "\n",
    "Basically, resnet50 usually performs better because it is a deeper network with more parameters. Let's see if we can achieve a higher performance here. To help it along, let's us use larger images too, since that way the network can see more detail. We reduce the batch size a bit since otherwise this larger network will require more GPU memory."
   ]
  },
  {
   "cell_type": "code",
   "execution_count": null,
   "metadata": {
    "colab": {},
    "colab_type": "code",
    "id": "sdRaSBh2xVfC"
   },
   "outputs": [],
   "source": [
    "data = ImageDataBunch.from_name_re(path_img, fnames, pat, ds_tfms=get_transforms(),\n",
    "                                   size=299, bs=bs//2).normalize(imagenet_stats)"
   ]
  },
  {
   "cell_type": "code",
   "execution_count": null,
   "metadata": {
    "colab": {},
    "colab_type": "code",
    "id": "tdBFgppXxVfE"
   },
   "outputs": [],
   "source": [
    "learn = create_cnn(data, models.resnet50, metrics=error_rate)"
   ]
  },
  {
   "cell_type": "code",
   "execution_count": null,
   "metadata": {
    "colab": {},
    "colab_type": "code",
    "id": "39pb9ndzxVfG",
    "outputId": "98a8d46e-25db-4fac-fb99-a73bfe49a558"
   },
   "outputs": [],
   "source": [
    "learn.lr_find()\n",
    "learn.recorder.plot()"
   ]
  },
  {
   "cell_type": "code",
   "execution_count": null,
   "metadata": {
    "colab": {},
    "colab_type": "code",
    "id": "tscmYUH7xVfJ",
    "outputId": "58609e5f-d663-4b82-b8b2-1167f60feb91"
   },
   "outputs": [],
   "source": [
    "learn.fit_one_cycle(8)"
   ]
  },
  {
   "cell_type": "code",
   "execution_count": null,
   "metadata": {
    "colab": {},
    "colab_type": "code",
    "id": "EExzckJKxVfL"
   },
   "outputs": [],
   "source": [
    "learn.save('stage-1-50')"
   ]
  },
  {
   "cell_type": "markdown",
   "metadata": {
    "colab_type": "text",
    "id": "0L_LGF5QxVfR"
   },
   "source": [
    "It's astonishing that it's possible to recognize pet breeds so accurately! Let's see if full fine-tuning helps:"
   ]
  },
  {
   "cell_type": "code",
   "execution_count": null,
   "metadata": {
    "colab": {},
    "colab_type": "code",
    "id": "XwAJbdsNxVfT",
    "outputId": "894d2489-5b4e-442f-b862-e0996e405403"
   },
   "outputs": [],
   "source": [
    "learn.unfreeze()\n",
    "learn.fit_one_cycle(3, max_lr=slice(1e-6,1e-4))"
   ]
  },
  {
   "cell_type": "markdown",
   "metadata": {
    "colab_type": "text",
    "id": "yB7PSgExxVfY"
   },
   "source": [
    "If it doesn't, you can always go back to your previous model."
   ]
  },
  {
   "cell_type": "code",
   "execution_count": null,
   "metadata": {
    "colab": {},
    "colab_type": "code",
    "id": "eykL1cETxVfa"
   },
   "outputs": [],
   "source": [
    "learn.load('stage-1-50');"
   ]
  },
  {
   "cell_type": "code",
   "execution_count": null,
   "metadata": {
    "colab": {},
    "colab_type": "code",
    "id": "ePMmK4O_xVfc"
   },
   "outputs": [],
   "source": [
    "interp = ClassificationInterpretation.from_learner(learn)"
   ]
  },
  {
   "cell_type": "code",
   "execution_count": null,
   "metadata": {
    "colab": {},
    "colab_type": "code",
    "id": "2dvzezucxVfe",
    "outputId": "3fb3f867-9151-4247-a802-912093ec9ce0"
   },
   "outputs": [],
   "source": [
    "interp.most_confused(min_val=2)"
   ]
  },
  {
   "cell_type": "markdown",
   "metadata": {
    "colab_type": "text",
    "id": "zJHCYuAnxVfi"
   },
   "source": [
    "## Other data formats"
   ]
  },
  {
   "cell_type": "code",
   "execution_count": null,
   "metadata": {
    "colab": {},
    "colab_type": "code",
    "id": "Th8KnnkLxVfj",
    "outputId": "14477cb5-5f44-49c2-91b2-f3493c00a164"
   },
   "outputs": [],
   "source": [
    "path = untar_data(URLs.MNIST_SAMPLE); path"
   ]
  },
  {
   "cell_type": "code",
   "execution_count": null,
   "metadata": {
    "colab": {},
    "colab_type": "code",
    "id": "uAr1s3f-xVfl"
   },
   "outputs": [],
   "source": [
    "tfms = get_transforms(do_flip=False)\n",
    "data = ImageDataBunch.from_folder(path, ds_tfms=tfms, size=26)"
   ]
  },
  {
   "cell_type": "code",
   "execution_count": null,
   "metadata": {
    "colab": {},
    "colab_type": "code",
    "id": "8-rwbP-fxVfo",
    "outputId": "2a46fff8-0e18-4a66-963d-5814135cb21c"
   },
   "outputs": [],
   "source": [
    "data.show_batch(rows=3, figsize=(5,5))"
   ]
  },
  {
   "cell_type": "code",
   "execution_count": null,
   "metadata": {
    "colab": {},
    "colab_type": "code",
    "id": "hTsll4RvxVfv",
    "outputId": "95b3df67-2699-46f2-962e-5d304b007e5d"
   },
   "outputs": [],
   "source": [
    "learn = create_cnn(data, models.resnet18, metrics=accuracy)\n",
    "learn.fit(2)"
   ]
  },
  {
   "cell_type": "code",
   "execution_count": null,
   "metadata": {
    "colab": {},
    "colab_type": "code",
    "id": "rI51Ged-xVf3",
    "outputId": "2ae09706-6df9-4873-a2f5-99c3e29b5a59"
   },
   "outputs": [],
   "source": [
    "df = pd.read_csv(path/'labels.csv')\n",
    "df.head()"
   ]
  },
  {
   "cell_type": "code",
   "execution_count": null,
   "metadata": {
    "colab": {},
    "colab_type": "code",
    "id": "shmx9kkIxVf5"
   },
   "outputs": [],
   "source": [
    "data = ImageDataBunch.from_csv(path, ds_tfms=tfms, size=28)"
   ]
  },
  {
   "cell_type": "code",
   "execution_count": null,
   "metadata": {
    "colab": {},
    "colab_type": "code",
    "id": "gDN7fKuhxVf6",
    "outputId": "944e0f87-d060-4e8a-afd0-6526e4d48161"
   },
   "outputs": [],
   "source": [
    "data.show_batch(rows=3, figsize=(5,5))\n",
    "data.classes"
   ]
  },
  {
   "cell_type": "code",
   "execution_count": null,
   "metadata": {
    "colab": {},
    "colab_type": "code",
    "id": "dFyOa95cxVf9",
    "outputId": "be26581d-e74b-4930-f28e-70008f8b3c27"
   },
   "outputs": [],
   "source": [
    "data = ImageDataBunch.from_df(path, df, ds_tfms=tfms, size=24)\n",
    "data.classes"
   ]
  },
  {
   "cell_type": "code",
   "execution_count": null,
   "metadata": {
    "colab": {},
    "colab_type": "code",
    "id": "uPpwSbewxVf_",
    "outputId": "f70d11ef-3537-4571-a9c6-e118f9aedf7d"
   },
   "outputs": [],
   "source": [
    "fn_paths = [path/name for name in df['name']]; fn_paths[:2]"
   ]
  },
  {
   "cell_type": "code",
   "execution_count": null,
   "metadata": {
    "colab": {},
    "colab_type": "code",
    "id": "aYk_ZxcRxVgD",
    "outputId": "eeef566f-7695-4cfc-b7d7-cc6d46df896c"
   },
   "outputs": [],
   "source": [
    "pat = r\"/(\\d)/\\d+\\.png$\"\n",
    "data = ImageDataBunch.from_name_re(path, fn_paths, pat=pat, ds_tfms=tfms, size=24)\n",
    "data.classes"
   ]
  },
  {
   "cell_type": "code",
   "execution_count": null,
   "metadata": {
    "colab": {},
    "colab_type": "code",
    "id": "_TQ9qkEmxVgF",
    "outputId": "c4268780-f8cd-4c4c-bb2f-1a85ac04b626"
   },
   "outputs": [],
   "source": [
    "data = ImageDataBunch.from_name_func(path, fn_paths, ds_tfms=tfms, size=24,\n",
    "        label_func = lambda x: '3' if '/3/' in str(x) else '7')\n",
    "data.classes"
   ]
  },
  {
   "cell_type": "code",
   "execution_count": null,
   "metadata": {
    "colab": {},
    "colab_type": "code",
    "id": "WEyJCr4-xVgI",
    "outputId": "3ddcc13b-9350-46da-8fbc-67e637191f34"
   },
   "outputs": [],
   "source": [
    "labels = [('3' if '/3/' in str(x) else '7') for x in fn_paths]\n",
    "labels[:5]"
   ]
  },
  {
   "cell_type": "code",
   "execution_count": null,
   "metadata": {
    "colab": {},
    "colab_type": "code",
    "id": "1on90mXVxVgK",
    "outputId": "e582f31c-96aa-41e4-e705-711af56940f3"
   },
   "outputs": [],
   "source": [
    "data = ImageDataBunch.from_lists(path, fn_paths, labels=labels, ds_tfms=tfms, size=24)\n",
    "data.classes"
   ]
  },
  {
   "cell_type": "code",
   "execution_count": null,
   "metadata": {
    "colab": {},
    "colab_type": "code",
    "id": "VWV5nrPuxVgL"
   },
   "outputs": [],
   "source": []
  }
 ],
 "metadata": {
  "colab": {
   "collapsed_sections": [
    "n7aPijgHxVeR",
    "coS6HKhUxVen",
    "14oXdnoUxVe_",
    "zJHCYuAnxVfi"
   ],
   "name": "initial fastai model!",
   "provenance": [],
   "toc_visible": true,
   "version": "0.3.2"
  },
  "kernelspec": {
   "display_name": "Python 3",
   "language": "python",
   "name": "python3"
  },
  "language_info": {
   "codemirror_mode": {
    "name": "ipython",
    "version": 3
   },
   "file_extension": ".py",
   "mimetype": "text/x-python",
   "name": "python",
   "nbconvert_exporter": "python",
   "pygments_lexer": "ipython3",
   "version": "3.6.8"
  }
 },
 "nbformat": 4,
 "nbformat_minor": 1
}
